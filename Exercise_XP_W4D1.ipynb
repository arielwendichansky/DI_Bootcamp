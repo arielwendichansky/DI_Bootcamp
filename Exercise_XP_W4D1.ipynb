{
  "nbformat": 4,
  "nbformat_minor": 0,
  "metadata": {
    "colab": {
      "provenance": [],
      "toc_visible": true,
      "authorship_tag": "ABX9TyPCivjvPxvulMIaIgTGcVv1",
      "include_colab_link": true
    },
    "kernelspec": {
      "name": "python3",
      "display_name": "Python 3"
    },
    "language_info": {
      "name": "python"
    }
  },
  "cells": [
    {
      "cell_type": "markdown",
      "metadata": {
        "id": "view-in-github",
        "colab_type": "text"
      },
      "source": [
        "<a href=\"https://colab.research.google.com/github/arielwendichansky/DI_Bootcamp/blob/main/Exercise_XP_W4D1.ipynb\" target=\"_parent\"><img src=\"https://colab.research.google.com/assets/colab-badge.svg\" alt=\"Open In Colab\"/></a>"
      ]
    },
    {
      "cell_type": "code",
      "execution_count": 4,
      "metadata": {
        "id": "_k9_QSxsbhjO",
        "colab": {
          "base_uri": "https://localhost:8080/",
          "height": 90
        },
        "outputId": "34192bf0-31e2-4b22-96f8-aa3a4232fc8c"
      },
      "outputs": [
        {
          "output_type": "display_data",
          "data": {
            "text/plain": [
              "<IPython.core.display.HTML object>"
            ],
            "text/html": [
              "\n",
              "     <input type=\"file\" id=\"files-11c71bc3-3e7d-4a64-b2e2-2aecc3c4eeeb\" name=\"files[]\" multiple disabled\n",
              "        style=\"border:none\" />\n",
              "     <output id=\"result-11c71bc3-3e7d-4a64-b2e2-2aecc3c4eeeb\">\n",
              "      Upload widget is only available when the cell has been executed in the\n",
              "      current browser session. Please rerun this cell to enable.\n",
              "      </output>\n",
              "      <script>// Copyright 2017 Google LLC\n",
              "//\n",
              "// Licensed under the Apache License, Version 2.0 (the \"License\");\n",
              "// you may not use this file except in compliance with the License.\n",
              "// You may obtain a copy of the License at\n",
              "//\n",
              "//      http://www.apache.org/licenses/LICENSE-2.0\n",
              "//\n",
              "// Unless required by applicable law or agreed to in writing, software\n",
              "// distributed under the License is distributed on an \"AS IS\" BASIS,\n",
              "// WITHOUT WARRANTIES OR CONDITIONS OF ANY KIND, either express or implied.\n",
              "// See the License for the specific language governing permissions and\n",
              "// limitations under the License.\n",
              "\n",
              "/**\n",
              " * @fileoverview Helpers for google.colab Python module.\n",
              " */\n",
              "(function(scope) {\n",
              "function span(text, styleAttributes = {}) {\n",
              "  const element = document.createElement('span');\n",
              "  element.textContent = text;\n",
              "  for (const key of Object.keys(styleAttributes)) {\n",
              "    element.style[key] = styleAttributes[key];\n",
              "  }\n",
              "  return element;\n",
              "}\n",
              "\n",
              "// Max number of bytes which will be uploaded at a time.\n",
              "const MAX_PAYLOAD_SIZE = 100 * 1024;\n",
              "\n",
              "function _uploadFiles(inputId, outputId) {\n",
              "  const steps = uploadFilesStep(inputId, outputId);\n",
              "  const outputElement = document.getElementById(outputId);\n",
              "  // Cache steps on the outputElement to make it available for the next call\n",
              "  // to uploadFilesContinue from Python.\n",
              "  outputElement.steps = steps;\n",
              "\n",
              "  return _uploadFilesContinue(outputId);\n",
              "}\n",
              "\n",
              "// This is roughly an async generator (not supported in the browser yet),\n",
              "// where there are multiple asynchronous steps and the Python side is going\n",
              "// to poll for completion of each step.\n",
              "// This uses a Promise to block the python side on completion of each step,\n",
              "// then passes the result of the previous step as the input to the next step.\n",
              "function _uploadFilesContinue(outputId) {\n",
              "  const outputElement = document.getElementById(outputId);\n",
              "  const steps = outputElement.steps;\n",
              "\n",
              "  const next = steps.next(outputElement.lastPromiseValue);\n",
              "  return Promise.resolve(next.value.promise).then((value) => {\n",
              "    // Cache the last promise value to make it available to the next\n",
              "    // step of the generator.\n",
              "    outputElement.lastPromiseValue = value;\n",
              "    return next.value.response;\n",
              "  });\n",
              "}\n",
              "\n",
              "/**\n",
              " * Generator function which is called between each async step of the upload\n",
              " * process.\n",
              " * @param {string} inputId Element ID of the input file picker element.\n",
              " * @param {string} outputId Element ID of the output display.\n",
              " * @return {!Iterable<!Object>} Iterable of next steps.\n",
              " */\n",
              "function* uploadFilesStep(inputId, outputId) {\n",
              "  const inputElement = document.getElementById(inputId);\n",
              "  inputElement.disabled = false;\n",
              "\n",
              "  const outputElement = document.getElementById(outputId);\n",
              "  outputElement.innerHTML = '';\n",
              "\n",
              "  const pickedPromise = new Promise((resolve) => {\n",
              "    inputElement.addEventListener('change', (e) => {\n",
              "      resolve(e.target.files);\n",
              "    });\n",
              "  });\n",
              "\n",
              "  const cancel = document.createElement('button');\n",
              "  inputElement.parentElement.appendChild(cancel);\n",
              "  cancel.textContent = 'Cancel upload';\n",
              "  const cancelPromise = new Promise((resolve) => {\n",
              "    cancel.onclick = () => {\n",
              "      resolve(null);\n",
              "    };\n",
              "  });\n",
              "\n",
              "  // Wait for the user to pick the files.\n",
              "  const files = yield {\n",
              "    promise: Promise.race([pickedPromise, cancelPromise]),\n",
              "    response: {\n",
              "      action: 'starting',\n",
              "    }\n",
              "  };\n",
              "\n",
              "  cancel.remove();\n",
              "\n",
              "  // Disable the input element since further picks are not allowed.\n",
              "  inputElement.disabled = true;\n",
              "\n",
              "  if (!files) {\n",
              "    return {\n",
              "      response: {\n",
              "        action: 'complete',\n",
              "      }\n",
              "    };\n",
              "  }\n",
              "\n",
              "  for (const file of files) {\n",
              "    const li = document.createElement('li');\n",
              "    li.append(span(file.name, {fontWeight: 'bold'}));\n",
              "    li.append(span(\n",
              "        `(${file.type || 'n/a'}) - ${file.size} bytes, ` +\n",
              "        `last modified: ${\n",
              "            file.lastModifiedDate ? file.lastModifiedDate.toLocaleDateString() :\n",
              "                                    'n/a'} - `));\n",
              "    const percent = span('0% done');\n",
              "    li.appendChild(percent);\n",
              "\n",
              "    outputElement.appendChild(li);\n",
              "\n",
              "    const fileDataPromise = new Promise((resolve) => {\n",
              "      const reader = new FileReader();\n",
              "      reader.onload = (e) => {\n",
              "        resolve(e.target.result);\n",
              "      };\n",
              "      reader.readAsArrayBuffer(file);\n",
              "    });\n",
              "    // Wait for the data to be ready.\n",
              "    let fileData = yield {\n",
              "      promise: fileDataPromise,\n",
              "      response: {\n",
              "        action: 'continue',\n",
              "      }\n",
              "    };\n",
              "\n",
              "    // Use a chunked sending to avoid message size limits. See b/62115660.\n",
              "    let position = 0;\n",
              "    do {\n",
              "      const length = Math.min(fileData.byteLength - position, MAX_PAYLOAD_SIZE);\n",
              "      const chunk = new Uint8Array(fileData, position, length);\n",
              "      position += length;\n",
              "\n",
              "      const base64 = btoa(String.fromCharCode.apply(null, chunk));\n",
              "      yield {\n",
              "        response: {\n",
              "          action: 'append',\n",
              "          file: file.name,\n",
              "          data: base64,\n",
              "        },\n",
              "      };\n",
              "\n",
              "      let percentDone = fileData.byteLength === 0 ?\n",
              "          100 :\n",
              "          Math.round((position / fileData.byteLength) * 100);\n",
              "      percent.textContent = `${percentDone}% done`;\n",
              "\n",
              "    } while (position < fileData.byteLength);\n",
              "  }\n",
              "\n",
              "  // All done.\n",
              "  yield {\n",
              "    response: {\n",
              "      action: 'complete',\n",
              "    }\n",
              "  };\n",
              "}\n",
              "\n",
              "scope.google = scope.google || {};\n",
              "scope.google.colab = scope.google.colab || {};\n",
              "scope.google.colab._files = {\n",
              "  _uploadFiles,\n",
              "  _uploadFilesContinue,\n",
              "};\n",
              "})(self);\n",
              "</script> "
            ]
          },
          "metadata": {}
        },
        {
          "output_type": "stream",
          "name": "stdout",
          "text": [
            "Saving kaggle.json to kaggle.json\n"
          ]
        },
        {
          "output_type": "execute_result",
          "data": {
            "text/plain": [
              "{'kaggle.json': b'{\"username\":\"arielwendichansky\",\"key\":\"35f486beabeea6fcb79285bc7f95d018\"}'}"
            ]
          },
          "metadata": {},
          "execution_count": 4
        }
      ],
      "source": [
        " ! pip install -q kaggle\n",
        " from google.colab import files\n",
        "\n",
        "files.upload()\n"
      ]
    },
    {
      "cell_type": "code",
      "source": [
        "! mkdir ~/.kaggle\n",
        "\n",
        "! cp kaggle.json ~/.kaggle/"
      ],
      "metadata": {
        "colab": {
          "base_uri": "https://localhost:8080/"
        },
        "id": "DdAAvO0_dscF",
        "outputId": "0657420c-33ea-49eb-ced6-dfbbed382da7"
      },
      "execution_count": 20,
      "outputs": [
        {
          "output_type": "stream",
          "name": "stdout",
          "text": [
            "mkdir: cannot create directory ‘/root/.kaggle’: File exists\n"
          ]
        }
      ]
    },
    {
      "cell_type": "code",
      "source": [
        "! chmod 600 ~/.kaggle/kaggle.json"
      ],
      "metadata": {
        "id": "2BQYRj1qeaes"
      },
      "execution_count": 9,
      "outputs": []
    },
    {
      "cell_type": "code",
      "source": [
        "! kaggle datasets list"
      ],
      "metadata": {
        "colab": {
          "base_uri": "https://localhost:8080/"
        },
        "id": "RNi2lASPet_L",
        "outputId": "a4046de1-281f-4550-e0c3-ab054881c836"
      },
      "execution_count": 10,
      "outputs": [
        {
          "output_type": "stream",
          "name": "stdout",
          "text": [
            "Warning: Looks like you're using an outdated API Version, please consider updating (server 1.6.7 / client 1.5.16)\n",
            "ref                                                  title                                               size  lastUpdated          downloadCount  voteCount  usabilityRating  \n",
            "---------------------------------------------------  -------------------------------------------------  -----  -------------------  -------------  ---------  ---------------  \n",
            "sudarshan24byte/online-food-dataset                  Online Food Dataset                                  3KB  2024-03-02 18:50:30           9786        180  0.9411765        \n",
            "syedanwarafridi/vehicle-sales-data                   Vehicle Sales Data                                  19MB  2024-02-21 20:16:17          19322        338  1.0              \n",
            "julianoorlandi/spotify-top-songs-and-audio-features  Spotify Top Songs and Audio Features               526KB  2024-03-18 12:49:50           1323         26  1.0              \n",
            "bhavikjikadara/student-study-performance             Student Study Performance                            9KB  2024-03-07 06:14:09           5459         87  1.0              \n",
            "tarunrm09/climate-change-indicators                  Climate change Indicators                           34KB  2024-02-22 08:53:54           9280        177  1.0              \n",
            "arnavvvvv/spotify-music                              Top Spotify Songs                                   47KB  2024-03-06 05:20:29           6219         84  1.0              \n",
            "nbroad/gemma-rewrite-nbroad                          gemma-rewrite-nbroad                                 8MB  2024-03-03 04:52:39            948         76  1.0              \n",
            "anandshaw2001/movie-rating-dataset                   Movie Rating DataSet                                 2MB  2024-03-08 09:18:46           1341         24  1.0              \n",
            "ronaldonyango/global-suicide-rates-1990-to-2022      Suicide Rates & Socioeconomic Factors (1990 - 22)    2MB  2024-03-14 14:30:20           1954         23  1.0              \n",
            "sujalsuthar/airlines-reviews                         Airline Reviews Dataset                              3MB  2024-03-06 16:30:30           1642         28  1.0              \n",
            "murilozangari/jobs-and-salaries-in-data-field-2024   Jobs and Salaries in Data field 2024               127KB  2024-03-18 18:15:53           1449         27  0.9411765        \n",
            "ayushparwal2026/cars-dataset                         Cars Dataset                                       169KB  2024-03-11 16:23:49           2111         32  1.0              \n",
            "kanchana1990/global-news-engagement-on-social-media  Global News Engagement on Social Media             261KB  2024-03-15 05:12:13            993         24  1.0              \n",
            "thesnak/stock-market-analysis                        Stock Market Analysis                                6KB  2024-03-21 20:52:55            502         27  1.0              \n",
            "bhavikjikadara/mental-health-dataset                 Mental Health Dataset                                2MB  2024-03-18 06:05:16           1108         32  1.0              \n",
            "nartaa/features-head-starter-models                  Features+Head Starter Models                         3GB  2024-03-11 20:44:27            300         21  1.0              \n",
            "arnavvvvv/netflix-movies-and-tv-shows                Netflix Movies and TV Shows                          1MB  2024-03-04 15:49:29           4198         67  1.0              \n",
            "sandeepmistry2004/wpl-india-2024-complete-stats      WPL India 2024 (Complete stats)                     13KB  2024-03-20 00:42:39            423         26  1.0              \n",
            "bhavikjikadara/brand-laptops-dataset                 Brand Laptops Dataset                               28KB  2024-03-09 14:57:09           2449         45  1.0              \n",
            "richave/tortilla-prices-in-mexico                    Tortilla prices in Mexico                            1MB  2024-03-04 02:48:58            932         22  1.0              \n"
          ]
        }
      ]
    },
    {
      "cell_type": "code",
      "source": [
        "! kaggle datasets download -d thedevastator/how-much-sleep-do-americans-really-get"
      ],
      "metadata": {
        "colab": {
          "base_uri": "https://localhost:8080/"
        },
        "id": "z-uSW-7pfBGz",
        "outputId": "8aacfd2c-fec4-4f33-9230-5990f145775a"
      },
      "execution_count": 17,
      "outputs": [
        {
          "output_type": "stream",
          "name": "stdout",
          "text": [
            "how-much-sleep-do-americans-really-get.zip: Skipping, found more recently modified local copy (use --force to force download)\n"
          ]
        }
      ]
    },
    {
      "cell_type": "code",
      "source": [
        "!unzip how-much-sleep-do-americans-really-get.zip\n"
      ],
      "metadata": {
        "colab": {
          "base_uri": "https://localhost:8080/"
        },
        "id": "d5yclTdYgJJi",
        "outputId": "ccf1ff05-fc8a-43bf-c7ee-d0b1febc2264"
      },
      "execution_count": 21,
      "outputs": [
        {
          "output_type": "stream",
          "name": "stdout",
          "text": [
            "Archive:  how-much-sleep-do-americans-really-get.zip\n",
            "  inflating: Time Americans Spend Sleeping.csv  \n"
          ]
        }
      ]
    },
    {
      "cell_type": "code",
      "source": [
        "!pip install pandas\n"
      ],
      "metadata": {
        "colab": {
          "base_uri": "https://localhost:8080/"
        },
        "id": "jcBEuxVbgiP5",
        "outputId": "5f9ea362-083e-4fa6-f3bc-73d050efc979"
      },
      "execution_count": 19,
      "outputs": [
        {
          "output_type": "stream",
          "name": "stdout",
          "text": [
            "Requirement already satisfied: pandas in /usr/local/lib/python3.10/dist-packages (1.5.3)\n",
            "Requirement already satisfied: python-dateutil>=2.8.1 in /usr/local/lib/python3.10/dist-packages (from pandas) (2.8.2)\n",
            "Requirement already satisfied: pytz>=2020.1 in /usr/local/lib/python3.10/dist-packages (from pandas) (2023.4)\n",
            "Requirement already satisfied: numpy>=1.21.0 in /usr/local/lib/python3.10/dist-packages (from pandas) (1.25.2)\n",
            "Requirement already satisfied: six>=1.5 in /usr/local/lib/python3.10/dist-packages (from python-dateutil>=2.8.1->pandas) (1.16.0)\n"
          ]
        }
      ]
    },
    {
      "cell_type": "code",
      "source": [
        "import pandas as pd\n",
        "\n",
        "# Load CSV file into a pandas DataFrame\n",
        "df = pd.read_csv('Time Americans Spend Sleeping.csv')\n",
        "\n",
        "# Display the first few rows of the DataFrame\n",
        "print(df.head())"
      ],
      "metadata": {
        "colab": {
          "base_uri": "https://localhost:8080/"
        },
        "id": "c6TIg2tEiBvX",
        "outputId": "2b93140f-50eb-4b69-db81-d6024d2c4dce"
      },
      "execution_count": 22,
      "outputs": [
        {
          "output_type": "stream",
          "name": "stdout",
          "text": [
            "   index  Year  Period  Avg hrs per day sleeping  Standard Error Type of Days  \\\n",
            "0      0  2003  Annual                      8.57           0.018     All days   \n",
            "1      1  2004  Annual                      8.55           0.026     All days   \n",
            "2      2  2005  Annual                      8.62           0.023     All days   \n",
            "3      3  2006  Annual                      8.63           0.024     All days   \n",
            "4      4  2007  Annual                      8.57           0.024     All days   \n",
            "\n",
            "           Age Group  Activity   Sex  \n",
            "0  15 years and over  Sleeping  Both  \n",
            "1  15 years and over  Sleeping  Both  \n",
            "2  15 years and over  Sleeping  Both  \n",
            "3  15 years and over  Sleeping  Both  \n",
            "4  15 years and over  Sleeping  Both  \n"
          ]
        }
      ]
    },
    {
      "cell_type": "code",
      "source": [
        "# Display basic information about the DataFrame\n",
        "print(df.info())\n",
        "\n",
        "# Generate descriptive statistics for numerical columns\n",
        "print(df.describe())"
      ],
      "metadata": {
        "colab": {
          "base_uri": "https://localhost:8080/"
        },
        "id": "VCZM5iQ9id11",
        "outputId": "a7410192-1c1b-4088-d22b-7c4559f91be0"
      },
      "execution_count": 23,
      "outputs": [
        {
          "output_type": "stream",
          "name": "stdout",
          "text": [
            "<class 'pandas.core.frame.DataFrame'>\n",
            "RangeIndex: 945 entries, 0 to 944\n",
            "Data columns (total 9 columns):\n",
            " #   Column                    Non-Null Count  Dtype  \n",
            "---  ------                    --------------  -----  \n",
            " 0   index                     945 non-null    int64  \n",
            " 1   Year                      945 non-null    int64  \n",
            " 2   Period                    945 non-null    object \n",
            " 3   Avg hrs per day sleeping  945 non-null    float64\n",
            " 4   Standard Error            945 non-null    float64\n",
            " 5   Type of Days              945 non-null    object \n",
            " 6   Age Group                 945 non-null    object \n",
            " 7   Activity                  945 non-null    object \n",
            " 8   Sex                       945 non-null    object \n",
            "dtypes: float64(2), int64(2), object(5)\n",
            "memory usage: 66.6+ KB\n",
            "None\n",
            "            index         Year  Avg hrs per day sleeping  Standard Error\n",
            "count  945.000000   945.000000                945.000000      945.000000\n",
            "mean   472.000000  2010.000000                  8.806868        0.086958\n",
            "std    272.942302     4.322782                  0.545001        0.034631\n",
            "min      0.000000  2003.000000                  7.720000        0.018000\n",
            "25%    236.000000  2006.000000                  8.360000        0.063000\n",
            "50%    472.000000  2010.000000                  8.810000        0.084000\n",
            "75%    708.000000  2014.000000                  9.190000        0.106000\n",
            "max    944.000000  2017.000000                 10.650000        0.228000\n"
          ]
        }
      ]
    },
    {
      "cell_type": "code",
      "source": [],
      "metadata": {
        "id": "F5t5jAJH9kmr"
      },
      "execution_count": null,
      "outputs": []
    },
    {
      "cell_type": "markdown",
      "source": [
        "**Year ** -> quantitative, the year would represent a numerical value indicating the specific point in time when the data was collected\n",
        "\n",
        "**Period** -> qualitative, it shows just a quality related to the period when it was meassured.\n",
        "\n",
        "**Avg hrs per day sleeping** -> quantitative. It's a value that records the average number of hours people in the US sleep, it's a measure of time.\n",
        "\n",
        "**Standard Error** -> quantitative. Value, same as before.\n",
        "\n",
        "**Type of Days** -> qualitative. Description of when the measure was taken .\n",
        "\n",
        "**Age Group** -> qualitative. Description of the population taken to study.\n",
        "\n",
        "**Activity** -> qualitative. Description.\n",
        "\n",
        "**Sex** -> qualitative. Description of the individual."
      ],
      "metadata": {
        "id": "dpW-zTr7jxRg"
      }
    },
    {
      "cell_type": "code",
      "source": [
        "! kaggle datasets download -d uciml/iris"
      ],
      "metadata": {
        "colab": {
          "base_uri": "https://localhost:8080/"
        },
        "id": "NiNeSjYXoHLw",
        "outputId": "d1188853-509e-471a-fb17-5accdcf8a06c"
      },
      "execution_count": 26,
      "outputs": [
        {
          "output_type": "stream",
          "name": "stdout",
          "text": [
            "Downloading iris.zip to /content\n",
            "\r  0% 0.00/3.60k [00:00<?, ?B/s]\n",
            "\r100% 3.60k/3.60k [00:00<00:00, 6.22MB/s]\n"
          ]
        }
      ]
    },
    {
      "cell_type": "code",
      "source": [
        "!unzip iris.zip"
      ],
      "metadata": {
        "colab": {
          "base_uri": "https://localhost:8080/"
        },
        "id": "9SPNEch7uHYr",
        "outputId": "c84d64e6-e361-41b8-815f-d8f0abd3b425"
      },
      "execution_count": 27,
      "outputs": [
        {
          "output_type": "stream",
          "name": "stdout",
          "text": [
            "Archive:  iris.zip\n",
            "  inflating: Iris.csv                \n",
            "  inflating: database.sqlite         \n"
          ]
        }
      ]
    },
    {
      "cell_type": "code",
      "source": [
        "# Load CSV file into a pandas DataFrame\n",
        "df = pd.read_csv('Iris.csv')\n",
        "\n",
        "# Display the first few rows of the DataFrame\n",
        "print(df.head())"
      ],
      "metadata": {
        "colab": {
          "base_uri": "https://localhost:8080/"
        },
        "id": "FhC0wcEM2vZ9",
        "outputId": "2d5f461f-0cdd-4729-92d5-926610fae9ab"
      },
      "execution_count": 28,
      "outputs": [
        {
          "output_type": "stream",
          "name": "stdout",
          "text": [
            "   Id  SepalLengthCm  SepalWidthCm  PetalLengthCm  PetalWidthCm      Species\n",
            "0   1            5.1           3.5            1.4           0.2  Iris-setosa\n",
            "1   2            4.9           3.0            1.4           0.2  Iris-setosa\n",
            "2   3            4.7           3.2            1.3           0.2  Iris-setosa\n",
            "3   4            4.6           3.1            1.5           0.2  Iris-setosa\n",
            "4   5            5.0           3.6            1.4           0.2  Iris-setosa\n"
          ]
        }
      ]
    },
    {
      "cell_type": "code",
      "source": [
        "# Display basic information about the DataFrame\n",
        "print(df.info())\n",
        "\n",
        "# Generate descriptive statistics for numerical columns\n",
        "print(df.describe())"
      ],
      "metadata": {
        "colab": {
          "base_uri": "https://localhost:8080/"
        },
        "id": "So_L4Urv9mgN",
        "outputId": "90b0d90b-18ba-4d6c-eda8-9c29129cb15a"
      },
      "execution_count": 29,
      "outputs": [
        {
          "output_type": "stream",
          "name": "stdout",
          "text": [
            "<class 'pandas.core.frame.DataFrame'>\n",
            "RangeIndex: 150 entries, 0 to 149\n",
            "Data columns (total 6 columns):\n",
            " #   Column         Non-Null Count  Dtype  \n",
            "---  ------         --------------  -----  \n",
            " 0   Id             150 non-null    int64  \n",
            " 1   SepalLengthCm  150 non-null    float64\n",
            " 2   SepalWidthCm   150 non-null    float64\n",
            " 3   PetalLengthCm  150 non-null    float64\n",
            " 4   PetalWidthCm   150 non-null    float64\n",
            " 5   Species        150 non-null    object \n",
            "dtypes: float64(4), int64(1), object(1)\n",
            "memory usage: 7.2+ KB\n",
            "None\n",
            "               Id  SepalLengthCm  SepalWidthCm  PetalLengthCm  PetalWidthCm\n",
            "count  150.000000     150.000000    150.000000     150.000000    150.000000\n",
            "mean    75.500000       5.843333      3.054000       3.758667      1.198667\n",
            "std     43.445368       0.828066      0.433594       1.764420      0.763161\n",
            "min      1.000000       4.300000      2.000000       1.000000      0.100000\n",
            "25%     38.250000       5.100000      2.800000       1.600000      0.300000\n",
            "50%     75.500000       5.800000      3.000000       4.350000      1.300000\n",
            "75%    112.750000       6.400000      3.300000       5.100000      1.800000\n",
            "max    150.000000       7.900000      4.400000       6.900000      2.500000\n"
          ]
        }
      ]
    },
    {
      "cell_type": "markdown",
      "source": [
        "ID ,\n",
        "SepalLengthCm  \n",
        "SepalWidthCm\n",
        "PetalLengthCm\n",
        "PetalWidthCm\n",
        "Species -> quantitative\n",
        ".ipynb"
      ],
      "metadata": {
        "id": "uz9S_C7E-cdV"
      }
    }
  ]
}