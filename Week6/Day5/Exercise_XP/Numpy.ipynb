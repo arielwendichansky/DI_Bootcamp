{
  "nbformat": 4,
  "nbformat_minor": 0,
  "metadata": {
    "colab": {
      "provenance": [],
      "authorship_tag": "ABX9TyOscvbJ5iyRz/2glokI4Sap",
      "include_colab_link": true
    },
    "kernelspec": {
      "name": "python3",
      "display_name": "Python 3"
    },
    "language_info": {
      "name": "python"
    }
  },
  "cells": [
    {
      "cell_type": "markdown",
      "metadata": {
        "id": "view-in-github",
        "colab_type": "text"
      },
      "source": [
        "<a href=\"https://colab.research.google.com/github/arielwendichansky/DI_Bootcamp/blob/master/Week6/Day5/Exercise_XP/Numpy.ipynb\" target=\"_parent\"><img src=\"https://colab.research.google.com/assets/colab-badge.svg\" alt=\"Open In Colab\"/></a>"
      ]
    },
    {
      "cell_type": "code",
      "execution_count": null,
      "metadata": {
        "id": "i2E63XSyQo2j"
      },
      "outputs": [],
      "source": [
        "! pip install numpy\n",
        "import numpy as np"
      ]
    },
    {
      "cell_type": "markdown",
      "source": [
        "#🌟 Exercise 1 : Array Creation And Manipulation\n"
      ],
      "metadata": {
        "id": "pA0gb-qsRBQw"
      }
    },
    {
      "cell_type": "code",
      "source": [
        "array = np.array([0, 1, 2, 3, 4, 5, 6, 7, 8, 9])\n",
        "array"
      ],
      "metadata": {
        "colab": {
          "base_uri": "https://localhost:8080/"
        },
        "id": "_eBcWu7MSJNK",
        "outputId": "b498a87f-fdd4-428c-d0be-d4d6b754dd44"
      },
      "execution_count": 9,
      "outputs": [
        {
          "output_type": "execute_result",
          "data": {
            "text/plain": [
              "array([0, 1, 2, 3, 4, 5, 6, 7, 8, 9])"
            ]
          },
          "metadata": {},
          "execution_count": 9
        }
      ]
    },
    {
      "cell_type": "markdown",
      "source": [
        "#🌟 Exercise 2 : Type Conversion And Array Operations\n",
        "Convert a list [3.14, 2.17, 0, 1, 2] into a NumPy array and convert its data type to integer.\n",
        "\n"
      ],
      "metadata": {
        "id": "u1ybFJuqSavl"
      }
    },
    {
      "cell_type": "code",
      "source": [
        "list_1 = [3.14, 2.17, 0, 1, 2]\n",
        "array = np.array(list_1)\n",
        "print(array)\n",
        "print(array.dtype)\n",
        "array = array.astype(np.uint8)\n",
        "array"
      ],
      "metadata": {
        "colab": {
          "base_uri": "https://localhost:8080/"
        },
        "id": "uqpjaXj-SpEs",
        "outputId": "8632472e-6d26-4296-8806-3999936df319"
      },
      "execution_count": 10,
      "outputs": [
        {
          "output_type": "stream",
          "name": "stdout",
          "text": [
            "[3.14 2.17 0.   1.   2.  ]\n",
            "float64\n"
          ]
        },
        {
          "output_type": "execute_result",
          "data": {
            "text/plain": [
              "array([3, 2, 0, 1, 2], dtype=uint8)"
            ]
          },
          "metadata": {},
          "execution_count": 10
        }
      ]
    },
    {
      "cell_type": "markdown",
      "source": [
        "# 🌟 Exercise 3 : Working With Multi-Dimensional Arrays\n",
        "Create a 3x3 NumPy array with values ranging from 1 to 9.\n",
        "\n"
      ],
      "metadata": {
        "id": "yLl8cOKiTwlo"
      }
    },
    {
      "cell_type": "code",
      "source": [
        "matrix = np.arange(1,10).reshape(3,3)\n",
        "matrix"
      ],
      "metadata": {
        "colab": {
          "base_uri": "https://localhost:8080/"
        },
        "id": "huyEDe1zT3a8",
        "outputId": "7b181cc6-d2b9-4bc0-f0ca-c3fd78973883"
      },
      "execution_count": 19,
      "outputs": [
        {
          "output_type": "execute_result",
          "data": {
            "text/plain": [
              "array([[1, 2, 3],\n",
              "       [4, 5, 6],\n",
              "       [7, 8, 9]])"
            ]
          },
          "metadata": {},
          "execution_count": 19
        }
      ]
    },
    {
      "cell_type": "markdown",
      "source": [
        "# 🌟 Exercise 4 : Creating Multi-Dimensional Array With Random Numbers\n",
        "Create a 2D NumPy array of shape (4, 5) filled with random numbers.\n",
        "\n"
      ],
      "metadata": {
        "id": "oWoX6ZSgWBVT"
      }
    },
    {
      "cell_type": "code",
      "source": [
        "array_2d = np.random.rand(1,20).reshape(4,5)\n",
        "array_2d"
      ],
      "metadata": {
        "colab": {
          "base_uri": "https://localhost:8080/"
        },
        "id": "tSssp8QnWGwV",
        "outputId": "b42c2e9a-b6e0-4b43-e6d7-27688973f95f"
      },
      "execution_count": 40,
      "outputs": [
        {
          "output_type": "execute_result",
          "data": {
            "text/plain": [
              "array([[0.69039486, 0.44707318, 0.14860725, 0.38175771, 0.8406021 ],\n",
              "       [0.31492423, 0.61102529, 0.69771122, 0.2268385 , 0.40848971],\n",
              "       [0.99345337, 0.99035271, 0.62982381, 0.03960141, 0.18673759],\n",
              "       [0.83744435, 0.04563366, 0.15560808, 0.43561503, 0.06126573]])"
            ]
          },
          "metadata": {},
          "execution_count": 40
        }
      ]
    },
    {
      "cell_type": "markdown",
      "source": [
        "#🌟 Exercise 5 : Indexing Arrays\n",
        "Select the second row from a given 2D NumPy array.\n",
        "\n"
      ],
      "metadata": {
        "id": "MV5yxaxebsUJ"
      }
    },
    {
      "cell_type": "code",
      "source": [
        "select = array_2d[2]\n",
        "select"
      ],
      "metadata": {
        "colab": {
          "base_uri": "https://localhost:8080/"
        },
        "id": "iT8Ai2lrcLaC",
        "outputId": "a6686055-fbe7-4c6c-d3bb-2d6762a20a1b"
      },
      "execution_count": 43,
      "outputs": [
        {
          "output_type": "execute_result",
          "data": {
            "text/plain": [
              "array([0.99345337, 0.99035271, 0.62982381, 0.03960141, 0.18673759])"
            ]
          },
          "metadata": {},
          "execution_count": 43
        }
      ]
    },
    {
      "cell_type": "markdown",
      "source": [
        "# 🌟 Exercise 6 : Reversing Elements\n",
        "Reverse the order of elements in a given 1D NumPy array (first element becomes last).\n",
        "\n"
      ],
      "metadata": {
        "id": "JDjrASSscgPd"
      }
    },
    {
      "cell_type": "code",
      "source": [
        "array = np.arange(10)\n",
        "reverse_array=array [::-1]\n",
        "reverse_array"
      ],
      "metadata": {
        "colab": {
          "base_uri": "https://localhost:8080/"
        },
        "id": "vLinyb_lcnC_",
        "outputId": "b18a940d-0bde-4952-ca8b-dfc23d1b99ca"
      },
      "execution_count": 48,
      "outputs": [
        {
          "output_type": "execute_result",
          "data": {
            "text/plain": [
              "array([9, 8, 7, 6, 5, 4, 3, 2, 1, 0])"
            ]
          },
          "metadata": {},
          "execution_count": 48
        }
      ]
    },
    {
      "cell_type": "markdown",
      "source": [
        "#🌟 Exercise 7 : Identity Matrix\n",
        "Create a 4x4 identity matrix using NumPy.\n",
        "\n"
      ],
      "metadata": {
        "id": "uIvJaBgneDyh"
      }
    },
    {
      "cell_type": "code",
      "source": [
        "array_4 = np.eye(4)\n",
        "array_4"
      ],
      "metadata": {
        "colab": {
          "base_uri": "https://localhost:8080/"
        },
        "id": "KAXYfBm9eKnw",
        "outputId": "21c76322-0a11-45e8-bd34-cf47469d23e7"
      },
      "execution_count": 52,
      "outputs": [
        {
          "output_type": "execute_result",
          "data": {
            "text/plain": [
              "array([[1., 0., 0., 0.],\n",
              "       [0., 1., 0., 0.],\n",
              "       [0., 0., 1., 0.],\n",
              "       [0., 0., 0., 1.]])"
            ]
          },
          "metadata": {},
          "execution_count": 52
        }
      ]
    },
    {
      "cell_type": "markdown",
      "source": [
        "#🌟 Exercise 8 : Simple Aggregate Funcs\n",
        "Find the sum and average of a given 1D array.\n",
        "\n"
      ],
      "metadata": {
        "id": "JZZmXM3qfZYo"
      }
    },
    {
      "cell_type": "code",
      "source": [
        "print(\"Mean:\", np.mean(array))\n",
        "print(\"Sum:\", np.sum(array))"
      ],
      "metadata": {
        "id": "Nk1cbDxMfWUq",
        "outputId": "7f2a1943-58b7-4e49-ea3a-f8c30d1be79b",
        "colab": {
          "base_uri": "https://localhost:8080/"
        }
      },
      "execution_count": 53,
      "outputs": [
        {
          "output_type": "stream",
          "name": "stdout",
          "text": [
            "Mean: 4.5\n",
            "Sum: 45\n"
          ]
        }
      ]
    },
    {
      "cell_type": "markdown",
      "source": [
        "# 🌟 Exercise 9 : Create Array And Change Its Structure\n",
        "Create a NumPy array with elements from 1 to 20; then reshape it into a 4x5 matrix.\n",
        "\n"
      ],
      "metadata": {
        "id": "_if9UQYAftwn"
      }
    },
    {
      "cell_type": "code",
      "source": [
        "matrix = np.random.randint(1,20, size = (1,20))\n",
        "matrix.reshape(4,5)"
      ],
      "metadata": {
        "id": "aWDr_Zunfy8c",
        "outputId": "e69fae42-92e8-4797-ab91-5a00b9136276",
        "colab": {
          "base_uri": "https://localhost:8080/"
        }
      },
      "execution_count": 59,
      "outputs": [
        {
          "output_type": "execute_result",
          "data": {
            "text/plain": [
              "array([[13, 11, 16, 18,  5],\n",
              "       [18,  8,  3, 14, 14],\n",
              "       [19,  4, 11,  2, 11],\n",
              "       [ 3, 10, 13, 13,  7]])"
            ]
          },
          "metadata": {},
          "execution_count": 59
        }
      ]
    },
    {
      "cell_type": "markdown",
      "source": [
        "#🌟 Exercise 10 : Conditional Selection Of Values\n",
        "Extract all odd numbers from a given NumPy array.\n",
        "\n"
      ],
      "metadata": {
        "id": "rcFZhnEagioM"
      }
    },
    {
      "cell_type": "code",
      "source": [
        "result = array[array % 2 != 0]\n",
        "result"
      ],
      "metadata": {
        "id": "vsjbIX4agiCz",
        "outputId": "cff20245-5396-4f52-bbe8-951edc63b1bd",
        "colab": {
          "base_uri": "https://localhost:8080/"
        }
      },
      "execution_count": 61,
      "outputs": [
        {
          "output_type": "execute_result",
          "data": {
            "text/plain": [
              "array([1, 3, 5, 7, 9])"
            ]
          },
          "metadata": {},
          "execution_count": 61
        }
      ]
    }
  ]
}