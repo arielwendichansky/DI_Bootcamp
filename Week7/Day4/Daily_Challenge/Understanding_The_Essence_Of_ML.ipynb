{
  "nbformat": 4,
  "nbformat_minor": 0,
  "metadata": {
    "colab": {
      "provenance": [],
      "authorship_tag": "ABX9TyPcdjgEILrThotdkSusRCWH",
      "include_colab_link": true
    },
    "kernelspec": {
      "name": "python3",
      "display_name": "Python 3"
    },
    "language_info": {
      "name": "python"
    }
  },
  "cells": [
    {
      "cell_type": "markdown",
      "metadata": {
        "id": "view-in-github",
        "colab_type": "text"
      },
      "source": [
        "<a href=\"https://colab.research.google.com/github/arielwendichansky/DI_Bootcamp/blob/master/Week7/Day4/Daily_Challenge/Understanding_The_Essence_Of_ML.ipynb\" target=\"_parent\"><img src=\"https://colab.research.google.com/assets/colab-badge.svg\" alt=\"Open In Colab\"/></a>"
      ]
    },
    {
      "cell_type": "markdown",
      "source": [
        "# Task\n",
        "* Write a brief summary explaining the basics of Machine Learning and why it is important for data analysts.\n",
        "\n",
        "* Discuss the applications of Machine Learning across different industries, providing at least three specific examples.\n",
        "\n",
        "* Create a section in your document that clearly differentiates between Supervised, Unsupervised, and Reinforcement Learning.\n",
        "\n",
        "* For each type, provide a brief definition and an example scenario where that type of machine learning is typically applied.\n",
        "\n",
        "* Describe the process of developing a machine learning model. Focus on three main stages: Feature Selection, Model Selection, and Model Evaluation."
      ],
      "metadata": {
        "id": "t3XzmfjZ4-_2"
      }
    },
    {
      "cell_type": "markdown",
      "source": [
        "# Basics of Machine Learning"
      ],
      "metadata": {
        "id": "dXcBK5yMjb0U"
      }
    },
    {
      "cell_type": "markdown",
      "source": [
        "ML offers a new way to solve problems, answer complex questions, and create new content, ML in simple words, is the process of training a piece of software, called a model, to make useful predictions or generate content from data.\n",
        "\n",
        "Machine learning is a subset of artificial intelligence (AI) that utilizes algorithms to break down vast amounts of data. Through the development of these algorithms and models, computers can effectively “learn” and make predictions or decisions without being explicitly programmed. Machine learning essentially supports the design and development of systems that will automatically transform and be improved with the introduction of data or through experience.\n",
        "\n",
        "Unlike traditional programming where a computer scientist writes specific directions for the computer to follow, machine learning is based on the computer’s “learned” conclusions. In other words, computers are trained in hand with large amounts of data and actually learn based on the patterns and relationships found within that data.\n",
        "\n",
        "There are different kind of ML systems categories based on how they learn to make predictions or generate content:\n",
        "\n",
        "* Supervised learning\n",
        "* Unsupervised learning\n",
        "* Reinforcement learning\n",
        "* Generative AI\n",
        "\n",
        "In many ways, data analysts and machine learning engineers rely on one another in order to gain a deeper understanding of data. Data analysts carry out the first step of conducting statistical analysis, and from those insights, a machine learning engineer creates models and machine learning systems that scale data, test hypotheses, and ultimately extract deeper insights from data.\n",
        "\n",
        "\n"
      ],
      "metadata": {
        "id": "lMcD_TYw5OOf"
      }
    },
    {
      "cell_type": "markdown",
      "source": [
        "# Applications of Machine Learning across different industries\n"
      ],
      "metadata": {
        "id": "Jlc3YWK_Qudv"
      }
    },
    {
      "cell_type": "markdown",
      "source": [
        "* In manufacturing, machine learning can be used for quality control, automation and customization. For example, machine learning can be used to detect defects in products before they reach consumers. It can also be used to automate repetitive tasks such as assembly line work.\n",
        "\n",
        "* In retail, machine learning can be used for data analysis to help businesses make better decisions about inventory and pricing. Personalization will become more common, with retailers using machine learning to recommend products to customers based on their past behavior.\n",
        "\n",
        "* In healthcare, machine learning can be used for diagnostics, treatment and prevention. For example, machine learning can be used to diagnose diseases earlier and more accurately. It can also be used to develop personalized treatments based on a patient's characteristics. Machine learning can also be used for preventative care, such as identifying risk factors for disease and providing tailored recommendations for healthy living."
      ],
      "metadata": {
        "id": "0smOFQ4ADxqm"
      }
    },
    {
      "cell_type": "markdown",
      "source": [
        " # Difference between Supervised, Unsupervised, and Reinforcement Learning + example"
      ],
      "metadata": {
        "id": "yFXjpM5-U-uf"
      }
    },
    {
      "cell_type": "markdown",
      "source": [
        "Supervised learning maps labelled data to known output. Whereas, Unsupervised Learning explore patterns and predict the output. Reinforcement Learning follows a trial and error method."
      ],
      "metadata": {
        "id": "a7vfSL2GVCja"
      }
    },
    {
      "cell_type": "markdown",
      "source": [
        "Criteria *\tSupervised ML *\tUnsupervised ML\t * Reinforcement ML\n",
        "\n",
        "---\n",
        "\n",
        "Definition *\tLearns by using labelled data *\tTrained using unlabelled data without any guidance. * \tWorks on interacting with the environment\n",
        "\n",
        "---\n",
        "\n",
        "Type of data *\tLabelled data *\tUnlabelled data *\tNo – predefined data\n",
        "\n",
        "---\n",
        "\n",
        "Type of problems\t* Regression and classification\t* Association and Clustering *\tExploitation or Exploration\n",
        "\n",
        "---\n",
        "Supervision *\tExtra supervision *\tNo supervision *\tNo supervision\n",
        "\n",
        "---\n",
        "Algorithms *\tLinear Regression, Logistic Regression, SVM, KNN etc. *\tK – Means,\n",
        "C – Means, Apriori\t*  Q – Learning,\n",
        "SARSA\n",
        "\n",
        "---\n",
        "\n",
        "Aim *\tCalculate outcomes *\tDiscover underlying patterns\t* Learn a series of action\n",
        "\n",
        "---\n",
        "\n",
        "Application\tRisk Evaluation, Forecast Sales *\tRecommendation System, Anomaly Detection *\tSelf Driving Cars, Gaming, Healthcare\n",
        "\n",
        "\n"
      ],
      "metadata": {
        "id": "A2hDKBo4mHch"
      }
    },
    {
      "cell_type": "markdown",
      "source": [
        "# Machine learning model process\n"
      ],
      "metadata": {
        "id": "B5w7aQnX6z08"
      }
    },
    {
      "cell_type": "markdown",
      "source": [
        "\n",
        "* Step 1 Feature Selection:\n",
        "\n",
        "Definition: Feature selection involves choosing the most relevant features from the dataset to use for model training. This step helps improve model performance, reduce overfitting, and enhance interpretability.\n",
        "\n",
        "Techniques: Common techniques for feature selection include correlation analysis, feature importance ranking using methods like Random Forest or XGBoost, univariate feature selection, and model-based selection methods like Lasso regression.\n",
        "\n",
        "Process: Analyze the dataset to identify features that are likely to have predictive power. Use appropriate techniques to select the subset of features that best contribute to the model's performance.\n",
        "\n",
        "* Step 2 Model Selection:\n",
        "\n",
        "Definition: Model selection involves choosing the appropriate machine learning algorithm or ensemble of algorithms to train on the dataset.\n",
        "\n",
        "Considerations: Factors to consider when selecting a model include the type of problem (classification, regression, clustering, etc.), the size and nature of the dataset, computational resources, interpretability requirements, and the desired level of model complexity.\n",
        "\n",
        "Evaluation: Evaluate multiple algorithms using techniques such as cross-validation, grid search, or randomized search to find the model that performs best on the validation dataset.\n",
        "\n",
        "* Step  3 Model Evaluation:\n",
        "\n",
        "Definition: Model evaluation assesses the performance of the trained model on unseen data to gauge its generalization ability.\n",
        "\n",
        "Metrics: Common evaluation metrics depend on the type of problem and can include accuracy, precision, recall, F1-score for classification tasks, Mean Absolute Error (MAE), Mean Squared Error (MSE), or R-squared for regression tasks, and clustering evaluation metrics like silhouette score for clustering tasks.\n",
        "\n",
        "Validation: Split the dataset into training and validation sets or use techniques like cross-validation to evaluate the model's performance on data it hasn't seen during training.\n",
        "\n",
        "Interpretation: Analyze the model's performance metrics to understand its strengths, weaknesses, and areas for improvement.\n",
        "\n",
        "* Step 4: Feature Selection\n",
        "\n",
        "* Step 5: Choosing a Model\n",
        "\n",
        "* Step 6: Model Training\n",
        "\n",
        "* Step 7: Model Evaluation\n",
        "\n",
        "* Step 8: Model Improvement"
      ],
      "metadata": {
        "id": "yVQDKbtR6zpG"
      }
    }
  ]
}