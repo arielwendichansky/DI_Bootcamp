{
  "nbformat": 4,
  "nbformat_minor": 0,
  "metadata": {
    "colab": {
      "provenance": [],
      "authorship_tag": "ABX9TyNS0VWAKpYvfma0Pgbrqo1D",
      "include_colab_link": true
    },
    "kernelspec": {
      "name": "python3",
      "display_name": "Python 3"
    },
    "language_info": {
      "name": "python"
    }
  },
  "cells": [
    {
      "cell_type": "markdown",
      "metadata": {
        "id": "view-in-github",
        "colab_type": "text"
      },
      "source": [
        "<a href=\"https://colab.research.google.com/github/arielwendichansky/DI_Bootcamp/blob/master/Week7/Day4/Exercise_XP/Exercise_XP.ipynb\" target=\"_parent\"><img src=\"https://colab.research.google.com/assets/colab-badge.svg\" alt=\"Open In Colab\"/></a>"
      ]
    },
    {
      "cell_type": "markdown",
      "source": [
        "#🌟 Exercise 1 : Defining The Problem And Data Collection For Loan Default Prediction\n",
        "\n",
        "\n",
        "Write a clear problem statement for predicting loan defaults.\n",
        "\n",
        "Identify and list the types of data you would need for this project (e.g., personal details of applicants, credit scores, loan amounts, repayment history).\n",
        "\n",
        "Discuss the sources where you can collect this data (e.g., financial institution’s internal records, credit bureaus)."
      ],
      "metadata": {
        "id": "vvtQsUKrQNSO"
      }
    },
    {
      "cell_type": "markdown",
      "source": [
        "Machine learning model process:\n",
        "\n",
        "Step 1: Define the Problem\n",
        "\n",
        "Step 2: Data Collection\n",
        "\n",
        "Step 3: Data Preparation\n",
        "\n",
        "Step 4: Feature Selection\n",
        "\n",
        "Step 5: Choosing a Model\n",
        "\n",
        "Step 6: Model Training\n",
        "\n",
        "Step 7: Model Evaluation\n",
        "\n",
        "Step 8: Model Improvement"
      ],
      "metadata": {
        "id": "gwqOee9odiW7"
      }
    },
    {
      "cell_type": "markdown",
      "source": [
        "1.\tUnderstanding the problem\n",
        "\n",
        "Predict if the applicant will be able to receive or not a loan based on their financial history, credit scores, and others.\n",
        "Predict the loan default accurately for the bank to minimize risks and optimize decision-making.\n",
        "\n",
        "2.\tData Collection.\n",
        "\n",
        "There are differnt factors to be considered that should be collected in order  to approve or not the profile who is applying for a loan, these can be:\n",
        "\n",
        "* Applicant demographics (age, gender, marital status, education, employment)\n",
        "* Financial info (income, debt, credit score, liabilities , assets)\n",
        "* Loan details (amount, interest rate, lenght, type of loan)\n",
        "* Financial behavior (savings, spending, punctuality when payment)\n",
        "* External factor (economic data, inflation rates, market trends, others)\n",
        "\n",
        "3.\tWhere to collect this data\n",
        "\n",
        "The data that can be relevant for the banks can be find from different sources such as:\n",
        "\n",
        "* Governmental institutions\n",
        "* Credit bureaus\n",
        "* Social medias (i.e. LinkedIn)\n",
        "* Financial institutions\n",
        "* Employment services"
      ],
      "metadata": {
        "id": "Q_LoI8k3RkTV"
      }
    },
    {
      "cell_type": "markdown",
      "source": [
        "#🌟 Exercise 2 : Feature Selection And Model Choice For Loan Default Prediction\n",
        "\n",
        "\n",
        "From a given dataset (assume columns like age, income, loan amount, repayment history, credit score, etc.), identify which features might be most relevant for predicting loan defaults.\n",
        "\n",
        "Justify your choice of features."
      ],
      "metadata": {
        "id": "Kx5rkL0_dTsX"
      }
    },
    {
      "cell_type": "markdown",
      "source": [
        "Some of the features I would choose are:\n",
        "\n",
        "* Repayment History: Assessing the applicant's past loan repayment behavior provides insight into their reliability in meeting financial obligations. A negative repayment history suggests a higher risk of delayed or missed payments.\n",
        "\n",
        "* Credit Score: The credit score serves as a measure of the applicant's creditworthiness. A higher credit score indicates lower risk, as it reflects a positive credit history and responsible financial management, while a lower score suggests higher risk.\n",
        "\n",
        "* Income: Evaluating the applicant's income helps determine their ability to repay the loan. It ensures that the loan amount requested aligns with their financial capacity, allowing them to manage the debt responsibly with their existing income.\n",
        "\n",
        "* Loan Amount: The size of the loan influences the borrower's repayment capability. A larger loan amount may increase the financial burden and risk of default if it exceeds the borrower's capacity to repay based on their income and financial situation.\n",
        "\n",
        "* Age: Age provides context for financial stability and responsibility. Older individuals may demonstrate greater stability and financial maturity, but it's also important to consider factors such as income level and employment status, as they vary with age.\n",
        "\n",
        "* Purpose of Loan: Understanding the purpose of the loan ensures that it aligns with the borrower's financial goals and capabilities. It helps assess the viability of the loan and whether it serves a productive or risky financial purpose.\n",
        "\n",
        "\n",
        "\n",
        "\n",
        "\n",
        "\n"
      ],
      "metadata": {
        "id": "4AfDwEUSivUB"
      }
    },
    {
      "cell_type": "markdown",
      "source": [
        "# 🌟 Exercise 3 : Training, Evaluating, And Optimizing The Model\n",
        "\n",
        "Outline the steps to evaluate the model’s performance, mentioning specific metrics (like accuracy, precision, recall) that would be relevant for this problem.\n",
        "\n"
      ],
      "metadata": {
        "id": "fiNT_5vVlSyM"
      }
    },
    {
      "cell_type": "markdown",
      "source": [
        "Some of the metrics I would choose to measure my model can be:\n",
        "\n",
        "* Number of loans provided and fully repaid It indicates the model's effectiveness in identifying low-risk borrowers.\n",
        "\n",
        "* Model precission: Measuring the total number of fully repaid loans over the total loans approved.\n",
        "\n",
        "* Revenue earned by the company with the loans provided:  It considers not only the repayment of the loans but also the interest and fees earned by the company.\n",
        "\n",
        "* Precision in the context of loans approved despite model recommendation: It measures the proportion of loans approved by bankers despite being flagged as risky by the model, providing insights into the model's interpretability and acceptance by human decision-makers.\n",
        "\n",
        "* ROC curve: plots the true positive rate against the false positive rate at various threshold settings. It measures the model's ability to discriminate between positive and negative cases across all possible thresholds. A higher ROC AUC indicates better overall performance."
      ],
      "metadata": {
        "id": "WMZZHo_clog0"
      }
    },
    {
      "cell_type": "markdown",
      "source": [
        "# 🌟 Exercise 4 : Designing Machine Learning Solutions For Specific Problems\n",
        "\n",
        "For each of these scenario, decide which type of machine learning would be most suitable. Explain.\n",
        "\n",
        "- Predicting Stock Prices : predict future prices\n",
        "\n",
        "- Organizing a Library of Books : group books into genres or categories based on similarities.\n",
        "\n",
        "- Program a robot to navigate and find the shortest path in a maze."
      ],
      "metadata": {
        "id": "QpCqRGjSlltc"
      }
    },
    {
      "cell_type": "markdown",
      "source": [
        "- Predicting Stock Prices: This is a Supervised Learning model, the dataset input is labaled as each one of the different prices histories for the different companies. The goal of this model is to predict how these stocks will change.\n",
        "\n",
        "- Organizing a Library of Books: This is an Unsupervised Learning model, because the input data isn't classified nor labeled before we provied this to the model. Also, we are expecting the model to find some patterns between the books to cluster them together.\n",
        "\n",
        "- Program a robot to navigate and find the shortest path in a maze: This is a Reinforcement Learning model because the model is always learning by proof and error analysis how to get to the destination in the fastest way."
      ],
      "metadata": {
        "id": "OG4sRdIcpCCC"
      }
    },
    {
      "cell_type": "markdown",
      "source": [
        "# 🌟 Exercise 5 : Designing An Evaluation Strategy For Different ML Models\n",
        "\n",
        "Select three types of machine learning models: one from supervised learning (e.g., a classification model), one from unsupervised learning (e.g., a clustering model), and one from reinforcement learning. For the supervised model, outline a strategy to evaluate its performance, including the choice of metrics (like accuracy, precision, recall, F1-score) and methods (like cross-validation, ROC curves).\n",
        "\n",
        "For the unsupervised model, describe how you would assess the effectiveness of the model, considering techniques like silhouette score, elbow method, or cluster validation metrics.\n",
        "\n",
        "For the reinforcement learning model, discuss how you would measure its success, considering aspects like cumulative reward, convergence, and exploration vs. exploitation balance.\n",
        "\n",
        "Address the challenges and limitations of evaluating models in each category.\n"
      ],
      "metadata": {
        "id": "zAoDJPo8qui_"
      }
    },
    {
      "cell_type": "markdown",
      "source": [
        "* Supervised Learning (Classification Model - Emails spam detection):\n",
        "\n",
        "* Metrics:\n",
        "\n",
        "Accuracy: Measures the overall correctness of the model's predictions.\n",
        "\n",
        "Use accuracy, precision, recall, and F1-score to evaluate the model's performance.\n",
        "\n",
        "Implement cross-validation techniques to assess the model's generalization ability.\n",
        "\n",
        "Analyze ROC curves and calculate AUC to evaluate the model's ability to discriminate between spam and non-spam emails.\n",
        "\n",
        "* Unsupervised Learning (Clustering Model: Customer segmentation):\n",
        "\n",
        "* Metrics:\n",
        "\n",
        "Apply K-Means clustering to segment customers into distinct groups.\n",
        "\n",
        "Use silhouette score and the elbow method to determine the optimal number of clusters.\n",
        "\n",
        "Evaluate cluster quality using metrics like DB Index (which measures the average similarity between each cluster and its most similar cluster, relative to the average distance between points within the clusters)  or CH index (measures the ratio of between-cluster dispersion to within-cluster dispersion, providing a measure of cluster separation)\n",
        "\n",
        "* Reinforcement Learning Model (Q-Learning - Autonomous Driving)\n",
        "\n",
        "* Metrics\n",
        "\n",
        "Cumulative reward measures the effectiveness of the agent's driving behavior in achieving safe and efficient navigation.\n",
        "\n",
        "Convergence indicates whether the agent's learned policy stabilizes and converges to optimal or near-optimal solutions.\n",
        "\n",
        "Exploration vs. exploitation balance evaluates how well the agent balances exploration of new driving strategies with exploitation of learned behaviors.\n",
        "\n",
        "\n",
        "\n",
        "\n",
        "\n",
        "\n",
        "\n"
      ],
      "metadata": {
        "id": "15gEGghSrK5p"
      }
    },
    {
      "cell_type": "markdown",
      "source": [],
      "metadata": {
        "id": "rTWx6BiutAQG"
      }
    }
  ]
}