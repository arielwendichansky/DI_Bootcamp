{
  "nbformat": 4,
  "nbformat_minor": 0,
  "metadata": {
    "colab": {
      "provenance": [],
      "authorship_tag": "ABX9TyPtd1J0+B2chv3EuzDvdoU9",
      "include_colab_link": true
    },
    "kernelspec": {
      "name": "python3",
      "display_name": "Python 3"
    },
    "language_info": {
      "name": "python"
    }
  },
  "cells": [
    {
      "cell_type": "markdown",
      "metadata": {
        "id": "view-in-github",
        "colab_type": "text"
      },
      "source": [
        "<a href=\"https://colab.research.google.com/github/arielwendichansky/DI_Bootcamp/blob/master/Week7/Day1/Daily_challenge/End_To_End_Web_Scraping_In_Python.ipynb\" target=\"_parent\"><img src=\"https://colab.research.google.com/assets/colab-badge.svg\" alt=\"Open In Colab\"/></a>"
      ]
    },
    {
      "cell_type": "code",
      "source": [
        "! pip install selenium"
      ],
      "metadata": {
        "id": "jzXG_gBWFlAb"
      },
      "execution_count": null,
      "outputs": []
    },
    {
      "cell_type": "code",
      "execution_count": 25,
      "metadata": {
        "id": "oX5IECCjEw-P"
      },
      "outputs": [],
      "source": [
        "import pandas as pd\n",
        "import requests\n",
        "from selenium import webdriver\n",
        "from bs4 import BeautifulSoup"
      ]
    },
    {
      "cell_type": "code",
      "source": [
        "# Configure the Selenium WebDriver\n",
        "options = webdriver.ChromeOptions()\n",
        "options.add_argument('--headless')  # Run headless to avoid UI pop-up\n",
        "options.add_argument('--no-sandbox')\n",
        "options.add_argument('--disable-dev-shm-usage')\n",
        "# Initialize the WebDriver\n",
        "driver = webdriver.Chrome(options=options)\n",
        "\n",
        "\n",
        "try:\n",
        "    # Target URL\n",
        "    url = \"https://github.com/topics\"\n",
        "\n",
        "    response = requests.get(url)\n",
        "    if response == 200:\n",
        "      print('Connection stablished, answer:', response.status_code)\n",
        "    else:\n",
        "      print('Connection is not stablished, answer:',response.status_code )\n",
        "\n",
        "    # Navigate to the page\n",
        "    driver.get(url)\n",
        "    # Get page source and prepare it for parsing\n",
        "    page_source = driver.page_source\n",
        "    soup = BeautifulSoup(page_source, 'html.parser')\n",
        "    print(soup.prettify()[0:101])\n",
        "\n",
        "    # Save the prettified HTML to a file\n",
        "    with open(\"webpage.html\", \"w\", encoding=\"utf-8\") as file:\n",
        "      file.write(soup.prettify())\n",
        "\n",
        "    # Locate the container holding all the flex containers\n",
        "    grid_container = soup.find('div', class_=\"col-lg-9 position-relative pr-lg-5 mb-6 mr-lg-5\")\n",
        "    # Find all flex-container elements within the grid container\n",
        "    flex_containers = grid_container.find_all('div', class_=\"py-4 border-bottom d-flex flex-justify-between\")\n",
        "\n",
        "    # Initialize an empty list to store feature title data dictionaries\n",
        "    feature_data = []\n",
        "      # Loop through each flex-container to extract the desired span elements\n",
        "    for flex in flex_containers:\n",
        "        feature_name = flex.find('p', class_=\"f3 lh-condensed mb-0 mt-1 Link--primary\").text.strip()\n",
        "        description = flex.find('p', class_=\"f5 color-fg-muted mb-0 mt-1\").text.strip()\n",
        "\n",
        "        # Store the feature data in a dictionary\n",
        "        data = {'Feature name': feature_name, 'Description': description}\n",
        "        feature_data.append(data)\n",
        "\n",
        "    # Create a DataFrame from the feature data list\n",
        "    df = pd.DataFrame(feature_data)\n",
        "\n",
        "\n",
        "    print(df)\n",
        "\n",
        "\n",
        "finally:\n",
        "  driver.quit()"
      ],
      "metadata": {
        "colab": {
          "base_uri": "https://localhost:8080/"
        },
        "id": "TkgLeaBoFs19",
        "outputId": "dea3e39c-251f-4f56-8bbf-ca8c60e8de35"
      },
      "execution_count": 26,
      "outputs": [
        {
          "output_type": "stream",
          "name": "stdout",
          "text": [
            "Connection is not stablished, answer: 200\n",
            "<html data-a11y-animated-images=\"system\" data-a11y-link-underlines=\"true\" data-color-mode=\"auto\" data\n",
            "              Feature name                                        Description\n",
            "0                       3D  3D refers to the use of three-dimensional grap...\n",
            "1                     Ajax  Ajax is a technique for creating interactive w...\n",
            "2                Algorithm  Algorithms are self-contained sequences that c...\n",
            "3                      Amp  Amp is a non-blocking concurrency library for ...\n",
            "4                  Android  Android is an operating system built by Google...\n",
            "5                  Angular  Angular is an open source web application plat...\n",
            "6                  Ansible  Ansible is a simple and powerful automation en...\n",
            "7                      API  An API (Application Programming Interface) is ...\n",
            "8                  Arduino  Arduino is an open source platform for buildin...\n",
            "9                  ASP.NET  ASP.NET is a web framework for building modern...\n",
            "10                    Atom  Atom is a open source text editor built with w...\n",
            "11           Awesome Lists  An awesome list is a list of awesome things cu...\n",
            "12     Amazon Web Services  Amazon Web Services provides on-demand cloud c...\n",
            "13                   Azure  Azure is a cloud computing service created by ...\n",
            "14                   Babel  Babel is a compiler for writing next generatio...\n",
            "15                    Bash  Bash is a shell and command language interpret...\n",
            "16                 Bitcoin  Bitcoin is a cryptocurrency developed by Satos...\n",
            "17               Bootstrap  Bootstrap is an HTML, CSS, and JavaScript fram...\n",
            "18                     Bot  A bot is an application that runs automated ta...\n",
            "19                       C  C is a general purpose programming language th...\n",
            "20                  Chrome  Chrome is a web browser from the tech company ...\n",
            "21        Chrome extension  Chrome extensions enable users to customize th...\n",
            "22  Command line interface  A CLI, or command-line interface, is a console...\n",
            "23                 Clojure  Clojure is a dynamic, general-purpose programm...\n",
            "24            Code quality  Automate your code review with style, quality,...\n",
            "25             Code review  Ensure your code meets quality standards and s...\n",
            "26                Compiler  Compilers are software that translate higher-l...\n",
            "27  Continuous integration  Automatically build and test your code as you ...\n",
            "28                COVID-19  The coronavirus disease 2019 (COVID-19) is an ...\n",
            "29                     C++  C++ is a general purpose and object-oriented p...\n"
          ]
        }
      ]
    }
  ]
}