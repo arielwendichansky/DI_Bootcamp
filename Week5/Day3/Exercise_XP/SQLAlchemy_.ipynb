{
  "cells": [
    {
      "cell_type": "markdown",
      "metadata": {
        "id": "view-in-github",
        "colab_type": "text"
      },
      "source": [
        "<a href=\"https://colab.research.google.com/github/arielwendichansky/DI_Bootcamp/blob/master/Week5/Day3/Exercise_XP/SQLAlchemy_.ipynb\" target=\"_parent\"><img src=\"https://colab.research.google.com/assets/colab-badge.svg\" alt=\"Open In Colab\"/></a>"
      ]
    },
    {
      "cell_type": "code",
      "execution_count": null,
      "metadata": {
        "id": "qnDOnZA5YHDM"
      },
      "outputs": [],
      "source": [
        "!pip install sqlalchemy"
      ]
    },
    {
      "cell_type": "code",
      "execution_count": 2,
      "metadata": {
        "id": "OBvnBHrGYS2G"
      },
      "outputs": [],
      "source": [
        "import sqlalchemy as db\n",
        "from sqlalchemy import create_engine, Column, Integer, String\n",
        "from sqlalchemy.orm import sessionmaker\n",
        "from sqlalchemy.ext.declarative import declarative_base\n",
        "from sqlalchemy.sql import select\n",
        "from sqlalchemy.sql import text"
      ]
    },
    {
      "cell_type": "code",
      "source": [
        "engine = db.create_engine('sqlite:///Student.sqlite')\n",
        "conn = engine.connect()\n",
        "metadata = db.MetaData()"
      ],
      "metadata": {
        "id": "eQlUzOVtHUaK"
      },
      "execution_count": 4,
      "outputs": []
    },
    {
      "cell_type": "markdown",
      "metadata": {
        "id": "vqaG1XQfi0lu"
      },
      "source": [
        "1. Write a Python program to create a SQLAlchemy model 'Student' with fields: 'id', 'studentname', and 'email'.\n"
      ]
    },
    {
      "cell_type": "code",
      "execution_count": null,
      "metadata": {
        "id": "Gx6yQ7lJYV6P"
      },
      "outputs": [],
      "source": [
        "with engine.connect() as conn:\n",
        "    metadata.create_all(engine)\n",
        "\n",
        "conn = engine.connect()\n",
        "\n",
        "Student = db.Table('Student', metadata,\n",
        "                   db.Column('id',db.Integer(),primary_key=True, nullable=False),\n",
        "                   db.Column('student_name', db.String(150), nullable=False),\n",
        "                   db.Column('email',db.String(200), nullable=False)\n",
        "                   );\n",
        "metadata.create_all(engine)\n",
        "conn.commit()"
      ]
    },
    {
      "cell_type": "markdown",
      "metadata": {
        "id": "3nTnWGChi2t2"
      },
      "source": [
        "2. Write a Python program that adds a new student to the 'students' table with a given id, studentname and email.\n"
      ]
    },
    {
      "cell_type": "code",
      "execution_count": null,
      "metadata": {
        "id": "k22oQAMhafTm"
      },
      "outputs": [],
      "source": [
        "student_insert = Student.insert().values([\n",
        "    {'student_name': 'Alice Smith', 'email': 'alices@gmail.io'},\n",
        "    {'student_name': 'Bob Dylan', 'email': 'bobd@gmail.io'},\n",
        "    {'student_name': 'Charlie Brown', 'email': 'cbrown@gmail.io'},\n",
        "])\n",
        "\n",
        "conn.execute(student_insert)\n",
        "metadata.create_all(engine)\n",
        "conn.commit()"
      ]
    },
    {
      "cell_type": "markdown",
      "metadata": {
        "id": "E-Gz-srHi4mt"
      },
      "source": [
        "3. Write a Python program that retrieves a student's information from the 'students' table using their id..\n"
      ]
    },
    {
      "cell_type": "code",
      "execution_count": null,
      "metadata": {
        "id": "QLJMk4G_cpBw"
      },
      "outputs": [],
      "source": [
        "# Query the Student table\n",
        "def student_query():\n",
        "  query_student = select(Student)\n",
        "  result_student = conn.execute(query_student)\n",
        "\n",
        "  print(\"Student Table Rows:\")\n",
        "  for row in result_student:\n",
        "      print(row)\n",
        "  metadata.create_all(engine)\n",
        "  conn.commit()\n",
        "\n"
      ]
    },
    {
      "cell_type": "code",
      "execution_count": null,
      "metadata": {
        "colab": {
          "base_uri": "https://localhost:8080/"
        },
        "id": "ql4wWppUc5jK",
        "outputId": "db68c708-bc50-4d2c-cc41-aac7eaacec9b"
      },
      "outputs": [
        {
          "name": "stdout",
          "output_type": "stream",
          "text": [
            "[('Alice Smith',)]\n"
          ]
        }
      ],
      "source": [
        "conn = engine.connect()\n",
        "output = conn.execute(text(\"SELECT student_name FROM Student  WHERE id = 1\"))\n",
        "print(output.fetchall())\n",
        "metadata.create_all(engine)\n",
        "conn.commit()"
      ]
    },
    {
      "cell_type": "markdown",
      "metadata": {
        "id": "TKT0GBJhi6J1"
      },
      "source": [
        "4. Write a Python program that updates a student's email in the 'students' table based on their id.\n"
      ]
    },
    {
      "cell_type": "code",
      "execution_count": null,
      "metadata": {
        "colab": {
          "base_uri": "https://localhost:8080/"
        },
        "id": "p1eTc6Mge3dg",
        "outputId": "b7e4bc87-dd25-446f-ec1c-222c8b2e0ff9"
      },
      "outputs": [
        {
          "name": "stdout",
          "output_type": "stream",
          "text": [
            "Student Table Rows:\n",
            "(1, 'Alice Smith', 'asmith@gmail.io')\n",
            "(2, 'Bob Dylan', 'bobd@gmail.io')\n",
            "(3, 'Charlie Brown', 'cbrown@gmail.io')\n"
          ]
        }
      ],
      "source": [
        "def change_email(old_email,new_email):\n",
        "  conn = engine.connect()\n",
        "  output = conn.execute(text(f\"UPDATE Student Set email= '{new_email}' WHERE email = '{old_email}'\"))\n",
        "\n",
        "  query_student = select(Student)\n",
        "  result_student = conn.execute(query_student)\n",
        "  metadata.create_all(engine)\n",
        "  conn.commit()\n",
        "  student_query()\n",
        "\n",
        "change_email('alices@gmail.io','asmith@gmail.io')\n",
        "\n"
      ]
    },
    {
      "cell_type": "markdown",
      "metadata": {
        "id": "-Hm4S0_mnS27"
      },
      "source": [
        "5. Write a Python program that deletes a student from the 'students' table by their id.\n"
      ]
    },
    {
      "cell_type": "code",
      "execution_count": null,
      "metadata": {
        "colab": {
          "base_uri": "https://localhost:8080/"
        },
        "id": "9w_6MBJxlXXD",
        "outputId": "efb2288c-c4ac-4942-817d-848187cefdca"
      },
      "outputs": [
        {
          "name": "stdout",
          "output_type": "stream",
          "text": [
            "Student Table Rows:\n",
            "(2, 'Bob Dylan', 'bobd@gmail.io')\n",
            "(3, 'Charlie Brown', 'cbrown@gmail.io')\n"
          ]
        }
      ],
      "source": [
        "def drop_student (id):\n",
        "  conn = engine.connect()\n",
        "  output = conn.execute(text(f\"DELETE FROM Student WHERE id = {id}\"))\n",
        "  query_student = select(Student)\n",
        "  result_student = conn.execute(query_student)\n",
        "  metadata.create_all(engine)\n",
        "  conn.commit()\n",
        "  student_query()\n",
        "\n",
        "drop_student (1)"
      ]
    },
    {
      "cell_type": "markdown",
      "metadata": {
        "id": "x5gatIwfp3F1"
      },
      "source": [
        "6. Write a Python program that creates a i) SQLAlchemy model named 'Item' and table name 'items' with fields: 'item_id', 'item_name', 'item_price', and 'item_quantity'. ii) Create a SQLAlchemy model 'Order' and table name 'orders' with fields: 'order_id', 'user_id', 'item_id', and 'order_quantity'. iii) SQLAlchemy model named 'User' and table name 'users' with fields: 'user_id', 'user_name', 'user_email'.\n",
        "Tables will be created under the database 'shop2.db' . Consider i) 'item_id' as a primary key of 'items' table. ii) 'user_id' as a primary key of 'users' table. iii) 'order_id' as a primary key of 'orders' table and 'item_id' and 'user_id' as two foreigh keys. Insert some records in the 'items', 'users' and 'orders' tables."
      ]
    },
    {
      "cell_type": "code",
      "execution_count": 64,
      "metadata": {
        "id": "ZoxvZB5z2Q1v"
      },
      "outputs": [],
      "source": [
        "from sqlalchemy import create_engine, MetaData, Table, Column, Integer, String, ForeignKey\n",
        "\n",
        "# Create the engine\n",
        "# Increase the timeout to 30 seconds and enable connection pooling\n",
        "engine = create_engine('sqlite:///shop2.db',  pool_pre_ping=True)\n",
        "metadata = MetaData()\n",
        "\n",
        "# Define the Items table\n",
        "Items = Table('Items', metadata,\n",
        "              Column('item_id', Integer, primary_key=True, nullable=False),\n",
        "              Column('item_name', String(150), nullable=False),\n",
        "              Column('item_price', Integer, nullable=False),\n",
        "              Column('item_quantity', Integer, nullable=False)\n",
        "              )\n",
        "metadata.create_all(engine)\n",
        "conn.commit()\n",
        "\n",
        "# Define the Users table\n",
        "Users = Table('Users', metadata,\n",
        "              Column('user_id', Integer, primary_key=True, nullable=False),\n",
        "              Column('user_name', String(150), nullable=False),\n",
        "              Column('user_email', String(150), nullable=False)\n",
        "              )\n",
        "metadata.create_all(engine)\n",
        "conn.commit()\n",
        "\n",
        "# Define the Orders table\n",
        "Orders = Table('Orders', metadata,\n",
        "               Column('order_id', Integer, primary_key=True, nullable=False),\n",
        "               Column('user_id', Integer, ForeignKey('Users.user_id'), nullable=False),\n",
        "               Column('item_id', Integer, ForeignKey('Items.item_id'), nullable=False),\n",
        "               Column('order_quantity', Integer, nullable=False)\n",
        "               )\n",
        "metadata.create_all(engine)\n",
        "conn.commit()\n",
        "\n"
      ]
    },
    {
      "cell_type": "code",
      "source": [
        "from sqlalchemy import insert\n",
        "\n",
        "# Define data to be inserted\n",
        "items_data = [\n",
        "    {'item_id': 1, 'item_name': 'Item 1', 'item_price': 10, 'item_quantity': 100},\n",
        "    {'item_id': 2, 'item_name': 'Item 2', 'item_price': 20, 'item_quantity': 200},\n",
        "    {'item_id': 3, 'item_name': 'Item 3', 'item_price': 30, 'item_quantity': 300}\n",
        "]\n",
        "\n",
        "\n",
        "users_data = [\n",
        "    {'user_id': 1, 'user_name': 'User 1', 'user_email': 'user1@example.com'},\n",
        "    {'user_id': 2, 'user_name': 'User 2', 'user_email': 'user2@example.com'},\n",
        "    {'user_id': 3, 'user_name': 'User 3', 'user_email': 'user3@example.com'}\n",
        "]\n",
        "\n",
        "orders_data = [\n",
        "    {'order_id': 1, 'user_id': 1, 'item_id': 1, 'order_quantity': 5},\n",
        "    {'order_id': 2, 'user_id': 2, 'item_id': 2, 'order_quantity': 10},\n",
        "    {'order_id': 3, 'user_id': 3, 'item_id': 3, 'order_quantity': 15}\n",
        "]\n",
        "\n",
        "# Create insert statements for each table\n",
        "items_stmt = insert(Items)\n",
        "users_stmt = insert(Users)\n",
        "orders_stmt = insert(Orders)\n",
        "\n",
        "# Execute insert statements\n",
        "with engine.connect() as conn:\n",
        "    conn.execute(items_stmt, items_data)\n",
        "    conn.execute(users_stmt, users_data)\n",
        "    conn.execute(orders_stmt, orders_data)"
      ],
      "metadata": {
        "id": "AjKN-lpsLHvV"
      },
      "execution_count": 65,
      "outputs": []
    },
    {
      "cell_type": "code",
      "execution_count": null,
      "metadata": {
        "id": "3fM5S-ON5PHD"
      },
      "outputs": [],
      "source": [
        "def items_query():\n",
        "  query_items = select(Items)\n",
        "  with engine.connect() as conn:\n",
        "          result_items = conn.execute(query_items)\n",
        "\n",
        "          # Print the rows retrieved from the Items table\n",
        "          print(\"Items Table Rows:\")\n",
        "          for row in result_items:\n",
        "              print(row)\n",
        "\n",
        "# Call the function to query items\n",
        "items_query()\n",
        "\n",
        "# Create all tables defined in the metadata\n",
        "metadata.create_all(engine)\n"
      ]
    },
    {
      "cell_type": "markdown",
      "metadata": {
        "id": "j3-Ft4BV28Jj"
      },
      "source": [
        "7. Write a Python program to retrieve items with a price greater than a certain value from the 'items' table using the SQLAlchemy model.\n"
      ]
    },
    {
      "cell_type": "code",
      "execution_count": null,
      "metadata": {
        "id": "Xu9zqdlx3fzb"
      },
      "outputs": [],
      "source": [
        "def items_greater_price(price):\n",
        "\n",
        "  conn = engine.connect()\n",
        "  output = conn.execute(text(f\"SELECT item_name FROM Items  WHERE item_price > {price}\"))\n",
        "  print(output.fetchall())\n",
        "  metadata.create_all(engine)\n",
        "  conn.commit()\n",
        "\n",
        "items_greater_price(100)"
      ]
    },
    {
      "cell_type": "markdown",
      "source": [
        "8. Write a Python program to update the quantity of an item in the 'Items' table based on its name using the SQLAlchemy model.\n"
      ],
      "metadata": {
        "id": "vZfKwaei8Hgl"
      }
    },
    {
      "cell_type": "code",
      "source": [
        "def items_quatity_change(item_name,new_quantity):\n",
        "  conn = engine.connect()\n",
        "  output = conn.execute(text(f\"UPDATE Items Set item_quantity= '{new_quantity}' WHERE item_name = '{item_name}'\"))\n",
        "\n",
        "  query_items = select(Items)\n",
        "  result_items = conn.execute(query_items)\n",
        "  metadata.create_all(engine)\n",
        "  conn.commit()\n",
        "items_query()"
      ],
      "metadata": {
        "id": "NmY3yKqF8WpU"
      },
      "execution_count": null,
      "outputs": []
    },
    {
      "cell_type": "markdown",
      "source": [
        "9. Write a Python program to create a new order in the 'Order' table for a user and a item with a specified quantity using the SQLAlchemy model.\n"
      ],
      "metadata": {
        "id": "2StZyQSj9EZz"
      }
    },
    {
      "cell_type": "code",
      "source": [
        "Session = sessionmaker(bind=engine)\n",
        "session = Session()\n",
        "def create_order (user_id, item_id, order_quantity):\n",
        "   # Access the Order table from metadata\n",
        "  Order = metadata.tables['Orders']\n",
        "\n",
        "  new_order = Order.insert().values(user_id = user_id , item_id = item_id, order_quantity = order_quantity)\n",
        "  with engine.connect() as conn:\n",
        "        conn.execute(new_order)\n",
        "        print(\"New order committed\")\n",
        "\n",
        "create_order(4,4,300)"
      ],
      "metadata": {
        "id": "g_EILstY_eTu"
      },
      "execution_count": null,
      "outputs": []
    },
    {
      "cell_type": "markdown",
      "source": [
        "10. Write a Python program to retrieve all orders for a specific user from the 'Order' table user using the SQLAlchemy model.\n"
      ],
      "metadata": {
        "id": "KPRa2-a1BEsm"
      }
    },
    {
      "cell_type": "code",
      "source": [
        "Session = sessionmaker(bind=engine)\n",
        "session = Session()\n",
        "def retrieve_order (user):\n",
        "  # Access the Order table from metadata\n",
        "  with engine.connect() as conn:\n",
        "    Order = metadata.tables['Orders']\n",
        "\n",
        "    query = Order.select().where(Order.columns.user_id == user)\n",
        "\n",
        "    output = conn.execute(query)\n",
        "    print(output.fetchall())\n",
        "    conn.commit()\n",
        "\n",
        "retrieve_order (4)"
      ],
      "metadata": {
        "id": "_GfHXQVBCfaz"
      },
      "execution_count": null,
      "outputs": []
    },
    {
      "cell_type": "markdown",
      "source": [
        "11. Write a Python program to calculate and display the total cost of all orders for a given user using the SQLAlchemy model.\n"
      ],
      "metadata": {
        "id": "rwMbFXoWE0Tk"
      }
    },
    {
      "cell_type": "code",
      "source": [
        "Session = sessionmaker(bind=engine)\n",
        "session = Session()\n",
        "def total_cost (user):\n",
        "  # Access the Order and Item table from metadata\n",
        "  with engine.connect() as conn:\n",
        "    Order = metadata.tables['Orders']\n",
        "    Items = metadata.tables['Items']\n",
        "\n",
        "    # Create a query to retrieve order_quantity and item_id for a specific user\n",
        "    query = session.query(Order.c.order_quantity, Order.c.item_id).filter(Order.c.user_id == user)\n",
        "    total_cost = 0\n",
        "    # Iterate over the orders and calculate total cost\n",
        "    for order_quantity, item_id in query:\n",
        "          # Create a query to retrieve item_price for the given item_id\n",
        "          query2 = session.query(Items.c.item_price).filter(Items.c.item_id == item_id)\n",
        "          item_price = query2.scalar()  # Get the item_price\n",
        "\n",
        "          total_cost += order_quantity * item_price\n",
        "\n",
        "          print(\"Total cost for user\", user, \"is:\", total_cost)\n",
        "\n",
        "    conn.commit()\n",
        "\n",
        "total_cost (4)"
      ],
      "metadata": {
        "id": "GXSttb2GE3ST"
      },
      "execution_count": 45,
      "outputs": []
    },
    {
      "cell_type": "markdown",
      "source": [
        "12. Write a Python program to list the top 2 products by sales quantity from the 'orders' table using the SQLAlchemy model.\n"
      ],
      "metadata": {
        "id": "os9krIGQIneP"
      }
    },
    {
      "cell_type": "code",
      "source": [
        "from sqlalchemy import func\n",
        "\n",
        "\n",
        "# Create a session to interact with the database\n",
        "session = Session()\n",
        "\n",
        "def top_items_by_sales_quantity(top_n=2):\n",
        "    # Query the top N products by sales quantity\n",
        "    query = (\n",
        "        session.query(Orders.c.item_id, func.sum(Orders.c.order_quantity).label('total_quantity'))\n",
        "        .group_by(Orders.c.item_id)\n",
        "        .order_by(func.sum(Orders.c.order_quantity).desc())\n",
        "        .limit(top_n)\n",
        "    )\n",
        "    # Execute the query and retrieve the results\n",
        "    results = query.all()\n",
        "    # Create a dictionary to store item_id -> total_quantity mapping\n",
        "    product_quantity = dict(results)\n",
        "    # Retrieve the top products using the item IDs\n",
        "    top_products = session.query(Items).filter(Items.c.item_id.in_(product_quantity.keys())).all()\n",
        "    # Display the top products and their sales quantity\n",
        "    print(f\"Top {top_n} items by sales quantity:\")\n",
        "    for product in top_products:\n",
        "        quantity = product_quantity[product.item_id]\n",
        "        print(f\"Item: {product.item_name}, Sales Quantity: {quantity}\")\n",
        "\n",
        "# List the top 2 products by sales quantity\n",
        "top_items_by_sales_quantity(top_n=2)\n",
        "\n",
        "# Close the session\n",
        "session.close()"
      ],
      "metadata": {
        "id": "Y3aIjt3GItPJ"
      },
      "execution_count": null,
      "outputs": []
    },
    {
      "cell_type": "markdown",
      "source": [
        "13. Write a Python program to delete an order from the 'Order' table by its id. Use the SQLAlchemy model.\n"
      ],
      "metadata": {
        "id": "W75yQmp7H0KZ"
      }
    },
    {
      "cell_type": "code",
      "source": [
        "Session = sessionmaker(bind=engine)\n",
        "session = Session()\n",
        "\n",
        "def drop_order (id):\n",
        "   with engine.connect() as conn:\n",
        "    Order = metadata.tables['Orders']\n",
        "    conn = engine.connect()\n",
        "    query = Orders.delete().where(Orders.columns.order_id == id)\n",
        "    output = conn.execute(query)\n",
        "    print(output.rowcount)\n",
        "\n",
        "    conn.commit()\n",
        "\n",
        "\n",
        "drop_order (1)"
      ],
      "metadata": {
        "id": "g-KbD8USH06Q"
      },
      "execution_count": null,
      "outputs": []
    },
    {
      "cell_type": "markdown",
      "source": [
        "14. Write a Python program that performs aggregation queries to get the total number of orders, total sales amount, minimum item price, maximum item price and average order quantity using SQLAlchemy."
      ],
      "metadata": {
        "id": "4XN3uZoRR330"
      }
    },
    {
      "cell_type": "code",
      "source": [
        "session = Session()\n",
        "\n",
        "def perform_aggregation_queries():\n",
        "    # Total number of orders\n",
        "    total_orders = session.query(func.count(Orders.c.order_id)).scalar()\n",
        "\n",
        "    # Total sales amount\n",
        "    total_sales_amount = session.query(func.sum(Orders.c.order_quantity * Items.c.item_price)) \\\n",
        "                                 .join(Items, Orders.c.item_id == Items.c.item_id) \\\n",
        "                                 .scalar()\n",
        "\n",
        "    # Minimum item price\n",
        "    min_item_price = session.query(func.min(Items.c.item_price)).scalar()\n",
        "\n",
        "    # Maximum item price\n",
        "    max_item_price = session.query(func.max(Items.c.item_price)).scalar()\n",
        "\n",
        "    # Average order quantity\n",
        "    avg_order_quantity = session.query(func.avg(Orders.c.order_quantity)).scalar()\n",
        "\n",
        "    # Print the results\n",
        "    print(f\"Total number of orders: {total_orders}\")\n",
        "    print(f\"Total sales amount: {total_sales_amount}\")\n",
        "    print(f\"Minimum item price: {min_item_price}\")\n",
        "    print(f\"Maximum item price: {max_item_price}\")\n",
        "    print(f\"Average order quantity: {avg_order_quantity}\")\n",
        "\n",
        "# Perform aggregation queries\n",
        "perform_aggregation_queries()\n",
        "\n",
        "# Close the session\n",
        "session.close()"
      ],
      "metadata": {
        "id": "NpGLFkn8R28x"
      },
      "execution_count": null,
      "outputs": []
    }
  ],
  "metadata": {
    "colab": {
      "provenance": [],
      "authorship_tag": "ABX9TyO0dfiDaOagl1XGqqgppk9D",
      "include_colab_link": true
    },
    "kernelspec": {
      "display_name": "Python 3",
      "name": "python3"
    },
    "language_info": {
      "name": "python"
    }
  },
  "nbformat": 4,
  "nbformat_minor": 0
}