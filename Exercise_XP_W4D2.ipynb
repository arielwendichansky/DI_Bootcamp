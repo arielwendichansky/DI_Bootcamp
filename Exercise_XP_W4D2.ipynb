{
  "nbformat": 4,
  "nbformat_minor": 0,
  "metadata": {
    "colab": {
      "provenance": [],
      "authorship_tag": "ABX9TyOJKIE29s1L0uZQT37uPFBy",
      "include_colab_link": true
    },
    "kernelspec": {
      "name": "python3",
      "display_name": "Python 3"
    },
    "language_info": {
      "name": "python"
    }
  },
  "cells": [
    {
      "cell_type": "markdown",
      "metadata": {
        "id": "view-in-github",
        "colab_type": "text"
      },
      "source": [
        "<a href=\"https://colab.research.google.com/github/arielwendichansky/DI_Bootcamp/blob/master/Exercise_XP_W4D2.ipynb\" target=\"_parent\"><img src=\"https://colab.research.google.com/assets/colab-badge.svg\" alt=\"Open In Colab\"/></a>"
      ]
    },
    {
      "cell_type": "code",
      "source": [
        "! pip install faker"
      ],
      "metadata": {
        "id": "qZWV_1Laudtg"
      },
      "execution_count": null,
      "outputs": []
    },
    {
      "cell_type": "code",
      "source": [
        "import pandas as pd\n"
      ],
      "metadata": {
        "id": "fiOhlHsWz8XJ"
      },
      "execution_count": null,
      "outputs": []
    },
    {
      "cell_type": "code",
      "execution_count": null,
      "metadata": {
        "id": "lr3POAIcsXnv"
      },
      "outputs": [],
      "source": [
        "import numpy as np\n",
        "from faker import Faker"
      ]
    },
    {
      "cell_type": "code",
      "source": [
        "fake = Faker()\n",
        "name = [fake.name() for _ in range(100)]\n",
        "address = [fake.address() for _ in range(100)]\n",
        "email = [fake.email() for _ in range(100)]\n",
        "ages = np.random.randint(20, 61, size=100)\n",
        "income = np.random.normal(loc=50000, scale=15000, size=100)\n",
        "incomes = np.clip(income, 25000, 80000)\n",
        "\n",
        "data = {'Name':name, 'Address': address, 'Email': email, 'Age': ages,\n",
        "        'Income':incomes}\n",
        "df = pd.DataFrame(data)\n",
        "print(df.head(10))"
      ],
      "metadata": {
        "colab": {
          "base_uri": "https://localhost:8080/"
        },
        "id": "aLYeQ2g1utSl",
        "outputId": "7996d6c7-933e-414f-f568-02ae75558c51"
      },
      "execution_count": null,
      "outputs": [
        {
          "output_type": "stream",
          "name": "stdout",
          "text": [
            "               Name                                            Address  \\\n",
            "0       Eddie Davis                          USNV Turner\\nFPO AE 82209   \n",
            "1       Scott Brown  7349 Stokes Inlet Apt. 368\\nCrystalbury, NC 87044   \n",
            "2  Brianna Thompson                          USNV Norman\\nFPO AE 16580   \n",
            "3   Elizabeth Boyer  93345 Hughes Squares Apt. 608\\nKristinaland, P...   \n",
            "4   Curtis Hamilton      841 Turner Skyway\\nChristophershire, VA 11822   \n",
            "5     Lauren Parker    4419 Blake Flat Apt. 525\\nTiffanyfort, DC 31299   \n",
            "6   Nancy Armstrong    5482 Hanson Ranch Apt. 174\\nJonesfort, WV 22971   \n",
            "7       John Fisher   3893 Lane Glens Apt. 310\\nNorth Robert, KY 36931   \n",
            "8     Andrea Molina                   PSC 9826, Box 9617\\nAPO AE 17155   \n",
            "9   Robert Martinez  7663 Meyer Crest Apt. 941\\nPort Stanley, PW 69793   \n",
            "\n",
            "                           Email  Age        Income  \n",
            "0      sarahguerrero@example.net   23  68020.894971  \n",
            "1      christopher17@example.com   44  34584.160233  \n",
            "2       grahamronnie@example.net   20  52399.336630  \n",
            "3   carolinecastillo@example.com   54  55181.895173  \n",
            "4  whiteheadjennifer@example.com   42  61725.796069  \n",
            "5             paul85@example.org   22  57947.146964  \n",
            "6      allensavannah@example.org   48  50336.825562  \n",
            "7            leesean@example.org   21  37926.620933  \n",
            "8          kristin49@example.org   20  80000.000000  \n",
            "9             gjones@example.com   24  48416.051002  \n"
          ]
        }
      ]
    },
    {
      "cell_type": "code",
      "source": [
        "! pip install -q kaggle\n"
      ],
      "metadata": {
        "id": "Wrk5g-5s1sAf"
      },
      "execution_count": null,
      "outputs": []
    },
    {
      "cell_type": "code",
      "source": [
        "from google.colab import files\n",
        "\n",
        "files.upload()"
      ],
      "metadata": {
        "id": "3vgSXI8F15oo"
      },
      "execution_count": null,
      "outputs": []
    },
    {
      "cell_type": "code",
      "source": [
        "! mkdir ~/.kaggle\n",
        "\n",
        "! cp kaggle.json ~/.kaggle/\n",
        "\n",
        "\n",
        "! chmod 600 ~/.kaggle/kaggle.json"
      ],
      "metadata": {
        "id": "GugbIqLd2Adi"
      },
      "execution_count": null,
      "outputs": []
    },
    {
      "cell_type": "code",
      "source": [
        "! kaggle datasets download -d yaswanthgali/dog-images"
      ],
      "metadata": {
        "colab": {
          "base_uri": "https://localhost:8080/"
        },
        "id": "omlCGiHV2Evt",
        "outputId": "ee68bc6e-94c2-48b0-a9a3-48b1d3fd0546"
      },
      "execution_count": null,
      "outputs": [
        {
          "output_type": "stream",
          "name": "stdout",
          "text": [
            "Downloading dog-images.zip to /content\n",
            " 99% 740M/750M [00:11<00:00, 80.6MB/s]\n",
            "100% 750M/750M [00:11<00:00, 66.3MB/s]\n"
          ]
        }
      ]
    },
    {
      "cell_type": "code",
      "source": [
        "!unzip dog-images.zip\n"
      ],
      "metadata": {
        "id": "NwNnvZwr2duC"
      },
      "execution_count": null,
      "outputs": []
    },
    {
      "cell_type": "code",
      "source": [
        "import tensorflow as tf"
      ],
      "metadata": {
        "id": "VpDys7x_5EGH"
      },
      "execution_count": null,
      "outputs": []
    },
    {
      "cell_type": "code",
      "source": [
        "from tensorflow.keras.preprocessing.image import ImageDataGenerator\n"
      ],
      "metadata": {
        "id": "4E8Fk5hU20I2"
      },
      "execution_count": null,
      "outputs": []
    },
    {
      "cell_type": "code",
      "source": [
        "data_generator = ImageDataGenerator(rotation_range=30)\n"
      ],
      "metadata": {
        "id": "mCdwrGxQ29ba"
      },
      "execution_count": null,
      "outputs": []
    },
    {
      "cell_type": "code",
      "source": [
        "from scipy.ndimage import rotate\n",
        "def rotate_image_30_degrees(image):\n",
        "# Rotate image by 30 degrees\n",
        "  return rotate(image, 30, reshape=False, mode='nearest')\n",
        "#  Create ImageDataGenerator with custom preprocessing function\n",
        "data_generator = ImageDataGenerator(preprocessing_function=rotate_image_30_degrees)"
      ],
      "metadata": {
        "id": "eHfcUun_3Jo0"
      },
      "execution_count": null,
      "outputs": []
    },
    {
      "cell_type": "code",
      "source": [
        "image_height = 150\n",
        "image_width = 150\n",
        "\n",
        "dataset_dir = '/content/images/images'\n",
        "batch_size = 30\n",
        "dataset = data_generator.flow_from_directory(\n",
        "    dataset_dir,\n",
        "    target_size= (image_height, image_width),  # Specify target image size\n",
        "    batch_size=batch_size,\n",
        "    class_mode='categorical')\n",
        "print(\"Classes found in the dataset:\", dataset.class_indices)"
      ],
      "metadata": {
        "id": "TBgUDjbN4JZT"
      },
      "execution_count": null,
      "outputs": []
    },
    {
      "cell_type": "code",
      "source": [
        "! pip install tensorflow\n",
        "! pip install keras"
      ],
      "metadata": {
        "id": "w_yhbSF7B8tk"
      },
      "execution_count": null,
      "outputs": []
    },
    {
      "cell_type": "code",
      "source": [
        "from tensorflow.keras.preprocessing.image import ImageDataGenerator\n",
        "\n",
        "# Create an ImageDataGenerator for data augmentation\n",
        "data_generator = ImageDataGenerator(\n",
        "    rotation_range=30,\n",
        "    horizontal_flip=True,\n",
        "    vertical_flip=True,\n",
        "    brightness_range=(0.5, 1.5)\n",
        ")\n",
        "\n",
        "# Assuming 'images_directory' is the path to your dataset of dog images\n",
        "# This code will augment images and save them in 'augmented_images_directory'\n",
        "augmented_images_directory = '/content/images/images'\n",
        "data_generator.flow_from_directory('/content/images/images', save_to_dir='/content/augmented_images')"
      ],
      "metadata": {
        "colab": {
          "base_uri": "https://localhost:8080/"
        },
        "id": "wVBBv4q2BPtU",
        "outputId": "ec89d264-7047-42f9-fafc-0fbb56db8c84"
      },
      "execution_count": 47,
      "outputs": [
        {
          "output_type": "stream",
          "name": "stdout",
          "text": [
            "Found 20580 images belonging to 120 classes.\n"
          ]
        },
        {
          "output_type": "execute_result",
          "data": {
            "text/plain": [
              "<keras.src.preprocessing.image.DirectoryIterator at 0x784abac7d6c0>"
            ]
          },
          "metadata": {},
          "execution_count": 47
        }
      ]
    },
    {
      "cell_type": "code",
      "source": [
        "import os\n",
        "from tensorflow.keras.preprocessing.image import ImageDataGenerator, array_to_img, img_to_array, load_img\n",
        "original = '/content/images/images'\n",
        "augmented = '/content/augmented_images'\n",
        "# Create an instance of the ImageDataGenerator with desired augmentations\n",
        "data_generator = ImageDataGenerator(\n",
        "    rotation_range=30,\n",
        "    width_shift_range=0.2,\n",
        "    height_shift_range=0.2,\n",
        "    shear_range=0.2,\n",
        "    zoom_range=0.2,\n",
        "    horizontal_flip=True,\n",
        "    vertical_flip=True,\n",
        "    brightness_range=[0.5, 1.5]\n",
        ")\n",
        "for filename in os.listdir(original):\n",
        "    # Load the image\n",
        "    img = load_img(os.path.join(original, filename, filename))\n",
        "    x = img_to_array(img)\n",
        "    x = x.reshape((1,) + x.shape)\n",
        "    # Generate augmented images\n",
        "    i = 0\n",
        "    for batch in data_generator.flow(x, batch_size=1, save_to_dir=augmented, save_prefix='aug', save_format='jpeg'):\n",
        "        i += 1\n",
        "        if i > 4:  # Generate 4 augmented images for each original image\n",
        "            break"
      ],
      "metadata": {
        "id": "Tufc7qAxFArA"
      },
      "execution_count": null,
      "outputs": []
    }
  ]
}