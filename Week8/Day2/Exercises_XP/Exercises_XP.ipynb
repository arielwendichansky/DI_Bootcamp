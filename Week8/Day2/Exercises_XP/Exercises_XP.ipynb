{
  "nbformat": 4,
  "nbformat_minor": 0,
  "metadata": {
    "colab": {
      "provenance": [],
      "authorship_tag": "ABX9TyPtJlK//psXVHZJWVBUQXjz",
      "include_colab_link": true
    },
    "kernelspec": {
      "name": "python3",
      "display_name": "Python 3"
    },
    "language_info": {
      "name": "python"
    }
  },
  "cells": [
    {
      "cell_type": "markdown",
      "metadata": {
        "id": "view-in-github",
        "colab_type": "text"
      },
      "source": [
        "<a href=\"https://colab.research.google.com/github/arielwendichansky/DI_Bootcamp/blob/master/Week8/Day2/Exercises_XP/Exercises_XP.ipynb\" target=\"_parent\"><img src=\"https://colab.research.google.com/assets/colab-badge.svg\" alt=\"Open In Colab\"/></a>"
      ]
    },
    {
      "cell_type": "code",
      "source": [
        "!pip install nltk"
      ],
      "metadata": {
        "id": "KptdpmirrK1J"
      },
      "execution_count": null,
      "outputs": []
    },
    {
      "cell_type": "code",
      "source": [
        "import nltk\n",
        "from nltk.tokenize import word_tokenize,sent_tokenize\n",
        "from nltk.corpus import stopwords\n",
        "nltk.download('punkt')"
      ],
      "metadata": {
        "colab": {
          "base_uri": "https://localhost:8080/"
        },
        "id": "20aqehlrrO1D",
        "outputId": "c882a1a9-0faa-4673-da50-5f95c354830d"
      },
      "execution_count": 20,
      "outputs": [
        {
          "output_type": "stream",
          "name": "stderr",
          "text": [
            "[nltk_data] Downloading package punkt to /root/nltk_data...\n",
            "[nltk_data]   Package punkt is already up-to-date!\n"
          ]
        },
        {
          "output_type": "execute_result",
          "data": {
            "text/plain": [
              "True"
            ]
          },
          "metadata": {},
          "execution_count": 20
        }
      ]
    },
    {
      "cell_type": "code",
      "execution_count": 1,
      "metadata": {
        "id": "uHLAKcyHpr5K"
      },
      "outputs": [],
      "source": [
        "data = {\n",
        "    'Review': [\n",
        "        'At McDonald\\'s the food was ok and the service was bad.',\n",
        "        'I would not recommend this Japanese restaurant to anyone.',\n",
        "        'I loved this restaurant when I traveled to Thailand last summer.',\n",
        "        'The menu of Loving has a wide variety of options.',\n",
        "        'The staff was friendly and helpful at Google\\'s employees restaurant.',\n",
        "        'The ambiance at Bella Italia is amazing, and the pasta dishes are delicious.',\n",
        "        'I had a terrible experience at Pizza Hut. The pizza was burnt, and the service was slow.',\n",
        "        'The sushi at Sushi Express is always fresh and flavorful.',\n",
        "        'The steakhouse on Main Street has a cozy atmosphere and excellent steaks.',\n",
        "        'The dessert selection at Sweet Treats is to die for!'\n",
        "    ]\n",
        "}"
      ]
    },
    {
      "cell_type": "markdown",
      "source": [
        "Create a function preprocess_text() wich will receive the data as argument and:\n",
        "\n",
        "* Convert all the text in lower case and tokanize it\n",
        "* Remove punctuation\n",
        "* Apply a lemmatizer\n",
        "* Return the preprocessed strings\n"
      ],
      "metadata": {
        "id": "xIc1WCYyqLIM"
      }
    },
    {
      "cell_type": "code",
      "source": [
        "import nltk\n",
        "import string\n",
        "nltk.download('stopwords')\n",
        "from nltk.corpus import stopwords"
      ],
      "metadata": {
        "colab": {
          "base_uri": "https://localhost:8080/"
        },
        "id": "tma5lOyMFXpk",
        "outputId": "1c13943e-1b80-4804-fced-00dd1cba2fcc"
      },
      "execution_count": 95,
      "outputs": [
        {
          "output_type": "stream",
          "name": "stderr",
          "text": [
            "[nltk_data] Downloading package stopwords to /root/nltk_data...\n",
            "[nltk_data]   Package stopwords is already up-to-date!\n"
          ]
        }
      ]
    },
    {
      "cell_type": "code",
      "source": [
        "lower_data = []\n",
        "\n",
        "#Tokenize the data inside the dictionary\n",
        "tokens = [word_tokenize(doc) for doc in data['Review']]\n",
        "\n",
        "# Punctuation to be removed\n",
        "# stop_words = set(stopwords.words('english'))\n",
        "punctuation = set(string.punctuation)\n",
        "\n",
        "#convert it to lower case\n",
        "for token in tokens:\n",
        "    lower_data.extend([word.lower() for word in token if word.lower() not in punctuation])\n",
        "\n",
        "\n",
        "print(lower_data)"
      ],
      "metadata": {
        "colab": {
          "base_uri": "https://localhost:8080/"
        },
        "id": "JcEgpAKhp12l",
        "outputId": "534909ae-72d7-4f03-e7ad-67081559a0ea"
      },
      "execution_count": 96,
      "outputs": [
        {
          "output_type": "stream",
          "name": "stdout",
          "text": [
            "['at', 'mcdonald', \"'s\", 'the', 'food', 'was', 'ok', 'and', 'the', 'service', 'was', 'bad', 'i', 'would', 'not', 'recommend', 'this', 'japanese', 'restaurant', 'to', 'anyone', 'i', 'loved', 'this', 'restaurant', 'when', 'i', 'traveled', 'to', 'thailand', 'last', 'summer', 'the', 'menu', 'of', 'loving', 'has', 'a', 'wide', 'variety', 'of', 'options', 'the', 'staff', 'was', 'friendly', 'and', 'helpful', 'at', 'google', \"'s\", 'employees', 'restaurant', 'the', 'ambiance', 'at', 'bella', 'italia', 'is', 'amazing', 'and', 'the', 'pasta', 'dishes', 'are', 'delicious', 'i', 'had', 'a', 'terrible', 'experience', 'at', 'pizza', 'hut', 'the', 'pizza', 'was', 'burnt', 'and', 'the', 'service', 'was', 'slow', 'the', 'sushi', 'at', 'sushi', 'express', 'is', 'always', 'fresh', 'and', 'flavorful', 'the', 'steakhouse', 'on', 'main', 'street', 'has', 'a', 'cozy', 'atmosphere', 'and', 'excellent', 'steaks', 'the', 'dessert', 'selection', 'at', 'sweet', 'treats', 'is', 'to', 'die', 'for']\n"
          ]
        }
      ]
    },
    {
      "cell_type": "code",
      "source": [
        "!pip install spacy\n",
        "! python -m spacy download en_core_web_sm"
      ],
      "metadata": {
        "id": "YoOaLeWgxDrU"
      },
      "execution_count": null,
      "outputs": []
    },
    {
      "cell_type": "code",
      "source": [
        "lower_string=(' '.join(lower_data))"
      ],
      "metadata": {
        "id": "JGxDo2LMzjGU"
      },
      "execution_count": 87,
      "outputs": []
    },
    {
      "cell_type": "code",
      "source": [
        "import spacy\n",
        "#load spaCy's English language model\n",
        "nlp = spacy.load('en_core_web_sm')\n",
        "\n",
        "#process the text using spaCy\n",
        "doc = nlp(lower_string)\n",
        "\n",
        "lemmatized = [token.lemma_ for token in doc]\n",
        "print('Lemmatized: ', lemmatized)\n"
      ],
      "metadata": {
        "colab": {
          "base_uri": "https://localhost:8080/"
        },
        "id": "L_CrOAthxJx7",
        "outputId": "2ed5d7a0-be14-49be-d76f-62a135f2b6dd"
      },
      "execution_count": 91,
      "outputs": [
        {
          "output_type": "stream",
          "name": "stdout",
          "text": [
            "Lemmatized:  ['at', 'mcdonald', \"'s\", 'the', 'food', 'be', 'ok', 'and', 'the', 'service', 'be', 'bad', 'I', 'would', 'not', 'recommend', 'this', 'japanese', 'restaurant', 'to', 'anyone', 'I', 'love', 'this', 'restaurant', 'when', 'I', 'travel', 'to', 'thailand', 'last', 'summer', 'the', 'menu', 'of', 'loving', 'have', 'a', 'wide', 'variety', 'of', 'option', 'the', 'staff', 'be', 'friendly', 'and', 'helpful', 'at', 'google', \"'s\", 'employee', 'restaurant', 'the', 'ambiance', 'at', 'bella', 'italia', 'be', 'amazing', 'and', 'the', 'pasta', 'dish', 'be', 'delicious', 'I', 'have', 'a', 'terrible', 'experience', 'at', 'pizza', 'hut', 'the', 'pizza', 'be', 'burn', 'and', 'the', 'service', 'be', 'slow', 'the', 'sushi', 'at', 'sushi', 'express', 'be', 'always', 'fresh', 'and', 'flavorful', 'the', 'steakhouse', 'on', 'main', 'street', 'have', 'a', 'cozy', 'atmosphere', 'and', 'excellent', 'steak', 'the', 'dessert', 'selection', 'at', 'sweet', 'treat', 'be', 'to', 'die', 'for']\n"
          ]
        }
      ]
    },
    {
      "cell_type": "markdown",
      "source": [
        "# NER"
      ],
      "metadata": {
        "id": "lu4Gx-MjCnM9"
      }
    },
    {
      "cell_type": "markdown",
      "source": [
        "2. Create a new dataset with the cleaned text\n",
        "\n",
        "3. Create a function perform_ner() that will receive the text as argument and perform NER tagging on it. Use spacy en_core_web_sm\n",
        "\n"
      ],
      "metadata": {
        "id": "rkBL09dF2B0P"
      }
    },
    {
      "cell_type": "code",
      "source": [
        "clean_data = data.copy()\n",
        "\n",
        "from nltk import pos_tag, ne_chunk\n",
        "\n",
        "# Download necessary NLTK resources\n",
        "nltk.download('averaged_perceptron_tagger')\n",
        "nltk.download('maxent_ne_chunker')\n",
        "nltk.download('words')\n"
      ],
      "metadata": {
        "id": "IEbm1opEGJj0"
      },
      "execution_count": null,
      "outputs": []
    },
    {
      "cell_type": "code",
      "source": [
        "punctuation = set(string.punctuation)\n",
        "\n",
        "def  perform_ner(data):\n",
        "\n",
        "  clean_tokens = []\n",
        "  for doc in data:\n",
        "      tokens = word_tokenize(doc)\n",
        "      clean_tokens.extend([word for word in tokens if word not in punctuation])\n",
        "\n",
        "  tagged_tokens = pos_tag(clean_tokens)\n",
        "  named_entities = ne_chunk(tagged_tokens)\n",
        "\n",
        "  for entity in named_entities:\n",
        "        if hasattr(entity, 'label'):\n",
        "            print(' '.join(child[0] for child in entity), entity.label())\n",
        "\n",
        "perform_ner(clean_data['Review'])\n"
      ],
      "metadata": {
        "colab": {
          "base_uri": "https://localhost:8080/"
        },
        "id": "jzUpJjEK1o99",
        "outputId": "7d59a827-f5b3-41e8-a966-4bf924490f8f"
      },
      "execution_count": 110,
      "outputs": [
        {
          "output_type": "stream",
          "name": "stdout",
          "text": [
            "McDonald ORGANIZATION\n",
            "Japanese GPE\n",
            "Thailand GPE\n",
            "Loving GPE\n",
            "Google ORGANIZATION\n",
            "Bella Italia ORGANIZATION\n",
            "Pizza ORGANIZATION\n",
            "Sushi Express ORGANIZATION\n",
            "Main Street FACILITY\n",
            "Sweet Treats ORGANIZATION\n"
          ]
        }
      ]
    },
    {
      "cell_type": "markdown",
      "source": [
        "# POS"
      ],
      "metadata": {
        "id": "_-k6LogwCp6y"
      }
    },
    {
      "cell_type": "markdown",
      "source": [
        "4. Create a function perform_pos_tagging() that will receive the text as argument and perform POS tagging on it.\n",
        "\n"
      ],
      "metadata": {
        "id": "b6y-rhhXCHEM"
      }
    },
    {
      "cell_type": "code",
      "source": [
        "nltk.download('tagsets')\n",
        "nltk.download('averaged_perceptron_tagger')\n",
        "from nltk import pos_tag"
      ],
      "metadata": {
        "colab": {
          "base_uri": "https://localhost:8080/"
        },
        "id": "knvuB-x3CkHU",
        "outputId": "672aeaf7-4c72-45f7-8353-f3deaa538d6f"
      },
      "execution_count": 92,
      "outputs": [
        {
          "output_type": "stream",
          "name": "stderr",
          "text": [
            "[nltk_data] Downloading package tagsets to /root/nltk_data...\n",
            "[nltk_data]   Unzipping help/tagsets.zip.\n",
            "[nltk_data] Downloading package averaged_perceptron_tagger to\n",
            "[nltk_data]     /root/nltk_data...\n",
            "[nltk_data]   Package averaged_perceptron_tagger is already up-to-\n",
            "[nltk_data]       date!\n"
          ]
        }
      ]
    },
    {
      "cell_type": "code",
      "source": [
        "def  perform_pos_tagging(data):\n",
        "  tagged = pos_tag(data)\n",
        "  for word, tag in tagged:\n",
        "      print(f'Word: {word}, POS: {tag}')\n",
        "\n",
        "perform_pos_tagging(lower_data)"
      ],
      "metadata": {
        "colab": {
          "base_uri": "https://localhost:8080/"
        },
        "id": "8MCcwoxZCGYr",
        "outputId": "ddb5baf5-9668-455c-f8c3-8c477a540f66"
      },
      "execution_count": 98,
      "outputs": [
        {
          "output_type": "stream",
          "name": "stdout",
          "text": [
            "Word: at, POS: IN\n",
            "Word: mcdonald, POS: NN\n",
            "Word: 's, POS: POS\n",
            "Word: the, POS: DT\n",
            "Word: food, POS: NN\n",
            "Word: was, POS: VBD\n",
            "Word: ok, POS: JJ\n",
            "Word: and, POS: CC\n",
            "Word: the, POS: DT\n",
            "Word: service, POS: NN\n",
            "Word: was, POS: VBD\n",
            "Word: bad, POS: JJ\n",
            "Word: i, POS: NN\n",
            "Word: would, POS: MD\n",
            "Word: not, POS: RB\n",
            "Word: recommend, POS: VB\n",
            "Word: this, POS: DT\n",
            "Word: japanese, POS: JJ\n",
            "Word: restaurant, POS: NN\n",
            "Word: to, POS: TO\n",
            "Word: anyone, POS: NN\n",
            "Word: i, POS: NN\n",
            "Word: loved, POS: VBD\n",
            "Word: this, POS: DT\n",
            "Word: restaurant, POS: NN\n",
            "Word: when, POS: WRB\n",
            "Word: i, POS: NN\n",
            "Word: traveled, POS: VBD\n",
            "Word: to, POS: TO\n",
            "Word: thailand, POS: VB\n",
            "Word: last, POS: JJ\n",
            "Word: summer, POS: NN\n",
            "Word: the, POS: DT\n",
            "Word: menu, POS: NN\n",
            "Word: of, POS: IN\n",
            "Word: loving, POS: NN\n",
            "Word: has, POS: VBZ\n",
            "Word: a, POS: DT\n",
            "Word: wide, POS: JJ\n",
            "Word: variety, POS: NN\n",
            "Word: of, POS: IN\n",
            "Word: options, POS: NNS\n",
            "Word: the, POS: DT\n",
            "Word: staff, POS: NN\n",
            "Word: was, POS: VBD\n",
            "Word: friendly, POS: JJ\n",
            "Word: and, POS: CC\n",
            "Word: helpful, POS: JJ\n",
            "Word: at, POS: IN\n",
            "Word: google, POS: NN\n",
            "Word: 's, POS: POS\n",
            "Word: employees, POS: NNS\n",
            "Word: restaurant, POS: VBP\n",
            "Word: the, POS: DT\n",
            "Word: ambiance, POS: NN\n",
            "Word: at, POS: IN\n",
            "Word: bella, POS: NN\n",
            "Word: italia, POS: NN\n",
            "Word: is, POS: VBZ\n",
            "Word: amazing, POS: JJ\n",
            "Word: and, POS: CC\n",
            "Word: the, POS: DT\n",
            "Word: pasta, POS: NN\n",
            "Word: dishes, POS: NNS\n",
            "Word: are, POS: VBP\n",
            "Word: delicious, POS: JJ\n",
            "Word: i, POS: NNS\n",
            "Word: had, POS: VBD\n",
            "Word: a, POS: DT\n",
            "Word: terrible, POS: JJ\n",
            "Word: experience, POS: NN\n",
            "Word: at, POS: IN\n",
            "Word: pizza, POS: NN\n",
            "Word: hut, POS: VBP\n",
            "Word: the, POS: DT\n",
            "Word: pizza, POS: NN\n",
            "Word: was, POS: VBD\n",
            "Word: burnt, POS: JJ\n",
            "Word: and, POS: CC\n",
            "Word: the, POS: DT\n",
            "Word: service, POS: NN\n",
            "Word: was, POS: VBD\n",
            "Word: slow, POS: JJ\n",
            "Word: the, POS: DT\n",
            "Word: sushi, POS: NN\n",
            "Word: at, POS: IN\n",
            "Word: sushi, POS: NN\n",
            "Word: express, POS: NN\n",
            "Word: is, POS: VBZ\n",
            "Word: always, POS: RB\n",
            "Word: fresh, POS: JJ\n",
            "Word: and, POS: CC\n",
            "Word: flavorful, POS: JJ\n",
            "Word: the, POS: DT\n",
            "Word: steakhouse, POS: NN\n",
            "Word: on, POS: IN\n",
            "Word: main, POS: JJ\n",
            "Word: street, POS: NN\n",
            "Word: has, POS: VBZ\n",
            "Word: a, POS: DT\n",
            "Word: cozy, POS: NN\n",
            "Word: atmosphere, POS: RB\n",
            "Word: and, POS: CC\n",
            "Word: excellent, POS: JJ\n",
            "Word: steaks, POS: NNS\n",
            "Word: the, POS: DT\n",
            "Word: dessert, POS: NN\n",
            "Word: selection, POS: NN\n",
            "Word: at, POS: IN\n",
            "Word: sweet, POS: JJ\n",
            "Word: treats, POS: NNS\n",
            "Word: is, POS: VBZ\n",
            "Word: to, POS: TO\n",
            "Word: die, POS: VB\n",
            "Word: for, POS: IN\n"
          ]
        }
      ]
    },
    {
      "cell_type": "markdown",
      "source": [
        "5. Let’s apply the functions in the dataset, analyse the outputs applying it in the preprocessed data and in the raw data"
      ],
      "metadata": {
        "id": "P1rN8tzYFmrA"
      }
    },
    {
      "cell_type": "code",
      "source": [
        "print(\"For RAW DATA\\n\",\"*\"*30)\n",
        "print(perform_ner(clean_data['Review']))\n",
        "print(\"*\"*30)\n",
        "print(perform_pos_tagging(clean_data['Review']))\n",
        "print(\"For preprocessed\\n\",\"*\"*30)\n",
        "print(perform_ner(lower_data))\n",
        "print(\"*\"*30)\n",
        "print(perform_pos_tagging(lower_data))"
      ],
      "metadata": {
        "colab": {
          "base_uri": "https://localhost:8080/"
        },
        "id": "2PZa2-NaFmCI",
        "outputId": "687dda4a-bd44-4708-9b85-4b8547afd556"
      },
      "execution_count": 116,
      "outputs": [
        {
          "output_type": "stream",
          "name": "stdout",
          "text": [
            "For RAW DATA\n",
            " ******************************\n",
            "McDonald ORGANIZATION\n",
            "Japanese GPE\n",
            "Thailand GPE\n",
            "Loving GPE\n",
            "Google ORGANIZATION\n",
            "Bella Italia ORGANIZATION\n",
            "Pizza ORGANIZATION\n",
            "Sushi Express ORGANIZATION\n",
            "Main Street FACILITY\n",
            "Sweet Treats ORGANIZATION\n",
            "None\n",
            "******************************\n",
            "Word: At McDonald's the food was ok and the service was bad., POS: NNP\n",
            "Word: I would not recommend this Japanese restaurant to anyone., POS: NNP\n",
            "Word: I loved this restaurant when I traveled to Thailand last summer., POS: NNP\n",
            "Word: The menu of Loving has a wide variety of options., POS: NNP\n",
            "Word: The staff was friendly and helpful at Google's employees restaurant., POS: NNP\n",
            "Word: The ambiance at Bella Italia is amazing, and the pasta dishes are delicious., POS: NNP\n",
            "Word: I had a terrible experience at Pizza Hut. The pizza was burnt, and the service was slow., POS: NNP\n",
            "Word: The sushi at Sushi Express is always fresh and flavorful., POS: NNP\n",
            "Word: The steakhouse on Main Street has a cozy atmosphere and excellent steaks., POS: NNP\n",
            "Word: The dessert selection at Sweet Treats is to die for!, POS: NNP\n",
            "None\n",
            "For preprocessed\n",
            " ******************************\n",
            "None\n",
            "******************************\n",
            "Word: at, POS: IN\n",
            "Word: mcdonald, POS: NN\n",
            "Word: 's, POS: POS\n",
            "Word: the, POS: DT\n",
            "Word: food, POS: NN\n",
            "Word: was, POS: VBD\n",
            "Word: ok, POS: JJ\n",
            "Word: and, POS: CC\n",
            "Word: the, POS: DT\n",
            "Word: service, POS: NN\n",
            "Word: was, POS: VBD\n",
            "Word: bad, POS: JJ\n",
            "Word: i, POS: NN\n",
            "Word: would, POS: MD\n",
            "Word: not, POS: RB\n",
            "Word: recommend, POS: VB\n",
            "Word: this, POS: DT\n",
            "Word: japanese, POS: JJ\n",
            "Word: restaurant, POS: NN\n",
            "Word: to, POS: TO\n",
            "Word: anyone, POS: NN\n",
            "Word: i, POS: NN\n",
            "Word: loved, POS: VBD\n",
            "Word: this, POS: DT\n",
            "Word: restaurant, POS: NN\n",
            "Word: when, POS: WRB\n",
            "Word: i, POS: NN\n",
            "Word: traveled, POS: VBD\n",
            "Word: to, POS: TO\n",
            "Word: thailand, POS: VB\n",
            "Word: last, POS: JJ\n",
            "Word: summer, POS: NN\n",
            "Word: the, POS: DT\n",
            "Word: menu, POS: NN\n",
            "Word: of, POS: IN\n",
            "Word: loving, POS: NN\n",
            "Word: has, POS: VBZ\n",
            "Word: a, POS: DT\n",
            "Word: wide, POS: JJ\n",
            "Word: variety, POS: NN\n",
            "Word: of, POS: IN\n",
            "Word: options, POS: NNS\n",
            "Word: the, POS: DT\n",
            "Word: staff, POS: NN\n",
            "Word: was, POS: VBD\n",
            "Word: friendly, POS: JJ\n",
            "Word: and, POS: CC\n",
            "Word: helpful, POS: JJ\n",
            "Word: at, POS: IN\n",
            "Word: google, POS: NN\n",
            "Word: 's, POS: POS\n",
            "Word: employees, POS: NNS\n",
            "Word: restaurant, POS: VBP\n",
            "Word: the, POS: DT\n",
            "Word: ambiance, POS: NN\n",
            "Word: at, POS: IN\n",
            "Word: bella, POS: NN\n",
            "Word: italia, POS: NN\n",
            "Word: is, POS: VBZ\n",
            "Word: amazing, POS: JJ\n",
            "Word: and, POS: CC\n",
            "Word: the, POS: DT\n",
            "Word: pasta, POS: NN\n",
            "Word: dishes, POS: NNS\n",
            "Word: are, POS: VBP\n",
            "Word: delicious, POS: JJ\n",
            "Word: i, POS: NNS\n",
            "Word: had, POS: VBD\n",
            "Word: a, POS: DT\n",
            "Word: terrible, POS: JJ\n",
            "Word: experience, POS: NN\n",
            "Word: at, POS: IN\n",
            "Word: pizza, POS: NN\n",
            "Word: hut, POS: VBP\n",
            "Word: the, POS: DT\n",
            "Word: pizza, POS: NN\n",
            "Word: was, POS: VBD\n",
            "Word: burnt, POS: JJ\n",
            "Word: and, POS: CC\n",
            "Word: the, POS: DT\n",
            "Word: service, POS: NN\n",
            "Word: was, POS: VBD\n",
            "Word: slow, POS: JJ\n",
            "Word: the, POS: DT\n",
            "Word: sushi, POS: NN\n",
            "Word: at, POS: IN\n",
            "Word: sushi, POS: NN\n",
            "Word: express, POS: NN\n",
            "Word: is, POS: VBZ\n",
            "Word: always, POS: RB\n",
            "Word: fresh, POS: JJ\n",
            "Word: and, POS: CC\n",
            "Word: flavorful, POS: JJ\n",
            "Word: the, POS: DT\n",
            "Word: steakhouse, POS: NN\n",
            "Word: on, POS: IN\n",
            "Word: main, POS: JJ\n",
            "Word: street, POS: NN\n",
            "Word: has, POS: VBZ\n",
            "Word: a, POS: DT\n",
            "Word: cozy, POS: NN\n",
            "Word: atmosphere, POS: RB\n",
            "Word: and, POS: CC\n",
            "Word: excellent, POS: JJ\n",
            "Word: steaks, POS: NNS\n",
            "Word: the, POS: DT\n",
            "Word: dessert, POS: NN\n",
            "Word: selection, POS: NN\n",
            "Word: at, POS: IN\n",
            "Word: sweet, POS: JJ\n",
            "Word: treats, POS: NNS\n",
            "Word: is, POS: VBZ\n",
            "Word: to, POS: TO\n",
            "Word: die, POS: VB\n",
            "Word: for, POS: IN\n",
            "None\n"
          ]
        }
      ]
    },
    {
      "cell_type": "markdown",
      "source": [
        "# Exercise 2: Plotting The Word Embeddings"
      ],
      "metadata": {
        "id": "7Z6937jnH9Zj"
      }
    },
    {
      "cell_type": "code",
      "source": [
        "! pip install nltk gensim"
      ],
      "metadata": {
        "id": "d05cSOebJF1l"
      },
      "execution_count": null,
      "outputs": []
    },
    {
      "cell_type": "code",
      "source": [
        "import nltk\n",
        "from nltk.tokenize import word_tokenize\n",
        "from gensim.models import Word2Vec\n",
        "import gensim.downloader as api\n",
        "nltk.download('punkt')"
      ],
      "metadata": {
        "colab": {
          "base_uri": "https://localhost:8080/"
        },
        "id": "FIGFLaW9JGeC",
        "outputId": "40bc97d1-d517-4e7d-a33f-0143cdf64067"
      },
      "execution_count": 113,
      "outputs": [
        {
          "output_type": "stream",
          "name": "stderr",
          "text": [
            "[nltk_data] Downloading package punkt to /root/nltk_data...\n",
            "[nltk_data]   Package punkt is already up-to-date!\n"
          ]
        },
        {
          "output_type": "execute_result",
          "data": {
            "text/plain": [
              "True"
            ]
          },
          "metadata": {},
          "execution_count": 113
        }
      ]
    },
    {
      "cell_type": "code",
      "source": [
        "# Train Word2Vec model\n",
        "model = Word2Vec(sentences=tokens, vector_size=100, window=3, min_count=1, workers=6)\n",
        "\n",
        "# Access dimensions of the Word2Vec object\n",
        "vector_dimensions = model.wv.vector_size\n",
        "\n",
        "# Print dimensions\n",
        "print(\"Vector dimensions:\", vector_dimensions)"
      ],
      "metadata": {
        "colab": {
          "base_uri": "https://localhost:8080/"
        },
        "id": "i0WbL9eIJLwn",
        "outputId": "ec63d997-a47e-4389-8559-a5307b2d9a25"
      },
      "execution_count": 119,
      "outputs": [
        {
          "output_type": "stream",
          "name": "stdout",
          "text": [
            "Vector dimensions: 100\n"
          ]
        }
      ]
    },
    {
      "cell_type": "markdown",
      "source": [
        "The vector dimensions represent the size of the word vectors learned by the Word2Vec model. Each word in the vocabulary will be represented as a dense vector of this size. A larger vector size typically captures more semantic information about words but requires more computational resources."
      ],
      "metadata": {
        "id": "sG89JNNeLNOp"
      }
    },
    {
      "cell_type": "markdown",
      "source": [
        " Create a function plot_word_embeddings() that receives the word2vec object as argument and plots the embeddings dimensions in a grided plot. Use a scatter plot. Loop through the words and use annotate() method to add text labels to each point on the scatter plot."
      ],
      "metadata": {
        "id": "ZKI2trebOrcC"
      }
    },
    {
      "cell_type": "markdown",
      "source": [
        "Not using \"most_similar\" function"
      ],
      "metadata": {
        "id": "j4GWsQ3uQVf3"
      }
    },
    {
      "cell_type": "code",
      "source": [
        "import matplotlib.pyplot as plt\n",
        "from sklearn.decomposition import PCA\n",
        "\n",
        "def plot_word_embeddings(model):\n",
        "  # Extract word vectors and corresponding words from the model\n",
        "    word_vectors = model.wv.vectors\n",
        "    words = model.wv.index_to_key\n",
        " # Reduce dimensionality of word vectors for visualization\n",
        "    pca = PCA(n_components=2)\n",
        "    word_vectors_2d = pca.fit_transform(word_vectors)\n",
        "\n",
        "    # Plotting\n",
        "    plt.figure(figsize=(10, 8))\n",
        "    plt.scatter(word_vectors_2d[:, 0], word_vectors_2d[:, 1], alpha=0.5)\n",
        "    for i, word in enumerate(words):\n",
        "        plt.annotate(word, xy=(word_vectors_2d[i, 0], word_vectors_2d[i, 1]), fontsize=8)\n",
        "    plt.xlabel('Principal Component 1')\n",
        "    plt.ylabel('Principal Component 2')\n",
        "    plt.title('Word Embeddings Visualization')\n",
        "    plt.grid(True)\n",
        "    plt.show()\n",
        "\n",
        "\n",
        "plot_word_embeddings(model)"
      ],
      "metadata": {
        "colab": {
          "base_uri": "https://localhost:8080/",
          "height": 718
        },
        "id": "giPpubw6LOHk",
        "outputId": "2e6c46b1-2ea8-44bf-d701-64c37a19c54b"
      },
      "execution_count": 123,
      "outputs": [
        {
          "output_type": "display_data",
          "data": {
            "text/plain": [
              "<Figure size 1000x800 with 1 Axes>"
            ],
            "image/png": "[encoded data removed]"
          },
          "metadata": {}
        }
      ]
    },
    {
      "cell_type": "markdown",
      "source": [
        "I can not see any related words, maybe because the way how this is ploted doesn't show the context of the phrase were the word comes from"
      ],
      "metadata": {
        "id": "h6YzxtjFQYgs"
      }
    },
    {
      "cell_type": "markdown",
      "source": [
        "Using the \"most_similar\" function"
      ],
      "metadata": {
        "id": "NoAATs0AQGMz"
      }
    },
    {
      "cell_type": "code",
      "source": [
        "import matplotlib.pyplot as plt\n",
        "from sklearn.decomposition import PCA\n",
        "\n",
        "def plot_word_embeddings(model, word):\n",
        "    # Extract word vectors and corresponding words from the model\n",
        "    word_vectors = [model.wv[word]] + [model.wv[sim_word] for sim_word, _ in model.wv.most_similar(word)]\n",
        "    words = [word] + [sim_word for sim_word, _ in model.wv.most_similar(word)]\n",
        "\n",
        "    # Reduce dimensionality of word vectors for visualization\n",
        "    pca = PCA(n_components=2)\n",
        "    word_vectors_2d = pca.fit_transform(word_vectors)\n",
        "\n",
        "    # Plot word embeddings\n",
        "    plt.figure(figsize=(10, 8))\n",
        "    plt.scatter(word_vectors_2d[:, 0], word_vectors_2d[:, 1], alpha=0.5)\n",
        "    for i, word in enumerate(words):\n",
        "        plt.annotate(word, xy=(word_vectors_2d[i, 0], word_vectors_2d[i, 1]), fontsize=8)\n",
        "    plt.xlabel('Principal Component 1')\n",
        "    plt.ylabel('Principal Component 2')\n",
        "    plt.title(f'Word Embeddings Visualization for \"{word}\" and Its Most Similar Words')\n",
        "    plt.grid(True)\n",
        "    plt.show()\n",
        "\n",
        "# Example usage\n",
        "word_to_plot = 'McDonald'\n",
        "plot_word_embeddings(model, word_to_plot)\n"
      ],
      "metadata": {
        "colab": {
          "base_uri": "https://localhost:8080/",
          "height": 718
        },
        "id": "4R5D01-PPzWh",
        "outputId": "3c1dc1ee-f39f-4cf4-e7d1-1bb624c7b454"
      },
      "execution_count": 127,
      "outputs": [
        {
          "output_type": "display_data",
          "data": {
            "text/plain": [
              "<Figure size 1000x800 with 1 Axes>"
            ],
            "image/png": "[encoded data removed]"
          },
          "metadata": {}
        }
      ]
    },
    {
      "cell_type": "markdown",
      "source": [
        "here we can see some kind of correlation between the words, a reason for this can be that because we are  examining the learned semantic relationships encoded in the word vectors."
      ],
      "metadata": {
        "id": "mm4VFAEXRaPQ"
      }
    }
  ]
}