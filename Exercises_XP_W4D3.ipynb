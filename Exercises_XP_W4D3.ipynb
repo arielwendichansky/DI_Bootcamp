{
  "nbformat": 4,
  "nbformat_minor": 0,
  "metadata": {
    "colab": {
      "provenance": [],
      "authorship_tag": "ABX9TyPlJpOfKXRUtPdQyBl5bXy9",
      "include_colab_link": true
    },
    "kernelspec": {
      "name": "python3",
      "display_name": "Python 3"
    },
    "language_info": {
      "name": "python"
    }
  },
  "cells": [
    {
      "cell_type": "markdown",
      "metadata": {
        "id": "view-in-github",
        "colab_type": "text"
      },
      "source": [
        "<a href=\"https://colab.research.google.com/github/arielwendichansky/DI_Bootcamp/blob/master/Exercises_XP_W4D3.ipynb\" target=\"_parent\"><img src=\"https://colab.research.google.com/assets/colab-badge.svg\" alt=\"Open In Colab\"/></a>"
      ]
    },
    {
      "cell_type": "markdown",
      "source": [
        "Exercise 1 : Import A File From Kaggle"
      ],
      "metadata": {
        "id": "sxlKaHKY20mS"
      }
    },
    {
      "cell_type": "code",
      "execution_count": null,
      "metadata": {
        "id": "EK-_V_mYri9u"
      },
      "outputs": [],
      "source": [
        "import pandas as pd\n",
        "! pip install -q kaggle\n",
        "from google.colab import files\n",
        "\n",
        "files.upload()"
      ]
    },
    {
      "cell_type": "code",
      "source": [
        "! mkdir ~/.kaggle\n",
        "! cp kaggle.json ~/.kaggle/\n",
        "! chmod 600 ~/.kaggle/kaggle.json"
      ],
      "metadata": {
        "id": "-m14Wr1PzrsD"
      },
      "execution_count": 2,
      "outputs": []
    },
    {
      "cell_type": "code",
      "source": [
        "! kaggle datasets download -d brendan45774/test-file"
      ],
      "metadata": {
        "id": "HVOgLA4Rzxzo"
      },
      "execution_count": null,
      "outputs": []
    },
    {
      "cell_type": "code",
      "source": [
        "!unzip test-file.zip"
      ],
      "metadata": {
        "id": "b9YZtZ70z0s-"
      },
      "execution_count": null,
      "outputs": []
    },
    {
      "cell_type": "code",
      "source": [
        "df = pd.read_csv('tested.csv')\n",
        "\n",
        "\n",
        "print(df.head())"
      ],
      "metadata": {
        "id": "aOXTrquq1QRC"
      },
      "execution_count": null,
      "outputs": []
    },
    {
      "cell_type": "markdown",
      "source": [
        "Exercise 2: Importing A CSV File\n"
      ],
      "metadata": {
        "id": "X_z1r7Vl2ztE"
      }
    },
    {
      "cell_type": "code",
      "source": [
        "df = pd.read_csv('iris.data.txt')\n",
        "print(df.head(5))"
      ],
      "metadata": {
        "colab": {
          "base_uri": "https://localhost:8080/"
        },
        "id": "c2qT2e0x26Nk",
        "outputId": "50680529-df6c-4e36-d588-c30f1cbba3cf"
      },
      "execution_count": 8,
      "outputs": [
        {
          "output_type": "stream",
          "name": "stdout",
          "text": [
            "   5.1  3.5  1.4  0.2  Iris-setosa\n",
            "0  4.9  3.0  1.4  0.2  Iris-setosa\n",
            "1  4.7  3.2  1.3  0.2  Iris-setosa\n",
            "2  4.6  3.1  1.5  0.2  Iris-setosa\n",
            "3  5.0  3.6  1.4  0.2  Iris-setosa\n",
            "4  5.4  3.9  1.7  0.4  Iris-setosa\n"
          ]
        }
      ]
    },
    {
      "cell_type": "markdown",
      "source": [
        "Exercise 3: Reading JSON Data"
      ],
      "metadata": {
        "id": "7qvCwoA83-k5"
      }
    },
    {
      "cell_type": "code",
      "source": [
        "df = pd.read_json('posts.json')\n",
        "print(df.head(5))"
      ],
      "metadata": {
        "colab": {
          "base_uri": "https://localhost:8080/"
        },
        "id": "Y3YZlTZw3_bu",
        "outputId": "9b9e3ae6-aa9b-499a-a547-b8bbc80902b6"
      },
      "execution_count": 9,
      "outputs": [
        {
          "output_type": "stream",
          "name": "stdout",
          "text": [
            "   userId  id                                              title  \\\n",
            "0       1   1  sunt aut facere repellat provident occaecati e...   \n",
            "1       1   2                                       qui est esse   \n",
            "2       1   3  ea molestias quasi exercitationem repellat qui...   \n",
            "3       1   4                               eum et est occaecati   \n",
            "4       1   5                                 nesciunt quas odio   \n",
            "\n",
            "                                                body  \n",
            "0  quia et suscipit\\nsuscipit recusandae consequu...  \n",
            "1  est rerum tempore vitae\\nsequi sint nihil repr...  \n",
            "2  et iusto sed quo iure\\nvoluptatem occaecati om...  \n",
            "3  ullam et saepe reiciendis voluptatem adipisci\\...  \n",
            "4  repudiandae veniam quaerat sunt sed\\nalias aut...  \n"
          ]
        }
      ]
    },
    {
      "cell_type": "markdown",
      "source": [
        " Exercise 4: Loading Data From An Excel File"
      ],
      "metadata": {
        "id": "UrL8xQuv4YOq"
      }
    },
    {
      "cell_type": "code",
      "source": [
        "df = pd.read_excel('dummy_data_excel.xlsx')\n",
        "print(df.head(5))"
      ],
      "metadata": {
        "colab": {
          "base_uri": "https://localhost:8080/"
        },
        "id": "vSVIYyyI4ZDF",
        "outputId": "f8479414-f4a0-4c24-b63a-2189cd99033f"
      },
      "execution_count": 13,
      "outputs": [
        {
          "output_type": "stream",
          "name": "stdout",
          "text": [
            "      Name  Age  Salary\n",
            "0    Alice   25   50000\n",
            "1      Bob   30   60000\n",
            "2  Charlie   35   70000\n",
            "3    David   28   55000\n",
            "4    Emily   32   62000\n"
          ]
        }
      ]
    },
    {
      "cell_type": "markdown",
      "source": [
        "Exercise 5 : Export A Dataframe To Excel Format And JSON Format."
      ],
      "metadata": {
        "id": "fTtopBzU435R"
      }
    },
    {
      "cell_type": "code",
      "source": [
        "data = {\n",
        "    'Name': ['Alice', 'Bob', 'Charlie'],\n",
        "    'Age': [25, 30, 35],\n",
        "    'Salary': [50000, 60000, 70000]\n",
        "}\n",
        "\n",
        "df = pd.DataFrame(data)\n",
        "df.to_excel('dummy_data.xlsx', index=False)\n",
        "df.to_json('dummy_data.json')"
      ],
      "metadata": {
        "id": "tLHbc14D44yR"
      },
      "execution_count": 12,
      "outputs": []
    }
  ]
}