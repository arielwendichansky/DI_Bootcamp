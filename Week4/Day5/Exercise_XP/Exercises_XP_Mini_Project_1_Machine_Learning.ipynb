{
  "nbformat": 4,
  "nbformat_minor": 0,
  "metadata": {
    "colab": {
      "provenance": [],
      "authorship_tag": "ABX9TyOJDgKnxXKxqhIvbg6fBvC6",
      "include_colab_link": true
    },
    "kernelspec": {
      "name": "python3",
      "display_name": "Python 3"
    },
    "language_info": {
      "name": "python"
    }
  },
  "cells": [
    {
      "cell_type": "markdown",
      "metadata": {
        "id": "view-in-github",
        "colab_type": "text"
      },
      "source": [
        "<a href=\"https://colab.research.google.com/github/arielwendichansky/DI_Bootcamp/blob/master/Week4/Day4/Exercise_XP/Exercises_XP_Mini_Project_1_Machine_Learning.ipynb\" target=\"_parent\"><img src=\"https://colab.research.google.com/assets/colab-badge.svg\" alt=\"Open In Colab\"/></a>"
      ]
    },
    {
      "cell_type": "code",
      "execution_count": null,
      "metadata": {
        "id": "GUr-lxtJTCDi"
      },
      "outputs": [],
      "source": [
        "! pip install -q kaggle\n",
        "from google.colab import files\n",
        "\n",
        "files.upload()"
      ]
    },
    {
      "cell_type": "code",
      "source": [
        "! mkdir ~/.kaggle\n",
        "! cp kaggle.json ~/.kaggle/\n",
        "! chmod 600 ~/.kaggle/kaggle.json"
      ],
      "metadata": {
        "id": "tPvZDY20TGHy"
      },
      "execution_count": 2,
      "outputs": []
    },
    {
      "cell_type": "code",
      "source": [
        "! kaggle datasets download -d osmi/mental-health-in-tech-survey"
      ],
      "metadata": {
        "id": "hoj8zB26TQL7"
      },
      "execution_count": null,
      "outputs": []
    },
    {
      "cell_type": "code",
      "source": [
        "! unzip 'mental-health-in-tech-survey.zip'"
      ],
      "metadata": {
        "id": "mckbdYLqTdAH"
      },
      "execution_count": null,
      "outputs": []
    },
    {
      "cell_type": "code",
      "source": [
        "import pandas as pd\n",
        "\n",
        "df = pd.read_csv('survey.csv')\n",
        "print(df.head())"
      ],
      "metadata": {
        "id": "Fb_MRhvhTnMy"
      },
      "execution_count": null,
      "outputs": []
    },
    {
      "cell_type": "code",
      "source": [
        "# Removing unnecessary columns\n",
        "df = df.drop(columns='Timestamp')\n",
        "df = df.drop(columns='comments')\n",
        "df.head()"
      ],
      "metadata": {
        "colab": {
          "base_uri": "https://localhost:8080/",
          "height": 342
        },
        "id": "Pnt9nQNzT6tz",
        "outputId": "cbe9174e-54fe-4f26-e67c-dc5d2f7f96df"
      },
      "execution_count": 6,
      "outputs": [
        {
          "output_type": "execute_result",
          "data": {
            "text/plain": [
              "   Age  Gender         Country state self_employed family_history treatment  \\\n",
              "0   37  Female   United States    IL           NaN             No       Yes   \n",
              "1   44       M   United States    IN           NaN             No        No   \n",
              "2   32    Male          Canada   NaN           NaN             No        No   \n",
              "3   31    Male  United Kingdom   NaN           NaN            Yes       Yes   \n",
              "4   31    Male   United States    TX           NaN             No        No   \n",
              "\n",
              "  work_interfere    no_employees remote_work  ...   anonymity  \\\n",
              "0          Often            6-25          No  ...         Yes   \n",
              "1         Rarely  More than 1000          No  ...  Don't know   \n",
              "2         Rarely            6-25          No  ...  Don't know   \n",
              "3          Often          26-100          No  ...          No   \n",
              "4          Never         100-500         Yes  ...  Don't know   \n",
              "\n",
              "                leave mental_health_consequence phys_health_consequence  \\\n",
              "0       Somewhat easy                        No                      No   \n",
              "1          Don't know                     Maybe                      No   \n",
              "2  Somewhat difficult                        No                      No   \n",
              "3  Somewhat difficult                       Yes                     Yes   \n",
              "4          Don't know                        No                      No   \n",
              "\n",
              "      coworkers supervisor mental_health_interview phys_health_interview  \\\n",
              "0  Some of them        Yes                      No                 Maybe   \n",
              "1            No         No                      No                    No   \n",
              "2           Yes        Yes                     Yes                   Yes   \n",
              "3  Some of them         No                   Maybe                 Maybe   \n",
              "4  Some of them        Yes                     Yes                   Yes   \n",
              "\n",
              "  mental_vs_physical obs_consequence  \n",
              "0                Yes              No  \n",
              "1         Don't know              No  \n",
              "2                 No              No  \n",
              "3                 No             Yes  \n",
              "4         Don't know              No  \n",
              "\n",
              "[5 rows x 25 columns]"
            ],
            "text/html": [
              "\n",
              "  <div id=\"df-c2efbcb3-2759-48cd-804d-d898b9f06f08\" class=\"colab-df-container\">\n",
              "    <div>\n",
              "<style scoped>\n",
              "    .dataframe tbody tr th:only-of-type {\n",
              "        vertical-align: middle;\n",
              "    }\n",
              "\n",
              "    .dataframe tbody tr th {\n",
              "        vertical-align: top;\n",
              "    }\n",
              "\n",
              "    .dataframe thead th {\n",
              "        text-align: right;\n",
              "    }\n",
              "</style>\n",
              "<table border=\"1\" class=\"dataframe\">\n",
              "  <thead>\n",
              "    <tr style=\"text-align: right;\">\n",
              "      <th></th>\n",
              "      <th>Age</th>\n",
              "      <th>Gender</th>\n",
              "      <th>Country</th>\n",
              "      <th>state</th>\n",
              "      <th>self_employed</th>\n",
              "      <th>family_history</th>\n",
              "      <th>treatment</th>\n",
              "      <th>work_interfere</th>\n",
              "      <th>no_employees</th>\n",
              "      <th>remote_work</th>\n",
              "      <th>...</th>\n",
              "      <th>anonymity</th>\n",
              "      <th>leave</th>\n",
              "      <th>mental_health_consequence</th>\n",
              "      <th>phys_health_consequence</th>\n",
              "      <th>coworkers</th>\n",
              "      <th>supervisor</th>\n",
              "      <th>mental_health_interview</th>\n",
              "      <th>phys_health_interview</th>\n",
              "      <th>mental_vs_physical</th>\n",
              "      <th>obs_consequence</th>\n",
              "    </tr>\n",
              "  </thead>\n",
              "  <tbody>\n",
              "    <tr>\n",
              "      <th>0</th>\n",
              "      <td>37</td>\n",
              "      <td>Female</td>\n",
              "      <td>United States</td>\n",
              "      <td>IL</td>\n",
              "      <td>NaN</td>\n",
              "      <td>No</td>\n",
              "      <td>Yes</td>\n",
              "      <td>Often</td>\n",
              "      <td>6-25</td>\n",
              "      <td>No</td>\n",
              "      <td>...</td>\n",
              "      <td>Yes</td>\n",
              "      <td>Somewhat easy</td>\n",
              "      <td>No</td>\n",
              "      <td>No</td>\n",
              "      <td>Some of them</td>\n",
              "      <td>Yes</td>\n",
              "      <td>No</td>\n",
              "      <td>Maybe</td>\n",
              "      <td>Yes</td>\n",
              "      <td>No</td>\n",
              "    </tr>\n",
              "    <tr>\n",
              "      <th>1</th>\n",
              "      <td>44</td>\n",
              "      <td>M</td>\n",
              "      <td>United States</td>\n",
              "      <td>IN</td>\n",
              "      <td>NaN</td>\n",
              "      <td>No</td>\n",
              "      <td>No</td>\n",
              "      <td>Rarely</td>\n",
              "      <td>More than 1000</td>\n",
              "      <td>No</td>\n",
              "      <td>...</td>\n",
              "      <td>Don't know</td>\n",
              "      <td>Don't know</td>\n",
              "      <td>Maybe</td>\n",
              "      <td>No</td>\n",
              "      <td>No</td>\n",
              "      <td>No</td>\n",
              "      <td>No</td>\n",
              "      <td>No</td>\n",
              "      <td>Don't know</td>\n",
              "      <td>No</td>\n",
              "    </tr>\n",
              "    <tr>\n",
              "      <th>2</th>\n",
              "      <td>32</td>\n",
              "      <td>Male</td>\n",
              "      <td>Canada</td>\n",
              "      <td>NaN</td>\n",
              "      <td>NaN</td>\n",
              "      <td>No</td>\n",
              "      <td>No</td>\n",
              "      <td>Rarely</td>\n",
              "      <td>6-25</td>\n",
              "      <td>No</td>\n",
              "      <td>...</td>\n",
              "      <td>Don't know</td>\n",
              "      <td>Somewhat difficult</td>\n",
              "      <td>No</td>\n",
              "      <td>No</td>\n",
              "      <td>Yes</td>\n",
              "      <td>Yes</td>\n",
              "      <td>Yes</td>\n",
              "      <td>Yes</td>\n",
              "      <td>No</td>\n",
              "      <td>No</td>\n",
              "    </tr>\n",
              "    <tr>\n",
              "      <th>3</th>\n",
              "      <td>31</td>\n",
              "      <td>Male</td>\n",
              "      <td>United Kingdom</td>\n",
              "      <td>NaN</td>\n",
              "      <td>NaN</td>\n",
              "      <td>Yes</td>\n",
              "      <td>Yes</td>\n",
              "      <td>Often</td>\n",
              "      <td>26-100</td>\n",
              "      <td>No</td>\n",
              "      <td>...</td>\n",
              "      <td>No</td>\n",
              "      <td>Somewhat difficult</td>\n",
              "      <td>Yes</td>\n",
              "      <td>Yes</td>\n",
              "      <td>Some of them</td>\n",
              "      <td>No</td>\n",
              "      <td>Maybe</td>\n",
              "      <td>Maybe</td>\n",
              "      <td>No</td>\n",
              "      <td>Yes</td>\n",
              "    </tr>\n",
              "    <tr>\n",
              "      <th>4</th>\n",
              "      <td>31</td>\n",
              "      <td>Male</td>\n",
              "      <td>United States</td>\n",
              "      <td>TX</td>\n",
              "      <td>NaN</td>\n",
              "      <td>No</td>\n",
              "      <td>No</td>\n",
              "      <td>Never</td>\n",
              "      <td>100-500</td>\n",
              "      <td>Yes</td>\n",
              "      <td>...</td>\n",
              "      <td>Don't know</td>\n",
              "      <td>Don't know</td>\n",
              "      <td>No</td>\n",
              "      <td>No</td>\n",
              "      <td>Some of them</td>\n",
              "      <td>Yes</td>\n",
              "      <td>Yes</td>\n",
              "      <td>Yes</td>\n",
              "      <td>Don't know</td>\n",
              "      <td>No</td>\n",
              "    </tr>\n",
              "  </tbody>\n",
              "</table>\n",
              "<p>5 rows × 25 columns</p>\n",
              "</div>\n",
              "    <div class=\"colab-df-buttons\">\n",
              "\n",
              "  <div class=\"colab-df-container\">\n",
              "    <button class=\"colab-df-convert\" onclick=\"convertToInteractive('df-c2efbcb3-2759-48cd-804d-d898b9f06f08')\"\n",
              "            title=\"Convert this dataframe to an interactive table.\"\n",
              "            style=\"display:none;\">\n",
              "\n",
              "  <svg xmlns=\"http://www.w3.org/2000/svg\" height=\"24px\" viewBox=\"0 -960 960 960\">\n",
              "    <path d=\"M120-120v-720h720v720H120Zm60-500h600v-160H180v160Zm220 220h160v-160H400v160Zm0 220h160v-160H400v160ZM180-400h160v-160H180v160Zm440 0h160v-160H620v160ZM180-180h160v-160H180v160Zm440 0h160v-160H620v160Z\"/>\n",
              "  </svg>\n",
              "    </button>\n",
              "\n",
              "  <style>\n",
              "    .colab-df-container {\n",
              "      display:flex;\n",
              "      gap: 12px;\n",
              "    }\n",
              "\n",
              "    .colab-df-convert {\n",
              "      background-color: #E8F0FE;\n",
              "      border: none;\n",
              "      border-radius: 50%;\n",
              "      cursor: pointer;\n",
              "      display: none;\n",
              "      fill: #1967D2;\n",
              "      height: 32px;\n",
              "      padding: 0 0 0 0;\n",
              "      width: 32px;\n",
              "    }\n",
              "\n",
              "    .colab-df-convert:hover {\n",
              "      background-color: #E2EBFA;\n",
              "      box-shadow: 0px 1px 2px rgba(60, 64, 67, 0.3), 0px 1px 3px 1px rgba(60, 64, 67, 0.15);\n",
              "      fill: #174EA6;\n",
              "    }\n",
              "\n",
              "    .colab-df-buttons div {\n",
              "      margin-bottom: 4px;\n",
              "    }\n",
              "\n",
              "    [theme=dark] .colab-df-convert {\n",
              "      background-color: #3B4455;\n",
              "      fill: #D2E3FC;\n",
              "    }\n",
              "\n",
              "    [theme=dark] .colab-df-convert:hover {\n",
              "      background-color: #434B5C;\n",
              "      box-shadow: 0px 1px 3px 1px rgba(0, 0, 0, 0.15);\n",
              "      filter: drop-shadow(0px 1px 2px rgba(0, 0, 0, 0.3));\n",
              "      fill: #FFFFFF;\n",
              "    }\n",
              "  </style>\n",
              "\n",
              "    <script>\n",
              "      const buttonEl =\n",
              "        document.querySelector('#df-c2efbcb3-2759-48cd-804d-d898b9f06f08 button.colab-df-convert');\n",
              "      buttonEl.style.display =\n",
              "        google.colab.kernel.accessAllowed ? 'block' : 'none';\n",
              "\n",
              "      async function convertToInteractive(key) {\n",
              "        const element = document.querySelector('#df-c2efbcb3-2759-48cd-804d-d898b9f06f08');\n",
              "        const dataTable =\n",
              "          await google.colab.kernel.invokeFunction('convertToInteractive',\n",
              "                                                    [key], {});\n",
              "        if (!dataTable) return;\n",
              "\n",
              "        const docLinkHtml = 'Like what you see? Visit the ' +\n",
              "          '<a target=\"_blank\" href=https://colab.research.google.com/notebooks/data_table.ipynb>data table notebook</a>'\n",
              "          + ' to learn more about interactive tables.';\n",
              "        element.innerHTML = '';\n",
              "        dataTable['output_type'] = 'display_data';\n",
              "        await google.colab.output.renderOutput(dataTable, element);\n",
              "        const docLink = document.createElement('div');\n",
              "        docLink.innerHTML = docLinkHtml;\n",
              "        element.appendChild(docLink);\n",
              "      }\n",
              "    </script>\n",
              "  </div>\n",
              "\n",
              "\n",
              "<div id=\"df-6f861c82-7802-476a-a38b-765613bef90d\">\n",
              "  <button class=\"colab-df-quickchart\" onclick=\"quickchart('df-6f861c82-7802-476a-a38b-765613bef90d')\"\n",
              "            title=\"Suggest charts\"\n",
              "            style=\"display:none;\">\n",
              "\n",
              "<svg xmlns=\"http://www.w3.org/2000/svg\" height=\"24px\"viewBox=\"0 0 24 24\"\n",
              "     width=\"24px\">\n",
              "    <g>\n",
              "        <path d=\"M19 3H5c-1.1 0-2 .9-2 2v14c0 1.1.9 2 2 2h14c1.1 0 2-.9 2-2V5c0-1.1-.9-2-2-2zM9 17H7v-7h2v7zm4 0h-2V7h2v10zm4 0h-2v-4h2v4z\"/>\n",
              "    </g>\n",
              "</svg>\n",
              "  </button>\n",
              "\n",
              "<style>\n",
              "  .colab-df-quickchart {\n",
              "      --bg-color: #E8F0FE;\n",
              "      --fill-color: #1967D2;\n",
              "      --hover-bg-color: #E2EBFA;\n",
              "      --hover-fill-color: #174EA6;\n",
              "      --disabled-fill-color: #AAA;\n",
              "      --disabled-bg-color: #DDD;\n",
              "  }\n",
              "\n",
              "  [theme=dark] .colab-df-quickchart {\n",
              "      --bg-color: #3B4455;\n",
              "      --fill-color: #D2E3FC;\n",
              "      --hover-bg-color: #434B5C;\n",
              "      --hover-fill-color: #FFFFFF;\n",
              "      --disabled-bg-color: #3B4455;\n",
              "      --disabled-fill-color: #666;\n",
              "  }\n",
              "\n",
              "  .colab-df-quickchart {\n",
              "    background-color: var(--bg-color);\n",
              "    border: none;\n",
              "    border-radius: 50%;\n",
              "    cursor: pointer;\n",
              "    display: none;\n",
              "    fill: var(--fill-color);\n",
              "    height: 32px;\n",
              "    padding: 0;\n",
              "    width: 32px;\n",
              "  }\n",
              "\n",
              "  .colab-df-quickchart:hover {\n",
              "    background-color: var(--hover-bg-color);\n",
              "    box-shadow: 0 1px 2px rgba(60, 64, 67, 0.3), 0 1px 3px 1px rgba(60, 64, 67, 0.15);\n",
              "    fill: var(--button-hover-fill-color);\n",
              "  }\n",
              "\n",
              "  .colab-df-quickchart-complete:disabled,\n",
              "  .colab-df-quickchart-complete:disabled:hover {\n",
              "    background-color: var(--disabled-bg-color);\n",
              "    fill: var(--disabled-fill-color);\n",
              "    box-shadow: none;\n",
              "  }\n",
              "\n",
              "  .colab-df-spinner {\n",
              "    border: 2px solid var(--fill-color);\n",
              "    border-color: transparent;\n",
              "    border-bottom-color: var(--fill-color);\n",
              "    animation:\n",
              "      spin 1s steps(1) infinite;\n",
              "  }\n",
              "\n",
              "  @keyframes spin {\n",
              "    0% {\n",
              "      border-color: transparent;\n",
              "      border-bottom-color: var(--fill-color);\n",
              "      border-left-color: var(--fill-color);\n",
              "    }\n",
              "    20% {\n",
              "      border-color: transparent;\n",
              "      border-left-color: var(--fill-color);\n",
              "      border-top-color: var(--fill-color);\n",
              "    }\n",
              "    30% {\n",
              "      border-color: transparent;\n",
              "      border-left-color: var(--fill-color);\n",
              "      border-top-color: var(--fill-color);\n",
              "      border-right-color: var(--fill-color);\n",
              "    }\n",
              "    40% {\n",
              "      border-color: transparent;\n",
              "      border-right-color: var(--fill-color);\n",
              "      border-top-color: var(--fill-color);\n",
              "    }\n",
              "    60% {\n",
              "      border-color: transparent;\n",
              "      border-right-color: var(--fill-color);\n",
              "    }\n",
              "    80% {\n",
              "      border-color: transparent;\n",
              "      border-right-color: var(--fill-color);\n",
              "      border-bottom-color: var(--fill-color);\n",
              "    }\n",
              "    90% {\n",
              "      border-color: transparent;\n",
              "      border-bottom-color: var(--fill-color);\n",
              "    }\n",
              "  }\n",
              "</style>\n",
              "\n",
              "  <script>\n",
              "    async function quickchart(key) {\n",
              "      const quickchartButtonEl =\n",
              "        document.querySelector('#' + key + ' button');\n",
              "      quickchartButtonEl.disabled = true;  // To prevent multiple clicks.\n",
              "      quickchartButtonEl.classList.add('colab-df-spinner');\n",
              "      try {\n",
              "        const charts = await google.colab.kernel.invokeFunction(\n",
              "            'suggestCharts', [key], {});\n",
              "      } catch (error) {\n",
              "        console.error('Error during call to suggestCharts:', error);\n",
              "      }\n",
              "      quickchartButtonEl.classList.remove('colab-df-spinner');\n",
              "      quickchartButtonEl.classList.add('colab-df-quickchart-complete');\n",
              "    }\n",
              "    (() => {\n",
              "      let quickchartButtonEl =\n",
              "        document.querySelector('#df-6f861c82-7802-476a-a38b-765613bef90d button');\n",
              "      quickchartButtonEl.style.display =\n",
              "        google.colab.kernel.accessAllowed ? 'block' : 'none';\n",
              "    })();\n",
              "  </script>\n",
              "</div>\n",
              "\n",
              "    </div>\n",
              "  </div>\n"
            ],
            "application/vnd.google.colaboratory.intrinsic+json": {
              "type": "dataframe",
              "variable_name": "df"
            }
          },
          "metadata": {},
          "execution_count": 6
        }
      ]
    },
    {
      "cell_type": "code",
      "source": [
        "print(df.describe())"
      ],
      "metadata": {
        "id": "h-i3O_heBC2t",
        "colab": {
          "base_uri": "https://localhost:8080/"
        },
        "outputId": "0726215c-4b2c-4cfd-ad6c-b280ea6bdedf"
      },
      "execution_count": 7,
      "outputs": [
        {
          "output_type": "stream",
          "name": "stdout",
          "text": [
            "                Age\n",
            "count  1.259000e+03\n",
            "mean   7.942815e+07\n",
            "std    2.818299e+09\n",
            "min   -1.726000e+03\n",
            "25%    2.700000e+01\n",
            "50%    3.100000e+01\n",
            "75%    3.600000e+01\n",
            "max    1.000000e+11\n"
          ]
        }
      ]
    },
    {
      "cell_type": "code",
      "source": [
        "print(df.dtypes)"
      ],
      "metadata": {
        "id": "z9UupNygu2Vr"
      },
      "execution_count": null,
      "outputs": []
    },
    {
      "cell_type": "code",
      "source": [
        "#Cleaning duplicated values\n",
        "print(df.duplicated().sum())\n",
        "df = df.drop_duplicates()\n",
        "print(df.duplicated().sum())"
      ],
      "metadata": {
        "id": "pj_xcvmmUo_-"
      },
      "execution_count": null,
      "outputs": []
    },
    {
      "cell_type": "code",
      "source": [
        "#Analyzing unique values in columns\n",
        "unique_values = df.Gender.unique()\n",
        "print(unique_values)\n",
        "# Define a mapping dictionary to standardize the values\n",
        "mapping = {\n",
        "    'Female': 'Female',\n",
        "    'M': 'Male',\n",
        "    'Male': 'Male',\n",
        "    'female': 'Female',\n",
        "    'male': 'Male',\n",
        "    'm': 'Male',\n",
        "    'f': 'Female',\n",
        "    'F': 'Female',\n",
        "    'Male-ish':'Male',\n",
        "    'maile': 'Male',\n",
        "}\n",
        "\n",
        "for value in unique_values:\n",
        "  if value not in mapping.keys():\n",
        "    mapping[value] = 'Other'\n",
        "\n",
        "# Replaceing the values using the mapping dictionary\n",
        "df['Gender'] = df['Gender'].replace(mapping)\n",
        "print(df.head())\n"
      ],
      "metadata": {
        "id": "mQy7x0yqWDen"
      },
      "execution_count": null,
      "outputs": []
    },
    {
      "cell_type": "code",
      "source": [
        "#Filling missing values in the self_employed column\n",
        "df['self_employed'].fillna('No', inplace=True)\n",
        "\n",
        "# Check for missing values in a DataFrame\n",
        "missing_data = df.isnull()\n",
        "print(missing_data.head())\n",
        "\n",
        "# Count missing values in each column\n",
        "missing_counts = df.isnull().sum()\n",
        "print(missing_counts)\n",
        "\n",
        "#Filling missing values in the self_employed column\n",
        "df['self_employed'].fillna('No', inplace=True)"
      ],
      "metadata": {
        "id": "6IYZ6hu2exzU"
      },
      "execution_count": null,
      "outputs": []
    },
    {
      "cell_type": "code",
      "source": [
        "# Identify and handle outliers in 'Age' column\n",
        "Q1 = df['Age'].quantile(0.25)\n",
        "Q3 = df['Age'].quantile(0.75)\n",
        "IQR = Q3 - Q1\n",
        "lower_bound = Q1 - 1.5 * IQR\n",
        "upper_bound = Q3 + 1.5 * IQR\n",
        "df = df[(df['Age'] >= lower_bound) & (df['Age'] <= upper_bound)]"
      ],
      "metadata": {
        "id": "WtGryG-m8TB-"
      },
      "execution_count": 12,
      "outputs": []
    },
    {
      "cell_type": "code",
      "source": [
        "# Box plot for a Age column\n",
        "import matplotlib.pyplot as plt\n",
        "\n",
        "plt.boxplot(df['Age'])\n",
        "plt.xlabel('Age')\n",
        "plt.ylabel('Values')\n",
        "plt.title('Box Plot of Age')\n",
        "plt.show()"
      ],
      "metadata": {
        "colab": {
          "base_uri": "https://localhost:8080/",
          "height": 472
        },
        "id": "BuzJeIplB2vc",
        "outputId": "8cb632fe-4ce2-4d42-eacc-ba00ecc23b14"
      },
      "execution_count": 13,
      "outputs": [
        {
          "output_type": "display_data",
          "data": {
            "text/plain": [
              "<Figure size 640x480 with 1 Axes>"
            ],
            "image/png": "[encoded data removed]"
          },
          "metadata": {}
        }
      ]
    },
    {
      "cell_type": "code",
      "source": [
        "df['Age_category'] = pd.cut(df['Age'],bins=[0,18,30,40,60])\n",
        "grouped_df = df.groupby('Age_category')['Age'].mean().reset_index()\n",
        "# Merge grouped_df with df based on 'Age_category'\n",
        "df = pd.merge(df, grouped_df, on='Age_category', how='left', suffixes=('', '_mean'))\n",
        "\n",
        "# Print the merged DataFrame\n",
        "print(df.head())"
      ],
      "metadata": {
        "id": "SXWeHUk-93l9"
      },
      "execution_count": null,
      "outputs": []
    },
    {
      "cell_type": "code",
      "source": [
        "from sklearn.preprocessing import LabelEncoder\n",
        "\n",
        "# Apply one-hot encoding for mental health consequences\n",
        "one_hot_encoded = pd.get_dummies(df, columns=['treatment','remote_work'])\n",
        "print(one_hot_encoded.head())"
      ],
      "metadata": {
        "id": "a8TvIQnHb5qj"
      },
      "execution_count": null,
      "outputs": []
    },
    {
      "cell_type": "code",
      "source": [
        "#Calculate correlation between values\n",
        "corr_matrix = one_hot_encoded.corr()\n",
        "print(corr_matrix)"
      ],
      "metadata": {
        "id": "5_xlN4qBpwFl"
      },
      "execution_count": null,
      "outputs": []
    },
    {
      "cell_type": "markdown",
      "source": [
        "What is the distribution of mental health conditions among different age groups in the tech industry?\n"
      ],
      "metadata": {
        "id": "Nu51vDLEMgsc"
      }
    },
    {
      "cell_type": "code",
      "source": [
        "#creating a new table where to see the age category and the mean from each\n",
        "mean_age_by_category = df.groupby('Age_category')['Age'].mean()\n",
        "\n",
        "# Create a DataFrame to display the results\n",
        "mean_age_table = pd.DataFrame({'Mean Age': mean_age_by_category})\n",
        "mean_age_table.index.name = 'Age Category'\n",
        "\n",
        "# Display the table\n",
        "print(mean_age_table)"
      ],
      "metadata": {
        "colab": {
          "base_uri": "https://localhost:8080/"
        },
        "id": "Tt7_VDGMUE-m",
        "outputId": "b7bf3a5d-61a9-4c6d-f0a5-8231cdb311f6"
      },
      "execution_count": 17,
      "outputs": [
        {
          "output_type": "stream",
          "name": "stdout",
          "text": [
            "               Mean Age\n",
            "Age Category           \n",
            "(0, 18]       18.000000\n",
            "(18, 30]      26.249123\n",
            "(30, 40]      34.657088\n",
            "(40, 60]      43.612069\n"
          ]
        }
      ]
    },
    {
      "cell_type": "code",
      "source": [
        "# draw a histogram of the age column\n",
        "df['Age'].hist(bins=20)\n",
        "\n",
        "plt.xlabel('Age')\n",
        "plt.ylabel('Frequency')\n",
        "plt.title('Distribution of Age')"
      ],
      "metadata": {
        "colab": {
          "base_uri": "https://localhost:8080/",
          "height": 490
        },
        "id": "vuUOHmzMMnU2",
        "outputId": "07bb7172-39fe-4bbd-ef71-64266f12862a"
      },
      "execution_count": 18,
      "outputs": [
        {
          "output_type": "execute_result",
          "data": {
            "text/plain": [
              "Text(0.5, 1.0, 'Distribution of Age')"
            ]
          },
          "metadata": {},
          "execution_count": 18
        },
        {
          "output_type": "display_data",
          "data": {
            "text/plain": [
              "<Figure size 640x480 with 1 Axes>"
            ],
            "image/png": "[encoded data removed]"
          },
          "metadata": {}
        }
      ]
    },
    {
      "cell_type": "code",
      "source": [
        "#Grouping Age and tratment and count the occurrences of mental health issues\n",
        "age_mental_health_counts = df.groupby('Age_category')['treatment'].value_counts(normalize=True)\n",
        "\n",
        "print(age_mental_health_counts)"
      ],
      "metadata": {
        "colab": {
          "base_uri": "https://localhost:8080/"
        },
        "id": "KujjBPbWXLYx",
        "outputId": "b79b3bfe-cde4-4b59-9948-ca6b53161428"
      },
      "execution_count": 19,
      "outputs": [
        {
          "output_type": "stream",
          "name": "stdout",
          "text": [
            "Age_category  treatment\n",
            "(0, 18]       No           0.571429\n",
            "              Yes          0.428571\n",
            "(18, 30]      No           0.524561\n",
            "              Yes          0.475439\n",
            "(30, 40]      Yes          0.515326\n",
            "              No           0.484674\n",
            "(40, 60]      Yes          0.594828\n",
            "              No           0.405172\n",
            "Name: treatment, dtype: float64\n"
          ]
        }
      ]
    },
    {
      "cell_type": "markdown",
      "source": [
        "How does the frequency of mental health issues vary by gender?"
      ],
      "metadata": {
        "id": "9uG324d5EMow"
      }
    },
    {
      "cell_type": "code",
      "source": [
        "#Grouping gender and tratment and count the occurrences of mental health issues\n",
        "gender_mental_health_counts = df.groupby('Gender')['treatment'].value_counts(normalize=True)\n",
        "\n",
        "print(gender_mental_health_counts)"
      ],
      "metadata": {
        "colab": {
          "base_uri": "https://localhost:8080/"
        },
        "id": "-lZDgyBJEN7r",
        "outputId": "bdea9a45-773e-439f-f4d9-9efe0c7582a6"
      },
      "execution_count": 20,
      "outputs": [
        {
          "output_type": "stream",
          "name": "stdout",
          "text": [
            "Gender  treatment\n",
            "Female  Yes          0.700855\n",
            "        No           0.299145\n",
            "Male    No           0.549733\n",
            "        Yes          0.450267\n",
            "Other   Yes          0.586957\n",
            "        No           0.413043\n",
            "Name: treatment, dtype: float64\n"
          ]
        }
      ]
    },
    {
      "cell_type": "code",
      "source": [
        "# Plot the results\n",
        "plt.figure(figsize=(10, 6))\n",
        "gender_mental_health_counts.unstack().plot(kind='bar', stacked=True)\n",
        "plt.xlabel('Gender')\n",
        "plt.ylabel('Normalized Frequency of Mental Health Issues')\n",
        "plt.title('Normalized Frequency of Mental Health Issues by Gender')\n",
        "plt.legend(title='Mental Health Issue')\n",
        "plt.xticks(rotation=0)\n",
        "plt.tight_layout()\n",
        "plt.show()\n",
        "\n",
        "gender_counts = df['Gender'].value_counts()\n",
        "\n",
        "# Print the counts\n",
        "print(\"Counts of each gender category:\")\n",
        "print(gender_counts)"
      ],
      "metadata": {
        "colab": {
          "base_uri": "https://localhost:8080/",
          "height": 597
        },
        "id": "fziM-WTqFHBc",
        "outputId": "4731029e-bab1-447c-c149-318a722550e4"
      },
      "execution_count": 21,
      "outputs": [
        {
          "output_type": "display_data",
          "data": {
            "text/plain": [
              "<Figure size 1000x600 with 0 Axes>"
            ]
          },
          "metadata": {}
        },
        {
          "output_type": "display_data",
          "data": {
            "text/plain": [
              "<Figure size 640x480 with 1 Axes>"
            ],
            "image/png": "[encoded data removed]"
          },
          "metadata": {}
        },
        {
          "output_type": "stream",
          "name": "stdout",
          "text": [
            "Counts of each gender category:\n",
            "Male      935\n",
            "Female    234\n",
            "Other      46\n",
            "Name: Gender, dtype: int64\n"
          ]
        }
      ]
    },
    {
      "cell_type": "markdown",
      "source": [
        "It can be seen that females and others in tech companies are more likely to have mental health problems rather than male"
      ],
      "metadata": {
        "id": "oOlwGDesHK1D"
      }
    },
    {
      "cell_type": "markdown",
      "source": [
        "Identify the countries with the highest and lowest reported rates of mental health issues in the tech industry.\n"
      ],
      "metadata": {
        "id": "KEFjyZKPILJs"
      }
    },
    {
      "cell_type": "code",
      "source": [
        "answer_per_country = df['Country'].value_counts()\n",
        "print(answer_per_country)\n",
        "answer_per_country = answer_per_country.to_dict()\n"
      ],
      "metadata": {
        "id": "Ve1p8ZtcIFJD"
      },
      "execution_count": null,
      "outputs": []
    },
    {
      "cell_type": "code",
      "source": [
        "health_country = {}\n",
        "for country,answ in answer_per_country.items():\n",
        "  # 26 is the mean from all of the answers\n",
        "  if answ >= 26:\n",
        "    #only considering countries with more than 20 answers and calculate the mean of treatment in these\n",
        "    #eq is a method that checks equality.\n",
        "    mean_yes_responses = df[df['Country']== country]['treatment'].eq('Yes').mean()\n",
        "    health_country[country] = mean_yes_responses\n",
        "health_country_series = pd.Series(health_country)\n",
        "print(health_country)"
      ],
      "metadata": {
        "colab": {
          "base_uri": "https://localhost:8080/"
        },
        "id": "44iN38EyaQdM",
        "outputId": "077eec24-dac5-473a-a9be-444626a6df4a"
      },
      "execution_count": 101,
      "outputs": [
        {
          "output_type": "stream",
          "name": "stdout",
          "text": [
            "{'United States': 0.5492371705963939, 'United Kingdom': 0.4888888888888889, 'Canada': 0.5138888888888888, 'Germany': 0.4666666666666667, 'Ireland': 0.48148148148148145, 'Netherlands': 0.34615384615384615}\n"
          ]
        }
      ]
    },
    {
      "cell_type": "code",
      "source": [
        "lowest_country = health_country_series.sort_values(ascending=True)\n",
        "print(lowest_country)"
      ],
      "metadata": {
        "colab": {
          "base_uri": "https://localhost:8080/"
        },
        "id": "ai-Chjt1p9dD",
        "outputId": "85292d97-affb-4b8a-f2a3-c1b779b96921"
      },
      "execution_count": 102,
      "outputs": [
        {
          "output_type": "stream",
          "name": "stdout",
          "text": [
            "Netherlands       0.346154\n",
            "Germany           0.466667\n",
            "Ireland           0.481481\n",
            "United Kingdom    0.488889\n",
            "Canada            0.513889\n",
            "United States     0.549237\n",
            "dtype: float64\n"
          ]
        }
      ]
    },
    {
      "cell_type": "markdown",
      "source": [
        "The Netherlands is the country with the lowest average of people with 34% out of 26 samples"
      ],
      "metadata": {
        "id": "GwvGQEfHqSeM"
      }
    },
    {
      "cell_type": "code",
      "source": [
        "highest_country = health_country_series.sort_values(ascending=False)\n",
        "print(highest_country)"
      ],
      "metadata": {
        "colab": {
          "base_uri": "https://localhost:8080/"
        },
        "id": "7lDdTB_0qk0S",
        "outputId": "8c148f04-2198-4ab0-d25d-ca82ac494c9f"
      },
      "execution_count": 103,
      "outputs": [
        {
          "output_type": "stream",
          "name": "stdout",
          "text": [
            "United States     0.549237\n",
            "Canada            0.513889\n",
            "United Kingdom    0.488889\n",
            "Ireland           0.481481\n",
            "Germany           0.466667\n",
            "Netherlands       0.346154\n",
            "dtype: float64\n"
          ]
        }
      ]
    },
    {
      "cell_type": "markdown",
      "source": [
        "On the other hand we have Australia with the highest one with 21 samples"
      ],
      "metadata": {
        "id": "ZY2U2_A4qob2"
      }
    },
    {
      "cell_type": "code",
      "source": [
        "us_mental = df[df['Country']== 'United States']\n",
        "print(us_mental)"
      ],
      "metadata": {
        "id": "nmOdpQ6ewLSZ"
      },
      "execution_count": null,
      "outputs": []
    },
    {
      "cell_type": "code",
      "source": [
        "unique_values_us = us_mental.state.unique()\n",
        "print(unique_values_us)"
      ],
      "metadata": {
        "id": "JHEud1U1z9mi"
      },
      "execution_count": null,
      "outputs": []
    },
    {
      "cell_type": "code",
      "source": [
        "us_mental_health = us_mental.groupby('Gender')['treatment'].value_counts(normalize=True)\n",
        "\n",
        "print(us_mental_health)"
      ],
      "metadata": {
        "colab": {
          "base_uri": "https://localhost:8080/"
        },
        "id": "EU9HNrJc1HOX",
        "outputId": "84b277dd-0853-4b8b-9331-9d595f9e32c5"
      },
      "execution_count": 28,
      "outputs": [
        {
          "output_type": "stream",
          "name": "stdout",
          "text": [
            "Gender  treatment\n",
            "Female  Yes          0.726190\n",
            "        No           0.273810\n",
            "Male    No           0.507634\n",
            "        Yes          0.492366\n",
            "Other   Yes          0.551724\n",
            "        No           0.448276\n",
            "Name: treatment, dtype: float64\n"
          ]
        }
      ]
    },
    {
      "cell_type": "code",
      "source": [
        "# Plot the results\n",
        "plt.figure(figsize=(10, 6))\n",
        "us_mental_health.unstack().plot(kind='bar', stacked=True)\n",
        "plt.xlabel('Gender')\n",
        "plt.ylabel('Normalized Frequency of Mental Health Issues')\n",
        "plt.title('Normalized Frequency of Mental Health Issues by Gender in the US')\n",
        "plt.legend(title='Mental Health Issue')\n",
        "plt.xticks(rotation=0)\n",
        "plt.tight_layout()\n",
        "plt.show()\n",
        "\n",
        "gender_counts = df['Gender'].value_counts()"
      ],
      "metadata": {
        "colab": {
          "base_uri": "https://localhost:8080/",
          "height": 505
        },
        "id": "JmxRu1EA1bH3",
        "outputId": "cc876ccf-5937-4045-e413-d4f80b29dd9c"
      },
      "execution_count": 29,
      "outputs": [
        {
          "output_type": "display_data",
          "data": {
            "text/plain": [
              "<Figure size 1000x600 with 0 Axes>"
            ]
          },
          "metadata": {}
        },
        {
          "output_type": "display_data",
          "data": {
            "text/plain": [
              "<Figure size 640x480 with 1 Axes>"
            ],
            "image/png": "[encoded data removed]"
          },
          "metadata": {}
        }
      ]
    },
    {
      "cell_type": "code",
      "source": [
        "# Calculate the count of responses per state\n",
        "answer_per_state = us_mental['state'].value_counts()\n",
        "\n",
        "# Filter the rows where the count is higher than 16\n",
        "filtered_states = answer_per_state[answer_per_state > 16]\n",
        "\n",
        "# Filter the rows of the DataFrame where the state count is higher than 16\n",
        "filtered_us_mental = us_mental[us_mental['state'].isin(filtered_states.index)]\n",
        "\n",
        "print(filtered_us_mental)"
      ],
      "metadata": {
        "id": "RYGXjDkcwzr4"
      },
      "execution_count": null,
      "outputs": []
    },
    {
      "cell_type": "code",
      "source": [
        "# Apply one-hot encoding for tratment to measure by state\n",
        "one_hot_encode_state = pd.get_dummies(filtered_us_mental, columns=['treatment'])\n",
        "filtered_us_mental = one_hot_encode_state.groupby('state')['treatment_Yes','treatment_No'].mean()\n",
        "# filtered_us_mental = filtered_us_mental.groupby('state').size()\n",
        "print(filtered_us_mental)"
      ],
      "metadata": {
        "colab": {
          "base_uri": "https://localhost:8080/"
        },
        "id": "pHHDBa504Vyc",
        "outputId": "79dbcbd7-3905-4e79-eafc-a112ed75f021"
      },
      "execution_count": 110,
      "outputs": [
        {
          "output_type": "stream",
          "name": "stdout",
          "text": [
            "       treatment_Yes  treatment_No\n",
            "state                             \n",
            "CA          0.620155      0.379845\n",
            "IL          0.678571      0.321429\n",
            "IN          0.480000      0.520000\n",
            "MA          0.473684      0.526316\n",
            "MI          0.454545      0.545455\n",
            "MN          0.631579      0.368421\n",
            "NY          0.535714      0.464286\n",
            "OH          0.703704      0.296296\n",
            "OR          0.615385      0.384615\n",
            "PA          0.464286      0.535714\n",
            "TN          0.409091      0.590909\n",
            "TX          0.568182      0.431818\n",
            "WA          0.585714      0.414286\n"
          ]
        },
        {
          "output_type": "stream",
          "name": "stderr",
          "text": [
            "<ipython-input-110-f19162e43a22>:3: FutureWarning: Indexing with multiple keys (implicitly converted to a tuple of keys) will be deprecated, use a list instead.\n",
            "  filtered_us_mental = one_hot_encode_state.groupby('state')['treatment_Yes','treatment_No'].mean()\n"
          ]
        }
      ]
    },
    {
      "cell_type": "code",
      "source": [
        "lowest_state = filtered_us_mental['treatment_Yes'].sort_values(ascending=True)\n",
        "print(lowest_state)"
      ],
      "metadata": {
        "colab": {
          "base_uri": "https://localhost:8080/"
        },
        "id": "gPR4Bq7w1y68",
        "outputId": "5d5ec121-a5c0-4797-f96b-49f48683ae8d"
      },
      "execution_count": 112,
      "outputs": [
        {
          "output_type": "stream",
          "name": "stdout",
          "text": [
            "state\n",
            "TN    0.409091\n",
            "MI    0.454545\n",
            "PA    0.464286\n",
            "MA    0.473684\n",
            "IN    0.480000\n",
            "NY    0.535714\n",
            "TX    0.568182\n",
            "WA    0.585714\n",
            "OR    0.615385\n",
            "CA    0.620155\n",
            "MN    0.631579\n",
            "IL    0.678571\n",
            "OH    0.703704\n",
            "Name: treatment_Yes, dtype: float64\n"
          ]
        }
      ]
    },
    {
      "cell_type": "code",
      "source": [
        "highest_state = filtered_us_mental['treatment_Yes'].sort_values(ascending=False)\n",
        "print(highest_state)"
      ],
      "metadata": {
        "colab": {
          "base_uri": "https://localhost:8080/"
        },
        "id": "Njo6juVQ9Luh",
        "outputId": "afd67c91-3015-440e-dcda-911c1e60676b"
      },
      "execution_count": 113,
      "outputs": [
        {
          "output_type": "stream",
          "name": "stdout",
          "text": [
            "state\n",
            "OH    0.703704\n",
            "IL    0.678571\n",
            "MN    0.631579\n",
            "CA    0.620155\n",
            "OR    0.615385\n",
            "WA    0.585714\n",
            "TX    0.568182\n",
            "NY    0.535714\n",
            "IN    0.480000\n",
            "MA    0.473684\n",
            "PA    0.464286\n",
            "MI    0.454545\n",
            "TN    0.409091\n",
            "Name: treatment_Yes, dtype: float64\n"
          ]
        }
      ]
    },
    {
      "cell_type": "markdown",
      "source": [
        "Ohio is the state in the US with the highest percentage of persons who work in a hightech company and need menthal treatments. On the other hand, Tennessee is the one with the lowest percentage."
      ],
      "metadata": {
        "id": "UWNMRDm09V1W"
      }
    }
  ]
}
