{
  "nbformat": 4,
  "nbformat_minor": 0,
  "metadata": {
    "colab": {
      "provenance": [],
      "authorship_tag": "ABX9TyOWca+JXBEcvru6g3jTl07H",
      "include_colab_link": true
    },
    "kernelspec": {
      "name": "python3",
      "display_name": "Python 3"
    },
    "language_info": {
      "name": "python"
    }
  },
  "cells": [
    {
      "cell_type": "markdown",
      "metadata": {
        "id": "view-in-github",
        "colab_type": "text"
      },
      "source": [
        "<a href=\"https://colab.research.google.com/github/arielwendichansky/DI_Bootcamp/blob/master/Exercises_XP_W4D4_Data_Preprocessing_%26_Transformation.ipynb\" target=\"_parent\"><img src=\"https://colab.research.google.com/assets/colab-badge.svg\" alt=\"Open In Colab\"/></a>"
      ]
    },
    {
      "cell_type": "markdown",
      "source": [
        "Exercise 1: Duplicate Detection And Removal"
      ],
      "metadata": {
        "id": "LYBTGjMUwXpg"
      }
    },
    {
      "cell_type": "code",
      "source": [
        "! kaggle datasets download -d brendan45774/test-file"
      ],
      "metadata": {
        "id": "x61BbByHuGDD"
      },
      "execution_count": null,
      "outputs": []
    },
    {
      "cell_type": "code",
      "execution_count": 1,
      "metadata": {
        "id": "c7cxtY7jsIt2"
      },
      "outputs": [],
      "source": [
        "import pandas as pd"
      ]
    },
    {
      "cell_type": "code",
      "source": [
        "! pip install -q kaggle\n",
        "from google.colab import files\n",
        "\n",
        "files.upload()\n"
      ],
      "metadata": {
        "id": "Zte_PKxNtDuW"
      },
      "execution_count": null,
      "outputs": []
    },
    {
      "cell_type": "code",
      "source": [
        "! mkdir ~/.kaggle\n",
        "\n",
        "! cp kaggle.json ~/.kaggle/\n",
        "\n",
        "! chmod 600 ~/.kaggle/kaggle.json"
      ],
      "metadata": {
        "id": "C2IEcCSOtHv4"
      },
      "execution_count": 3,
      "outputs": []
    },
    {
      "cell_type": "code",
      "source": [
        "!unzip test-file.zip"
      ],
      "metadata": {
        "id": "deBUuoAXuI9m"
      },
      "execution_count": null,
      "outputs": []
    },
    {
      "cell_type": "code",
      "source": [
        "# Load CSV file into a pandas DataFrame\n",
        "df = pd.read_csv('tested.csv')\n",
        "\n",
        "# Display the first few rows of the DataFrame\n",
        "print(df.head())"
      ],
      "metadata": {
        "colab": {
          "base_uri": "https://localhost:8080/"
        },
        "id": "dyYxPbE8uinU",
        "outputId": "946b5380-62c8-4edd-bd8b-a6371a64f70d"
      },
      "execution_count": 85,
      "outputs": [
        {
          "output_type": "stream",
          "name": "stdout",
          "text": [
            "   PassengerId  Survived  Pclass  \\\n",
            "0          892         0       3   \n",
            "1          893         1       3   \n",
            "2          894         0       2   \n",
            "3          895         0       3   \n",
            "4          896         1       3   \n",
            "\n",
            "                                           Name     Sex   Age  SibSp  Parch  \\\n",
            "0                              Kelly, Mr. James    male  34.5      0      0   \n",
            "1              Wilkes, Mrs. James (Ellen Needs)  female  47.0      1      0   \n",
            "2                     Myles, Mr. Thomas Francis    male  62.0      0      0   \n",
            "3                              Wirz, Mr. Albert    male  27.0      0      0   \n",
            "4  Hirvonen, Mrs. Alexander (Helga E Lindqvist)  female  22.0      1      1   \n",
            "\n",
            "    Ticket     Fare Cabin Embarked  \n",
            "0   330911   7.8292   NaN        Q  \n",
            "1   363272   7.0000   NaN        S  \n",
            "2   240276   9.6875   NaN        Q  \n",
            "3   315154   8.6625   NaN        S  \n",
            "4  3101298  12.2875   NaN        S  \n"
          ]
        }
      ]
    },
    {
      "cell_type": "code",
      "source": [
        "# Remove duplicate rows\n",
        "df = df.drop_duplicates()\n",
        "\n",
        "# Verify duplicates are removed\n",
        "print(df.duplicated().sum())"
      ],
      "metadata": {
        "id": "67We8oRWul4v"
      },
      "execution_count": null,
      "outputs": []
    },
    {
      "cell_type": "markdown",
      "source": [
        "Exercise 2: Handling Missing Values"
      ],
      "metadata": {
        "id": "J_m05QuLwMb4"
      }
    },
    {
      "cell_type": "code",
      "source": [
        "# Check for missing values in a DataFrame\n",
        "missing_data = df.isnull()\n",
        "print(missing_data.head())\n",
        "\n",
        "# Count missing values in each column\n",
        "missing_counts = df.isnull().sum()\n",
        "print(missing_counts)\n",
        "len(df)"
      ],
      "metadata": {
        "colab": {
          "base_uri": "https://localhost:8080/"
        },
        "id": "rCNgPu5awPuZ",
        "outputId": "59797015-625e-4f1b-df79-64fb8f99c7cc"
      },
      "execution_count": 9,
      "outputs": [
        {
          "output_type": "stream",
          "name": "stdout",
          "text": [
            "   PassengerId  Survived  Pclass   Name    Sex    Age  SibSp  Parch  Ticket  \\\n",
            "0        False     False   False  False  False  False  False  False   False   \n",
            "1        False     False   False  False  False  False  False  False   False   \n",
            "2        False     False   False  False  False  False  False  False   False   \n",
            "3        False     False   False  False  False  False  False  False   False   \n",
            "4        False     False   False  False  False  False  False  False   False   \n",
            "\n",
            "    Fare  Cabin  Embarked  \n",
            "0  False   True     False  \n",
            "1  False   True     False  \n",
            "2  False   True     False  \n",
            "3  False   True     False  \n",
            "4  False   True     False  \n",
            "PassengerId      0\n",
            "Survived         0\n",
            "Pclass           0\n",
            "Name             0\n",
            "Sex              0\n",
            "Age             86\n",
            "SibSp            0\n",
            "Parch            0\n",
            "Ticket           0\n",
            "Fare             1\n",
            "Cabin          327\n",
            "Embarked         0\n",
            "dtype: int64\n"
          ]
        },
        {
          "output_type": "execute_result",
          "data": {
            "text/plain": [
              "418"
            ]
          },
          "metadata": {},
          "execution_count": 9
        }
      ]
    },
    {
      "cell_type": "code",
      "source": [
        "# Save the number of rows before deletion\n",
        "rows_before_deletion = df.shape[0]\n",
        "\n",
        "# Remove rows with missing values\n",
        "df_cleaned = df.dropna(subset=['Cabin'])\n",
        "\n",
        "# Save the number of rows after deletion\n",
        "rows_after_deletion = df_cleaned.shape[0]\n",
        "\n",
        "# Calculate the number of rows deleted\n",
        "rows_deleted = rows_before_deletion - rows_after_deletion\n",
        "\n",
        "print(rows_deleted)\n",
        "\n",
        "missing_counts = df_cleaned.isnull().sum()\n",
        "print(missing_counts)"
      ],
      "metadata": {
        "id": "So6MnhwkxmV6"
      },
      "execution_count": null,
      "outputs": []
    },
    {
      "cell_type": "code",
      "source": [
        "# Fill missing values with the mean of the column\n",
        "df_filled = df.fillna(df['Age'].mean())\n",
        "missing_counts = df_filled.isnull().sum()\n",
        "print(missing_counts)"
      ],
      "metadata": {
        "id": "IPcmnQEVzJlE"
      },
      "execution_count": null,
      "outputs": []
    },
    {
      "cell_type": "code",
      "source": [
        "from sklearn.impute import KNNImputer\n",
        "# Separate numeric and categorical columns\n",
        "numeric_cols = df_cleaned.select_dtypes(include=['number']).columns\n",
        "categorical_cols = df_cleaned.select_dtypes(include=['object']).columns\n",
        "\n",
        "# One-hot encode categorical columns\n",
        "df_encoded = pd.get_dummies(df_cleaned, columns=categorical_cols)\n",
        "\n",
        "# Create an instance of KNNImputer\n",
        "imputer = KNNImputer(n_neighbors=2)\n",
        "\n",
        "# Impute missing values for the entire DataFrame\n",
        "df_imputed = imputer.fit_transform(df_encoded)\n",
        "\n",
        "# Convert the numpy array back to a DataFrame\n",
        "df_imputed = pd.DataFrame(df_imputed, columns=df_encoded.columns)\n",
        "\n",
        "# Count missing values after imputation\n",
        "missing_counts = df_imputed.isnull().sum()\n",
        "print(missing_counts)"
      ],
      "metadata": {
        "id": "QVV80PbiznsA"
      },
      "execution_count": null,
      "outputs": []
    },
    {
      "cell_type": "markdown",
      "source": [
        "Exercise 3: Feature Engineering"
      ],
      "metadata": {
        "id": "JHrlpbwp36YK"
      }
    },
    {
      "cell_type": "code",
      "source": [
        "# split the Name column into two columns using pd.Series.str.split()\n",
        "df[['Last Name', 'First Name']] = df['Name'].str.split(',', expand=True)\n",
        "\n",
        "# view the updated DataFrame\n",
        "print(df)"
      ],
      "metadata": {
        "id": "bdlxg2HF39Bw"
      },
      "execution_count": null,
      "outputs": []
    },
    {
      "cell_type": "code",
      "source": [
        "from sklearn.preprocessing import MinMaxScaler\n",
        "\n",
        "scaler = MinMaxScaler()\n",
        "df['Age_normalized'] = scaler.fit_transform(df[['Age']])\n",
        "print(df)"
      ],
      "metadata": {
        "id": "hZT9T3HB8o1j"
      },
      "execution_count": null,
      "outputs": []
    },
    {
      "cell_type": "markdown",
      "source": [
        "Exercise 4: Outlier Detection And Handling"
      ],
      "metadata": {
        "id": "KIzcUFux_YK8"
      }
    },
    {
      "cell_type": "code",
      "source": [
        "# Identify and handle outliers in 'Fare' column\n",
        "Q1 = df['Fare'].quantile(0.25)\n",
        "Q3 = df['Fare'].quantile(0.75)\n",
        "IQR = Q3 - Q1\n",
        "lower_bound = Q1 - 1.5 * IQR\n",
        "upper_bound = Q3 + 1.5 * IQR\n",
        "titanic_data = df[(df['Fare'] >= lower_bound) & (df['Fare'] <= upper_bound)]"
      ],
      "metadata": {
        "colab": {
          "base_uri": "https://localhost:8080/"
        },
        "id": "Zq9iv___AK3h",
        "outputId": "a6565c9a-1650-4bc6-dace-f09fd4186e3d"
      },
      "execution_count": 41,
      "outputs": [
        {
          "output_type": "stream",
          "name": "stdout",
          "text": [
            "66.9063\n"
          ]
        }
      ]
    },
    {
      "cell_type": "code",
      "source": [
        "# Identify and handle outliers in 'Fare' column\n",
        "Q1 = df['Age'].quantile(0.25)\n",
        "Q3 = df['Age'].quantile(0.75)\n",
        "IQR = Q3 - Q1\n",
        "lower_bound = Q1 - 1.5 * IQR\n",
        "upper_bound = Q3 + 1.5 * IQR\n",
        "titanic_data = df[(df['Age'] >= lower_bound) & (df['Age'] <= upper_bound)]\n"
      ],
      "metadata": {
        "id": "x_raTGinAMEr"
      },
      "execution_count": null,
      "outputs": []
    },
    {
      "cell_type": "code",
      "source": [
        "# Box Plot\n",
        "import seaborn as sns\n",
        "sns.boxplot(df['Fare'])"
      ],
      "metadata": {
        "colab": {
          "base_uri": "https://localhost:8080/",
          "height": 428
        },
        "id": "rn56rdWmBMOH",
        "outputId": "add87346-8cfb-4771-bd66-152b789cfaf8"
      },
      "execution_count": 86,
      "outputs": [
        {
          "output_type": "execute_result",
          "data": {
            "text/plain": [
              "<Axes: ylabel='Fare'>"
            ]
          },
          "metadata": {},
          "execution_count": 86
        },
        {
          "output_type": "display_data",
          "data": {
            "text/plain": [
              "<Figure size 640x480 with 1 Axes>"
            ],
            "image/png": "[encoded data removed]"
          },
          "metadata": {}
        }
      ]
    },
    {
      "cell_type": "code",
      "source": [
        "outliers = df[(df['Fare'] <= lower_bound) | (df['Fare'] >= upper_bound)]\n",
        "print('The following are the outliers in the boxplot: ')\n",
        "print(outliers['Fare'])"
      ],
      "metadata": {
        "colab": {
          "base_uri": "https://localhost:8080/"
        },
        "id": "wu4uV4hyFu7Y",
        "outputId": "7d88a127-e1df-4075-9316-d12d19baa7f0"
      },
      "execution_count": 87,
      "outputs": [
        {
          "output_type": "stream",
          "name": "stdout",
          "text": [
            "The following are the outliers in the boxplot: \n",
            "12      82.2667\n",
            "24     262.3750\n",
            "48      76.2917\n",
            "53     263.0000\n",
            "59     262.3750\n",
            "64     262.3750\n",
            "69     263.0000\n",
            "74     211.5000\n",
            "75     211.5000\n",
            "81     221.7792\n",
            "96      78.8500\n",
            "114    221.7792\n",
            "118     75.2417\n",
            "141    151.5500\n",
            "142    262.3750\n",
            "150     83.1583\n",
            "156    221.7792\n",
            "179     83.1583\n",
            "181     83.1583\n",
            "184    247.5208\n",
            "188     69.5500\n",
            "196    134.5000\n",
            "202    227.5250\n",
            "212     73.5000\n",
            "217    164.8667\n",
            "218    211.5000\n",
            "234     71.2833\n",
            "236     75.2500\n",
            "239    106.4250\n",
            "242    134.5000\n",
            "252    136.7792\n",
            "270     75.2417\n",
            "272    136.7792\n",
            "287     82.2667\n",
            "293     81.8583\n",
            "306    151.5500\n",
            "308     93.5000\n",
            "314    135.6333\n",
            "316    146.5208\n",
            "324    211.3375\n",
            "327     79.2000\n",
            "342     69.5500\n",
            "343    512.3292\n",
            "352     73.5000\n",
            "360     69.5500\n",
            "365     69.5500\n",
            "371    134.5000\n",
            "374     81.8583\n",
            "375    262.3750\n",
            "390     93.5000\n",
            "397     79.2000\n",
            "400    164.8667\n",
            "407    211.5000\n",
            "411     90.0000\n",
            "414    108.9000\n",
            "Name: Fare, dtype: float64\n"
          ]
        }
      ]
    },
    {
      "cell_type": "code",
      "source": [
        "# Before DataFrame\n",
        "print(len(df))\n",
        "\n",
        "# Drop rows containing outliers from the original DataFrame\n",
        "df = df.drop(outliers.index)\n",
        "sns.boxplot(df['Fare'])\n",
        "\n",
        "# After DataFrame\n",
        "print(len(df))\n"
      ],
      "metadata": {
        "colab": {
          "base_uri": "https://localhost:8080/",
          "height": 446
        },
        "id": "8l_KtO_8JQ3P",
        "outputId": "02f33174-d7f0-4cf9-fc55-0f277bfa7422"
      },
      "execution_count": 88,
      "outputs": [
        {
          "output_type": "stream",
          "name": "stdout",
          "text": [
            "418\n",
            "363\n"
          ]
        },
        {
          "output_type": "display_data",
          "data": {
            "text/plain": [
              "<Figure size 640x480 with 1 Axes>"
            ],
            "image/png": "[encoded data removed]"
          },
          "metadata": {}
        }
      ]
    },
    {
      "cell_type": "markdown",
      "source": [
        "Exercise 5: Data Standardization And Normalization\n"
      ],
      "metadata": {
        "id": "99zpYlFCKgIH"
      }
    },
    {
      "cell_type": "code",
      "source": [
        "# Get summary statistics for numerical columns\n",
        "summary_stats = df.describe()\n",
        "print(summary_stats['Age'])"
      ],
      "metadata": {
        "colab": {
          "base_uri": "https://localhost:8080/"
        },
        "id": "p4ujigweKi5f",
        "outputId": "ee15575d-062f-4162-f71f-8648a05b2c48"
      },
      "execution_count": 67,
      "outputs": [
        {
          "output_type": "stream",
          "name": "stdout",
          "text": [
            "count    330.000000\n",
            "mean      30.022727\n",
            "std       13.849584\n",
            "min        0.170000\n",
            "25%       21.000000\n",
            "50%       27.000000\n",
            "75%       39.000000\n",
            "max       64.000000\n",
            "Name: Age, dtype: float64\n"
          ]
        }
      ]
    },
    {
      "cell_type": "code",
      "source": [
        "import numpy as np\n",
        "import matplotlib.pyplot as plt\n",
        "from scipy.stats import norm\n",
        "import statistics\n",
        "\n",
        "# Plot between min and max Age with .001 steps.\n",
        "x_axis = np.arange(0, 64, 0.01)\n",
        "\n",
        "# Calculating mean and standard deviation\n",
        "mean = 30.022727\n",
        "sd = 13.849584\n",
        "\n",
        "plt.plot(x_axis, norm.pdf(x_axis, mean, sd))\n",
        "plt.show()\n"
      ],
      "metadata": {
        "colab": {
          "base_uri": "https://localhost:8080/",
          "height": 433
        },
        "id": "iGjKQZZAM9XV",
        "outputId": "5ff63129-68c2-4d59-af31-611549b9d318"
      },
      "execution_count": 71,
      "outputs": [
        {
          "output_type": "display_data",
          "data": {
            "text/plain": [
              "<Figure size 640x480 with 1 Axes>"
            ],
            "image/png": "[encoded data removed]"
          },
          "metadata": {}
        }
      ]
    },
    {
      "cell_type": "code",
      "source": [
        "# Standarizing the data\n",
        "# Z-Score\n",
        "df['Age'] = (df['Age'] - df['Age'].mean()) / df['Age'].std()\n",
        "print (df['Age'].reset_index())"
      ],
      "metadata": {
        "colab": {
          "base_uri": "https://localhost:8080/"
        },
        "id": "oN6xKD0bPdqG",
        "outputId": "90cc38b3-5404-4688-daf6-14fe37d36e75"
      },
      "execution_count": 75,
      "outputs": [
        {
          "output_type": "stream",
          "name": "stdout",
          "text": [
            "     index       Age\n",
            "0        0  0.323278\n",
            "1        1  1.225833\n",
            "2        2  2.308898\n",
            "3        3 -0.218254\n",
            "4        4 -0.579276\n",
            "..     ...       ...\n",
            "411    413       NaN\n",
            "412    414  0.648198\n",
            "413    415  0.612096\n",
            "414    416       NaN\n",
            "415    417       NaN\n",
            "\n",
            "[416 rows x 2 columns]\n"
          ]
        }
      ]
    },
    {
      "cell_type": "code",
      "source": [
        "#Normalizing data using min max\n",
        "from sklearn.preprocessing import MinMaxScaler\n",
        "\n",
        "scaler = MinMaxScaler()\n",
        "df['Age_normalized'] = scaler.fit_transform(df[['Age']])\n",
        "print(df)"
      ],
      "metadata": {
        "id": "qqd_-ldXSxuh"
      },
      "execution_count": null,
      "outputs": []
    },
    {
      "cell_type": "markdown",
      "source": [
        "Exercise 6: Feature Encoding"
      ],
      "metadata": {
        "id": "p5EtaFi8TH-7"
      }
    },
    {
      "cell_type": "code",
      "source": [
        "!pip install scikit-learn\n"
      ],
      "metadata": {
        "id": "KIjpA6bPhDOl"
      },
      "execution_count": null,
      "outputs": []
    },
    {
      "cell_type": "code",
      "source": [
        "# Identify categorical columns in the Titanic dataset, such as ‘Sex’ and ‘Embarked’.\n",
        "# Use one-hot encoding for nominal variables and label encoding for ordinal variables.\n",
        "# Integrate the encoded features back into the main dataset.\n",
        "\n",
        "from sklearn.preprocessing import LabelEncoder\n",
        "\n",
        "# Separate categorical columns\n",
        "categorical_columns = ['Sex', 'Embarked']\n",
        "\n",
        "# Apply one-hot encoding for nominal variables and label encoding for ordinal variables\n",
        "for col in categorical_cols:\n",
        "    # Check if the column is ordinal or nominal based on domain knowledge\n",
        "    if col in ['Sex']:  # Assuming 'Sex' is nominal\n",
        "        # One-hot encoding for nominal variables\n",
        "        one_hot_encoded = pd.get_dummies(df[col], prefix=col)\n",
        "        titanic_df = pd.concat([df, one_hot_encoded], axis=1)\n",
        "        titanic_df.drop(col, axis=1, inplace=True)\n",
        "    elif col in ['Embarked']:  # Assuming 'Embarked' is nominal\n",
        "        # Label encoding for ordinal variables\n",
        "        label_encoder = LabelEncoder()\n",
        "        titanic_df[col] = label_encoder.fit_transform(titanic_df[col])\n",
        "\n"
      ],
      "metadata": {
        "id": "YSRh1-IDTI-T"
      },
      "execution_count": 83,
      "outputs": []
    },
    {
      "cell_type": "code",
      "source": [
        "print(titanic_df.head())\n"
      ],
      "metadata": {
        "colab": {
          "base_uri": "https://localhost:8080/"
        },
        "id": "2UvndAp1hx9B",
        "outputId": "db6f6aef-429a-425b-f0f3-f4cffecbd4cf"
      },
      "execution_count": 89,
      "outputs": [
        {
          "output_type": "stream",
          "name": "stdout",
          "text": [
            "   PassengerId  Survived  Pclass  \\\n",
            "0          892         0       3   \n",
            "1          893         1       3   \n",
            "2          894         0       2   \n",
            "3          895         0       3   \n",
            "4          896         1       3   \n",
            "\n",
            "                                           Name       Age  SibSp  Parch  \\\n",
            "0                              Kelly, Mr. James  0.323278      0      0   \n",
            "1              Wilkes, Mrs. James (Ellen Needs)  1.225833      1      0   \n",
            "2                     Myles, Mr. Thomas Francis  2.308898      0      0   \n",
            "3                              Wirz, Mr. Albert -0.218254      0      0   \n",
            "4  Hirvonen, Mrs. Alexander (Helga E Lindqvist) -0.579276      1      1   \n",
            "\n",
            "    Ticket     Fare Cabin  Embarked  Sex_female  Sex_male  \n",
            "0   330911   7.8292   NaN         1           0         1  \n",
            "1   363272   7.0000   NaN         2           1         0  \n",
            "2   240276   9.6875   NaN         1           0         1  \n",
            "3   315154   8.6625   NaN         2           0         1  \n",
            "4  3101298  12.2875   NaN         2           1         0  \n"
          ]
        }
      ]
    },
    {
      "cell_type": "code",
      "source": [
        "df['Age_category'] = pd.cut(df['Age'],bins=[0,18,40,60,90])\n",
        "grouped_df = df.groupby('Age_category')['Age'].mean().reset_index()\n",
        "\n",
        "\n",
        "# Merge grouped_df with df based on 'Age_category'\n",
        "df = pd.merge(df, grouped_df, on='Age_category', how='left', suffixes=('', '_mean'))\n",
        "\n",
        "# Print the merged DataFrame\n",
        "print(df.head())"
      ],
      "metadata": {
        "colab": {
          "base_uri": "https://localhost:8080/"
        },
        "id": "v9DVXMqIjEjp",
        "outputId": "336fd185-9845-425c-e131-dd8caffb57eb"
      },
      "execution_count": 94,
      "outputs": [
        {
          "output_type": "stream",
          "name": "stdout",
          "text": [
            "   PassengerId  Survived  Pclass  \\\n",
            "0          892         0       3   \n",
            "1          893         1       3   \n",
            "2          894         0       2   \n",
            "3          895         0       3   \n",
            "4          896         1       3   \n",
            "\n",
            "                                           Name     Sex   Age  SibSp  Parch  \\\n",
            "0                              Kelly, Mr. James    male  34.5      0      0   \n",
            "1              Wilkes, Mrs. James (Ellen Needs)  female  47.0      1      0   \n",
            "2                     Myles, Mr. Thomas Francis    male  62.0      0      0   \n",
            "3                              Wirz, Mr. Albert    male  27.0      0      0   \n",
            "4  Hirvonen, Mrs. Alexander (Helga E Lindqvist)  female  22.0      1      1   \n",
            "\n",
            "    Ticket     Fare Cabin Embarked Age_category   Age_mean  \n",
            "0   330911   7.8292   NaN        Q     (18, 40]  27.061453  \n",
            "1   363272   7.0000   NaN        S     (40, 60]  47.244681  \n",
            "2   240276   9.6875   NaN        Q     (60, 90]  62.100000  \n",
            "3   315154   8.6625   NaN        S     (18, 40]  27.061453  \n",
            "4  3101298  12.2875   NaN        S     (18, 40]  27.061453  \n"
          ]
        }
      ]
    }
  ]
}
