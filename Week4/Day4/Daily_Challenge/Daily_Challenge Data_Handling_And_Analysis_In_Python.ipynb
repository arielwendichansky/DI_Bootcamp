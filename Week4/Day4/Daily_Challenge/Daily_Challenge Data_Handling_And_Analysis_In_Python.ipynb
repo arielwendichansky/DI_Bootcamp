{
  "nbformat": 4,
  "nbformat_minor": 0,
  "metadata": {
    "colab": {
      "provenance": [],
      "authorship_tag": "ABX9TyMABFdKToSisyg8+ooKTMZs",
      "include_colab_link": true
    },
    "kernelspec": {
      "name": "python3",
      "display_name": "Python 3"
    },
    "language_info": {
      "name": "python"
    }
  },
  "cells": [
    {
      "cell_type": "markdown",
      "metadata": {
        "id": "view-in-github",
        "colab_type": "text"
      },
      "source": [
        "<a href=\"https://colab.research.google.com/github/arielwendichansky/DI_Bootcamp/blob/master/Daily_Challenge_Data_Handling_And_Analysis_In_Python.ipynb\" target=\"_parent\"><img src=\"https://colab.research.google.com/assets/colab-badge.svg\" alt=\"Open In Colab\"/></a>"
      ]
    },
    {
      "cell_type": "code",
      "execution_count": 2,
      "metadata": {
        "id": "1RTV_yiprk-Z"
      },
      "outputs": [],
      "source": [
        "import pandas as pd\n"
      ]
    },
    {
      "cell_type": "code",
      "source": [
        "! pip install -q kaggle\n",
        "from google.colab import files\n",
        "\n",
        "files.upload()\n"
      ],
      "metadata": {
        "id": "GkwZw0oPr0Ia"
      },
      "execution_count": null,
      "outputs": []
    },
    {
      "cell_type": "code",
      "source": [
        "! mkdir ~/.kaggle\n",
        "! cp kaggle.json ~/.kaggle/\n",
        "! chmod 600 ~/.kaggle/kaggle.json"
      ],
      "metadata": {
        "id": "I6Wt8xFhr2wU"
      },
      "execution_count": 4,
      "outputs": []
    },
    {
      "cell_type": "code",
      "source": [
        "! kaggle datasets download -d milanvaddoriya/data-science-job-salary"
      ],
      "metadata": {
        "id": "IJnRoZyyr7PO"
      },
      "execution_count": null,
      "outputs": []
    },
    {
      "cell_type": "code",
      "source": [
        "!unzip data-science-job-salary.zip"
      ],
      "metadata": {
        "id": "N94RAigesBzl"
      },
      "execution_count": null,
      "outputs": []
    },
    {
      "cell_type": "code",
      "source": [
        "df = pd.read_csv('datascience_salaries.csv')\n",
        "\n",
        "print(df.head())"
      ],
      "metadata": {
        "colab": {
          "base_uri": "https://localhost:8080/"
        },
        "id": "INUuH54tsKKh",
        "outputId": "464ef5e7-6b1b-479f-8ea5-41963ed17331"
      },
      "execution_count": 28,
      "outputs": [
        {
          "output_type": "stream",
          "name": "stdout",
          "text": [
            "   Unnamed: 0       job_title   job_type experience_level       location  \\\n",
            "0           0  Data scientist  Full Time           Senior  New York City   \n",
            "1           2  Data scientist  Full Time           Senior         Boston   \n",
            "2           3  Data scientist  Full Time           Senior         London   \n",
            "3           4  Data scientist  Full Time           Senior         Boston   \n",
            "4           5  Data scientist  Full Time           Senior  New York City   \n",
            "\n",
            "  salary_currency  salary  \n",
            "0             USD  149000  \n",
            "1             USD  120000  \n",
            "2             USD   68000  \n",
            "3             USD  120000  \n",
            "4             USD  149000  \n"
          ]
        }
      ]
    },
    {
      "cell_type": "code",
      "source": [
        "from sklearn.preprocessing import MinMaxScaler\n",
        "\n",
        "#Nomalizing data usin MinMax\n",
        "scaler = MinMaxScaler()\n",
        "df['normal_salary'] = scaler.fit_transform(df[['salary']])"
      ],
      "metadata": {
        "id": "jR4X0EL6sVzX"
      },
      "execution_count": 29,
      "outputs": []
    },
    {
      "cell_type": "code",
      "source": [
        "!pip install scikit-learn"
      ],
      "metadata": {
        "colab": {
          "base_uri": "https://localhost:8080/"
        },
        "id": "zbM0XMydsoMz",
        "outputId": "405306b9-f320-4456-f4f5-750740ac6c8c"
      },
      "execution_count": 23,
      "outputs": [
        {
          "output_type": "stream",
          "name": "stdout",
          "text": [
            "Requirement already satisfied: scikit-learn in /usr/local/lib/python3.10/dist-packages (1.2.2)\n",
            "Requirement already satisfied: numpy>=1.17.3 in /usr/local/lib/python3.10/dist-packages (from scikit-learn) (1.25.2)\n",
            "Requirement already satisfied: scipy>=1.3.2 in /usr/local/lib/python3.10/dist-packages (from scikit-learn) (1.11.4)\n",
            "Requirement already satisfied: joblib>=1.1.1 in /usr/local/lib/python3.10/dist-packages (from scikit-learn) (1.3.2)\n",
            "Requirement already satisfied: threadpoolctl>=2.0.0 in /usr/local/lib/python3.10/dist-packages (from scikit-learn) (3.3.0)\n"
          ]
        }
      ]
    },
    {
      "cell_type": "code",
      "source": [
        "df = df.drop_duplicates()\n",
        "df = df.drop(columns=['job_title'])"
      ],
      "metadata": {
        "id": "OqRDx9smuPuG"
      },
      "execution_count": 30,
      "outputs": []
    },
    {
      "cell_type": "code",
      "source": [
        "# Separate numeric and categorical columns\n",
        "numeric_cols = df.select_dtypes(include=['number']).columns\n",
        "categorical_cols = df.select_dtypes(include=['object']).columns\n",
        "\n",
        "# One-hot encode categorical columns\n",
        "df_encoded = pd.get_dummies(df, columns=categorical_cols)\n",
        "print(df_encoded.head())"
      ],
      "metadata": {
        "id": "tfqufDR5vO44"
      },
      "execution_count": null,
      "outputs": []
    },
    {
      "cell_type": "code",
      "source": [
        "from sklearn.decomposition import PCA\n",
        "#This line creates an instance of the PCA class with the parameter n_components set to 2. It specifies that we want to reduce the dimensionality of the data to 2 principal components. In other words, the data will be projected into a 2D space.\n",
        "pca = PCA(n_components=2)\n",
        "reduced_data = pca.fit_transform(df_encoded)"
      ],
      "metadata": {
        "id": "uBzxV_3gsoPY"
      },
      "execution_count": 35,
      "outputs": []
    },
    {
      "cell_type": "code",
      "source": [
        "# Group by 'experience_level' and calculate average and median salaries\n",
        "agg_data = df.groupby('experience_level')['salary'].agg(['mean', 'median']).reset_index()\n",
        "\n",
        "# Print the aggregated data\n",
        "print(agg_data)\n"
      ],
      "metadata": {
        "colab": {
          "base_uri": "https://localhost:8080/"
        },
        "id": "A2I9SX97wEWX",
        "outputId": "fa8aabb8-ea34-43be-be7b-9d25b42f12c3"
      },
      "execution_count": 37,
      "outputs": [
        {
          "output_type": "stream",
          "name": "stdout",
          "text": [
            "  experience_level          mean   median\n",
            "0            Entry  36111.111111  30000.0\n",
            "1        Executive  76076.923077  46000.0\n",
            "2              Mid  51786.885246  51000.0\n",
            "3           Senior  75088.033012  68000.0\n"
          ]
        }
      ]
    }
  ]
}
